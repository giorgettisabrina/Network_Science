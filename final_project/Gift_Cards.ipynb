{
  "nbformat": 4,
  "nbformat_minor": 0,
  "metadata": {
    "colab": {
      "name": "Gift_Cards.ipynb",
      "provenance": [],
      "authorship_tag": "ABX9TyNwx/MhiRtNAtz1hxyT4vdq",
      "include_colab_link": true
    },
    "kernelspec": {
      "name": "python3",
      "display_name": "Python 3"
    },
    "language_info": {
      "name": "python"
    }
  },
  "cells": [
    {
      "cell_type": "markdown",
      "metadata": {
        "id": "view-in-github",
        "colab_type": "text"
      },
      "source": [
        "<a href=\"https://colab.research.google.com/github/giorgettisabrina/network_science/blob/main/final_project/Gift_Cards.ipynb\" target=\"_parent\"><img src=\"https://colab.research.google.com/assets/colab-badge.svg\" alt=\"Open In Colab\"/></a>"
      ]
    },
    {
      "cell_type": "code",
      "execution_count": 2,
      "metadata": {
        "colab": {
          "base_uri": "https://localhost:8080/"
        },
        "id": "uRCariKOr_Z3",
        "outputId": "35c7e3b3-880f-4692-caa2-0e408f824ce4"
      },
      "outputs": [
        {
          "output_type": "stream",
          "name": "stdout",
          "text": [
            "Requirement already satisfied: sh in /usr/local/lib/python3.7/dist-packages (1.14.2)\n"
          ]
        }
      ],
      "source": [
        "import pandas as pd\n",
        "import matplotlib.pyplot as plt\n",
        "import networkx as nx\n",
        "import numpy as np\n",
        "import community as community_louvain\n",
        "import networkx.algorithms.community as nx_com\n",
        "from sklearn import preprocessing\n",
        "import matplotlib.colors as colors\n",
        "import matplotlib.cm as cmx\n",
        "import os\n",
        "import csv\n",
        "import gzip\n",
        "import requests\n",
        "!pip install sh\n",
        "from sh import gunzip\n",
        "import shutil\n",
        "from tqdm import tqdm\n",
        "from google.colab import files\n",
        "from pathlib import Path\n"
      ]
    },
    {
      "cell_type": "markdown",
      "source": [
        "## Functions "
      ],
      "metadata": {
        "id": "OjTYAvu5vu_B"
      }
    },
    {
      "cell_type": "code",
      "source": [
        "#cleaning the rank values\n",
        "def clean_rank (x):\n",
        "  if x[0] in ['1','2','3','4','5','6','7','8','9']:\n",
        "    comma_pos = x.find(\",\")\n",
        "    if comma_pos == -1:\n",
        "      val = x[:3]\n",
        "    else:\n",
        "      val = x[:(comma_pos + 4)]\n",
        "    return (int(val.replace(\",\",\"\")))\n",
        "  else:\n",
        "    return(np.nan)\n",
        "\n"
      ],
      "metadata": {
        "id": "7NPZVeaxvtcE"
      },
      "execution_count": 6,
      "outputs": []
    },
    {
      "cell_type": "code",
      "source": [
        "# Creating nodelist\n",
        "\n",
        "def create_nodes (df): \n",
        "  nodes = df[[\"ID\",\"also_buy\"]].explode(\"also_buy\", ignore_index=True)\n",
        "  nodes.columns = ['from_ID','to_ID'] \n",
        "  if os.path.isfile(\"/content/preprocess_Gift_Cards.json\"):\n",
        "   print(\"File exists\")\n",
        "  else:\n",
        "   nodes.to_json('nodelist_'+ category_name +'.json')\n",
        "   print(\" Created file! --> \",'nodelist_'+ category_name+'.json\\n\\n')\n",
        "  #files.download('nodelist_'+ category_name+'.json') to download the file\n",
        "  return nodes\n",
        "\n",
        "\n",
        "\n",
        "\n"
      ],
      "metadata": {
        "id": "fzvJAcBUwJVT"
      },
      "execution_count": 7,
      "outputs": []
    },
    {
      "cell_type": "markdown",
      "source": [
        "## Import data"
      ],
      "metadata": {
        "id": "bcZf4jeHs85T"
      }
    },
    {
      "cell_type": "code",
      "source": [
        "!wget https://raw.githubusercontent.com/giorgettisabrina/network_science/main/final_project/preprocess_Gift_Cards.json"
      ],
      "metadata": {
        "colab": {
          "base_uri": "https://localhost:8080/"
        },
        "id": "T357JJRIs3eW",
        "outputId": "2c2caea3-7624-4c61-fe74-599815962bdd"
      },
      "execution_count": 3,
      "outputs": [
        {
          "output_type": "stream",
          "name": "stdout",
          "text": [
            "--2022-01-06 20:27:47--  https://raw.githubusercontent.com/giorgettisabrina/network_science/main/final_project/preprocess_Gift_Cards.json\n",
            "Resolving raw.githubusercontent.com (raw.githubusercontent.com)... 185.199.108.133, 185.199.109.133, 185.199.110.133, ...\n",
            "Connecting to raw.githubusercontent.com (raw.githubusercontent.com)|185.199.108.133|:443... connected.\n",
            "HTTP request sent, awaiting response... 200 OK\n",
            "Length: 503981 (492K) [text/plain]\n",
            "Saving to: ‘preprocess_Gift_Cards.json.1’\n",
            "\n",
            "\r          preproces   0%[                    ]       0  --.-KB/s               \rpreprocess_Gift_Car 100%[===================>] 492.17K  --.-KB/s    in 0.04s   \n",
            "\n",
            "2022-01-06 20:27:47 (13.1 MB/s) - ‘preprocess_Gift_Cards.json.1’ saved [503981/503981]\n",
            "\n"
          ]
        }
      ]
    },
    {
      "cell_type": "code",
      "source": [
        "df = pd.read_json(\"/content/preprocess_Gift_Cards.json\")\n",
        "category_name = \"Gift_Cards\"\n",
        "df\n"
      ],
      "metadata": {
        "colab": {
          "base_uri": "https://localhost:8080/",
          "height": 1000
        },
        "id": "rUozvF6etRKv",
        "outputId": "36b45113-5654-41fb-dd9e-23a46d65298c"
      },
      "execution_count": 8,
      "outputs": [
        {
          "output_type": "execute_result",
          "data": {
            "text/html": [
              "\n",
              "  <div id=\"df-0a7dd1fc-a3f0-4e01-96d0-1c85049c91f0\">\n",
              "    <div class=\"colab-df-container\">\n",
              "      <div>\n",
              "<style scoped>\n",
              "    .dataframe tbody tr th:only-of-type {\n",
              "        vertical-align: middle;\n",
              "    }\n",
              "\n",
              "    .dataframe tbody tr th {\n",
              "        vertical-align: top;\n",
              "    }\n",
              "\n",
              "    .dataframe thead th {\n",
              "        text-align: right;\n",
              "    }\n",
              "</style>\n",
              "<table border=\"1\" class=\"dataframe\">\n",
              "  <thead>\n",
              "    <tr style=\"text-align: right;\">\n",
              "      <th></th>\n",
              "      <th>ID</th>\n",
              "      <th>title</th>\n",
              "      <th>also_buy</th>\n",
              "      <th>also_view</th>\n",
              "      <th>price</th>\n",
              "      <th>rank</th>\n",
              "      <th>brand</th>\n",
              "      <th>category</th>\n",
              "    </tr>\n",
              "  </thead>\n",
              "  <tbody>\n",
              "    <tr>\n",
              "      <th>0</th>\n",
              "      <td>B001H53QE4</td>\n",
              "      <td>Amazon.com Gift Cards, Pack of 50 (Old Version...</td>\n",
              "      <td>[B005ESMEBQ, B007EE5WNA, B007EE5OBU, B07HJHK8Y...</td>\n",
              "      <td>[B005ESMEBQ, B007EE5OBU, B007EE5WNA, B007EE60N...</td>\n",
              "      <td>$1,250.00</td>\n",
              "      <td>1,786 in Gift Cards (</td>\n",
              "      <td>Amazon</td>\n",
              "      <td>[Gift Cards, Gift Cards]</td>\n",
              "    </tr>\n",
              "    <tr>\n",
              "      <th>1</th>\n",
              "      <td>B004Q7CK9M</td>\n",
              "      <td>Amazon.com Gift Card in a Greeting Card (Vario...</td>\n",
              "      <td>[B01I4AHZXC, B01E4QQAWW, B01K8RJDEI, B005ESMF5...</td>\n",
              "      <td>[B01I4AHZXC, B071VCQJ24, B01E4QQAWW, B0091JKKL...</td>\n",
              "      <td>$40.00</td>\n",
              "      <td>1,547 in Gift Cards (</td>\n",
              "      <td>Amazon</td>\n",
              "      <td>[Gift Cards, Gift Cards]</td>\n",
              "    </tr>\n",
              "    <tr>\n",
              "      <th>2</th>\n",
              "      <td>B005DHN6E2</td>\n",
              "      <td>Amazon.com Gift Card in a Greeting Card</td>\n",
              "      <td>[B07193NQ2P, B0013J62P4, B0009HKEXM, B001S2PYQ...</td>\n",
              "      <td>[B00X4SHPFS, B071VCQJ24, B07193NQ2P, B01E4QQAW...</td>\n",
              "      <td>$500.00</td>\n",
              "      <td>2,303 in Gift Cards (</td>\n",
              "      <td>Amazon</td>\n",
              "      <td>[Gift Cards, Gift Cards]</td>\n",
              "    </tr>\n",
              "    <tr>\n",
              "      <th>3</th>\n",
              "      <td>B005ESMF5G</td>\n",
              "      <td>Amazon.com Gift Card in a Black Gift Box (Holi...</td>\n",
              "      <td>[B01K8RJDEI, B01K8RL0AI, B072BGQ8RR, B01K8RMDO...</td>\n",
              "      <td>[B01K8RJDEI, B01K8RL0AI, B072BGQ8RR, B0091JKKL...</td>\n",
              "      <td>$50.00</td>\n",
              "      <td>225 in Gift Cards (</td>\n",
              "      <td>Amazon</td>\n",
              "      <td>[Gift Cards, Gift Cards]</td>\n",
              "    </tr>\n",
              "    <tr>\n",
              "      <th>4</th>\n",
              "      <td>B005ESMFP6</td>\n",
              "      <td>Amazon.com Gift Cards, Pack of 3 (Various Desi...</td>\n",
              "      <td>[B00FTGTM5E, B00FTJI60I, B00O4I5S7O, B07HFTC8P...</td>\n",
              "      <td>[B01I4AHZXC, B005ESMEBQ, B007EE5I6G, B07GTFZZ2...</td>\n",
              "      <td>$300.00</td>\n",
              "      <td>1,697 in Gift Cards (</td>\n",
              "      <td>Amazon</td>\n",
              "      <td>[Gift Cards, Gift Cards]</td>\n",
              "    </tr>\n",
              "    <tr>\n",
              "      <th>...</th>\n",
              "      <td>...</td>\n",
              "      <td>...</td>\n",
              "      <td>...</td>\n",
              "      <td>...</td>\n",
              "      <td>...</td>\n",
              "      <td>...</td>\n",
              "      <td>...</td>\n",
              "      <td>...</td>\n",
              "    </tr>\n",
              "    <tr>\n",
              "      <th>279</th>\n",
              "      <td>B01GKZ3SQG</td>\n",
              "      <td>Torrid Gift Card</td>\n",
              "      <td>[B01CZ54L66, B06XDVXPG3, B016PARZEC, B00BXQIJ5...</td>\n",
              "      <td>[B00P9YGNGC, B01CZ54L66, B00BXQIJ5S, B06XDVXPG...</td>\n",
              "      <td>$25.00</td>\n",
              "      <td>706 in Gift Cards (</td>\n",
              "      <td>Torrid</td>\n",
              "      <td>[Gift Cards, Gift Cards]</td>\n",
              "    </tr>\n",
              "    <tr>\n",
              "      <th>280</th>\n",
              "      <td>B01GKZ3LH2</td>\n",
              "      <td>SF Giants Gift Card</td>\n",
              "      <td>[B00GOLH8PY, B077CZY68Z, B00BXQIJ5S, B00NVUDIZ...</td>\n",
              "      <td>[1613219105, B01LY1H08N, 1629373893, B00UNKLS1...</td>\n",
              "      <td>$25.00</td>\n",
              "      <td>2,077 in Gift Cards (</td>\n",
              "      <td>S.F. Products</td>\n",
              "      <td>[Gift Cards, Gift Cards]</td>\n",
              "    </tr>\n",
              "    <tr>\n",
              "      <th>281</th>\n",
              "      <td>B01GKZ37SA</td>\n",
              "      <td>Lands End Gift Card</td>\n",
              "      <td>[B00FGEHKXU, B00BXLW9J0, B00NVUDIZ0, B07JJHVWQ...</td>\n",
              "      <td>[B00FGEHKXU, B00MV9G76Y, B00BXLW9J0, B07JJHVWQ...</td>\n",
              "      <td>$25.00</td>\n",
              "      <td>1,120 in Gift Cards (</td>\n",
              "      <td>Lands' End</td>\n",
              "      <td>[Gift Cards, Gift Cards]</td>\n",
              "    </tr>\n",
              "    <tr>\n",
              "      <th>282</th>\n",
              "      <td>B01GOQIKRI</td>\n",
              "      <td>Smoothie King Gift Card</td>\n",
              "      <td>[B00NVUDIZ0, B00BXLVE6Y, B00O4I5S7O, B00GOLGWV...</td>\n",
              "      <td>[B00NVUDIZ0, B00GOLGWVK, B07JKD8G5X, B00BXLVE6...</td>\n",
              "      <td>$10.00</td>\n",
              "      <td>1,201 in Gift Cards (</td>\n",
              "      <td>QuickGifts</td>\n",
              "      <td>[Gift Cards, Gift Cards]</td>\n",
              "    </tr>\n",
              "    <tr>\n",
              "      <th>283</th>\n",
              "      <td>B01GP1W4LA</td>\n",
              "      <td>Go Play Golf Gift Card</td>\n",
              "      <td>[B077CZY68Z, B07JJHVWXL, B00NVUDIZ0, B01CZ54L6...</td>\n",
              "      <td>[B01LYIR4CZ, B077CZY68Z, B07736DNZB, B01N9AE2Z...</td>\n",
              "      <td>$50.00</td>\n",
              "      <td>1,015 in Gift Cards (</td>\n",
              "      <td>Go Play Golf by Fairway Rewards</td>\n",
              "      <td>[Gift Cards, Gift Cards]</td>\n",
              "    </tr>\n",
              "  </tbody>\n",
              "</table>\n",
              "<p>284 rows × 8 columns</p>\n",
              "</div>\n",
              "      <button class=\"colab-df-convert\" onclick=\"convertToInteractive('df-0a7dd1fc-a3f0-4e01-96d0-1c85049c91f0')\"\n",
              "              title=\"Convert this dataframe to an interactive table.\"\n",
              "              style=\"display:none;\">\n",
              "        \n",
              "  <svg xmlns=\"http://www.w3.org/2000/svg\" height=\"24px\"viewBox=\"0 0 24 24\"\n",
              "       width=\"24px\">\n",
              "    <path d=\"M0 0h24v24H0V0z\" fill=\"none\"/>\n",
              "    <path d=\"M18.56 5.44l.94 2.06.94-2.06 2.06-.94-2.06-.94-.94-2.06-.94 2.06-2.06.94zm-11 1L8.5 8.5l.94-2.06 2.06-.94-2.06-.94L8.5 2.5l-.94 2.06-2.06.94zm10 10l.94 2.06.94-2.06 2.06-.94-2.06-.94-.94-2.06-.94 2.06-2.06.94z\"/><path d=\"M17.41 7.96l-1.37-1.37c-.4-.4-.92-.59-1.43-.59-.52 0-1.04.2-1.43.59L10.3 9.45l-7.72 7.72c-.78.78-.78 2.05 0 2.83L4 21.41c.39.39.9.59 1.41.59.51 0 1.02-.2 1.41-.59l7.78-7.78 2.81-2.81c.8-.78.8-2.07 0-2.86zM5.41 20L4 18.59l7.72-7.72 1.47 1.35L5.41 20z\"/>\n",
              "  </svg>\n",
              "      </button>\n",
              "      \n",
              "  <style>\n",
              "    .colab-df-container {\n",
              "      display:flex;\n",
              "      flex-wrap:wrap;\n",
              "      gap: 12px;\n",
              "    }\n",
              "\n",
              "    .colab-df-convert {\n",
              "      background-color: #E8F0FE;\n",
              "      border: none;\n",
              "      border-radius: 50%;\n",
              "      cursor: pointer;\n",
              "      display: none;\n",
              "      fill: #1967D2;\n",
              "      height: 32px;\n",
              "      padding: 0 0 0 0;\n",
              "      width: 32px;\n",
              "    }\n",
              "\n",
              "    .colab-df-convert:hover {\n",
              "      background-color: #E2EBFA;\n",
              "      box-shadow: 0px 1px 2px rgba(60, 64, 67, 0.3), 0px 1px 3px 1px rgba(60, 64, 67, 0.15);\n",
              "      fill: #174EA6;\n",
              "    }\n",
              "\n",
              "    [theme=dark] .colab-df-convert {\n",
              "      background-color: #3B4455;\n",
              "      fill: #D2E3FC;\n",
              "    }\n",
              "\n",
              "    [theme=dark] .colab-df-convert:hover {\n",
              "      background-color: #434B5C;\n",
              "      box-shadow: 0px 1px 3px 1px rgba(0, 0, 0, 0.15);\n",
              "      filter: drop-shadow(0px 1px 2px rgba(0, 0, 0, 0.3));\n",
              "      fill: #FFFFFF;\n",
              "    }\n",
              "  </style>\n",
              "\n",
              "      <script>\n",
              "        const buttonEl =\n",
              "          document.querySelector('#df-0a7dd1fc-a3f0-4e01-96d0-1c85049c91f0 button.colab-df-convert');\n",
              "        buttonEl.style.display =\n",
              "          google.colab.kernel.accessAllowed ? 'block' : 'none';\n",
              "\n",
              "        async function convertToInteractive(key) {\n",
              "          const element = document.querySelector('#df-0a7dd1fc-a3f0-4e01-96d0-1c85049c91f0');\n",
              "          const dataTable =\n",
              "            await google.colab.kernel.invokeFunction('convertToInteractive',\n",
              "                                                     [key], {});\n",
              "          if (!dataTable) return;\n",
              "\n",
              "          const docLinkHtml = 'Like what you see? Visit the ' +\n",
              "            '<a target=\"_blank\" href=https://colab.research.google.com/notebooks/data_table.ipynb>data table notebook</a>'\n",
              "            + ' to learn more about interactive tables.';\n",
              "          element.innerHTML = '';\n",
              "          dataTable['output_type'] = 'display_data';\n",
              "          await google.colab.output.renderOutput(dataTable, element);\n",
              "          const docLink = document.createElement('div');\n",
              "          docLink.innerHTML = docLinkHtml;\n",
              "          element.appendChild(docLink);\n",
              "        }\n",
              "      </script>\n",
              "    </div>\n",
              "  </div>\n",
              "  "
            ],
            "text/plain": [
              "             ID  ...                  category\n",
              "0    B001H53QE4  ...  [Gift Cards, Gift Cards]\n",
              "1    B004Q7CK9M  ...  [Gift Cards, Gift Cards]\n",
              "2    B005DHN6E2  ...  [Gift Cards, Gift Cards]\n",
              "3    B005ESMF5G  ...  [Gift Cards, Gift Cards]\n",
              "4    B005ESMFP6  ...  [Gift Cards, Gift Cards]\n",
              "..          ...  ...                       ...\n",
              "279  B01GKZ3SQG  ...  [Gift Cards, Gift Cards]\n",
              "280  B01GKZ3LH2  ...  [Gift Cards, Gift Cards]\n",
              "281  B01GKZ37SA  ...  [Gift Cards, Gift Cards]\n",
              "282  B01GOQIKRI  ...  [Gift Cards, Gift Cards]\n",
              "283  B01GP1W4LA  ...  [Gift Cards, Gift Cards]\n",
              "\n",
              "[284 rows x 8 columns]"
            ]
          },
          "metadata": {},
          "execution_count": 8
        }
      ]
    },
    {
      "cell_type": "markdown",
      "source": [
        "## Nodes"
      ],
      "metadata": {
        "id": "Yo3x03U2GsKH"
      }
    },
    {
      "cell_type": "code",
      "source": [
        " # Creating nodes\n",
        " \n",
        "nodes = create_nodes(df)"
      ],
      "metadata": {
        "colab": {
          "base_uri": "https://localhost:8080/"
        },
        "id": "qttJ6qyWyZvk",
        "outputId": "e95a8911-a2e0-47cb-9350-7825a3e98c6d"
      },
      "execution_count": 9,
      "outputs": [
        {
          "output_type": "stream",
          "name": "stdout",
          "text": [
            "File exists\n"
          ]
        }
      ]
    },
    {
      "cell_type": "code",
      "source": [
        "nodes"
      ],
      "metadata": {
        "colab": {
          "base_uri": "https://localhost:8080/",
          "height": 424
        },
        "id": "9odIToqH5CJa",
        "outputId": "0c1ad435-056b-4f5c-edb2-0c955e819cf9"
      },
      "execution_count": 10,
      "outputs": [
        {
          "output_type": "execute_result",
          "data": {
            "text/html": [
              "\n",
              "  <div id=\"df-ef1ae474-ef96-4e06-87a8-e0a3cf988df4\">\n",
              "    <div class=\"colab-df-container\">\n",
              "      <div>\n",
              "<style scoped>\n",
              "    .dataframe tbody tr th:only-of-type {\n",
              "        vertical-align: middle;\n",
              "    }\n",
              "\n",
              "    .dataframe tbody tr th {\n",
              "        vertical-align: top;\n",
              "    }\n",
              "\n",
              "    .dataframe thead th {\n",
              "        text-align: right;\n",
              "    }\n",
              "</style>\n",
              "<table border=\"1\" class=\"dataframe\">\n",
              "  <thead>\n",
              "    <tr style=\"text-align: right;\">\n",
              "      <th></th>\n",
              "      <th>from_ID</th>\n",
              "      <th>to_ID</th>\n",
              "    </tr>\n",
              "  </thead>\n",
              "  <tbody>\n",
              "    <tr>\n",
              "      <th>0</th>\n",
              "      <td>B001H53QE4</td>\n",
              "      <td>B005ESMEBQ</td>\n",
              "    </tr>\n",
              "    <tr>\n",
              "      <th>1</th>\n",
              "      <td>B001H53QE4</td>\n",
              "      <td>B007EE5WNA</td>\n",
              "    </tr>\n",
              "    <tr>\n",
              "      <th>2</th>\n",
              "      <td>B001H53QE4</td>\n",
              "      <td>B007EE5OBU</td>\n",
              "    </tr>\n",
              "    <tr>\n",
              "      <th>3</th>\n",
              "      <td>B001H53QE4</td>\n",
              "      <td>B07HJHK8Y5</td>\n",
              "    </tr>\n",
              "    <tr>\n",
              "      <th>4</th>\n",
              "      <td>B001H53QE4</td>\n",
              "      <td>B016CDNMMG</td>\n",
              "    </tr>\n",
              "    <tr>\n",
              "      <th>...</th>\n",
              "      <td>...</td>\n",
              "      <td>...</td>\n",
              "    </tr>\n",
              "    <tr>\n",
              "      <th>19557</th>\n",
              "      <td>B01GP1W4LA</td>\n",
              "      <td>B01K8RK2KW</td>\n",
              "    </tr>\n",
              "    <tr>\n",
              "      <th>19558</th>\n",
              "      <td>B01GP1W4LA</td>\n",
              "      <td>B00NM3LQYG</td>\n",
              "    </tr>\n",
              "    <tr>\n",
              "      <th>19559</th>\n",
              "      <td>B01GP1W4LA</td>\n",
              "      <td>B015WZDBPS</td>\n",
              "    </tr>\n",
              "    <tr>\n",
              "      <th>19560</th>\n",
              "      <td>B01GP1W4LA</td>\n",
              "      <td>B01GKWEPBG</td>\n",
              "    </tr>\n",
              "    <tr>\n",
              "      <th>19561</th>\n",
              "      <td>B01GP1W4LA</td>\n",
              "      <td>B002P4NOU2</td>\n",
              "    </tr>\n",
              "  </tbody>\n",
              "</table>\n",
              "<p>19562 rows × 2 columns</p>\n",
              "</div>\n",
              "      <button class=\"colab-df-convert\" onclick=\"convertToInteractive('df-ef1ae474-ef96-4e06-87a8-e0a3cf988df4')\"\n",
              "              title=\"Convert this dataframe to an interactive table.\"\n",
              "              style=\"display:none;\">\n",
              "        \n",
              "  <svg xmlns=\"http://www.w3.org/2000/svg\" height=\"24px\"viewBox=\"0 0 24 24\"\n",
              "       width=\"24px\">\n",
              "    <path d=\"M0 0h24v24H0V0z\" fill=\"none\"/>\n",
              "    <path d=\"M18.56 5.44l.94 2.06.94-2.06 2.06-.94-2.06-.94-.94-2.06-.94 2.06-2.06.94zm-11 1L8.5 8.5l.94-2.06 2.06-.94-2.06-.94L8.5 2.5l-.94 2.06-2.06.94zm10 10l.94 2.06.94-2.06 2.06-.94-2.06-.94-.94-2.06-.94 2.06-2.06.94z\"/><path d=\"M17.41 7.96l-1.37-1.37c-.4-.4-.92-.59-1.43-.59-.52 0-1.04.2-1.43.59L10.3 9.45l-7.72 7.72c-.78.78-.78 2.05 0 2.83L4 21.41c.39.39.9.59 1.41.59.51 0 1.02-.2 1.41-.59l7.78-7.78 2.81-2.81c.8-.78.8-2.07 0-2.86zM5.41 20L4 18.59l7.72-7.72 1.47 1.35L5.41 20z\"/>\n",
              "  </svg>\n",
              "      </button>\n",
              "      \n",
              "  <style>\n",
              "    .colab-df-container {\n",
              "      display:flex;\n",
              "      flex-wrap:wrap;\n",
              "      gap: 12px;\n",
              "    }\n",
              "\n",
              "    .colab-df-convert {\n",
              "      background-color: #E8F0FE;\n",
              "      border: none;\n",
              "      border-radius: 50%;\n",
              "      cursor: pointer;\n",
              "      display: none;\n",
              "      fill: #1967D2;\n",
              "      height: 32px;\n",
              "      padding: 0 0 0 0;\n",
              "      width: 32px;\n",
              "    }\n",
              "\n",
              "    .colab-df-convert:hover {\n",
              "      background-color: #E2EBFA;\n",
              "      box-shadow: 0px 1px 2px rgba(60, 64, 67, 0.3), 0px 1px 3px 1px rgba(60, 64, 67, 0.15);\n",
              "      fill: #174EA6;\n",
              "    }\n",
              "\n",
              "    [theme=dark] .colab-df-convert {\n",
              "      background-color: #3B4455;\n",
              "      fill: #D2E3FC;\n",
              "    }\n",
              "\n",
              "    [theme=dark] .colab-df-convert:hover {\n",
              "      background-color: #434B5C;\n",
              "      box-shadow: 0px 1px 3px 1px rgba(0, 0, 0, 0.15);\n",
              "      filter: drop-shadow(0px 1px 2px rgba(0, 0, 0, 0.3));\n",
              "      fill: #FFFFFF;\n",
              "    }\n",
              "  </style>\n",
              "\n",
              "      <script>\n",
              "        const buttonEl =\n",
              "          document.querySelector('#df-ef1ae474-ef96-4e06-87a8-e0a3cf988df4 button.colab-df-convert');\n",
              "        buttonEl.style.display =\n",
              "          google.colab.kernel.accessAllowed ? 'block' : 'none';\n",
              "\n",
              "        async function convertToInteractive(key) {\n",
              "          const element = document.querySelector('#df-ef1ae474-ef96-4e06-87a8-e0a3cf988df4');\n",
              "          const dataTable =\n",
              "            await google.colab.kernel.invokeFunction('convertToInteractive',\n",
              "                                                     [key], {});\n",
              "          if (!dataTable) return;\n",
              "\n",
              "          const docLinkHtml = 'Like what you see? Visit the ' +\n",
              "            '<a target=\"_blank\" href=https://colab.research.google.com/notebooks/data_table.ipynb>data table notebook</a>'\n",
              "            + ' to learn more about interactive tables.';\n",
              "          element.innerHTML = '';\n",
              "          dataTable['output_type'] = 'display_data';\n",
              "          await google.colab.output.renderOutput(dataTable, element);\n",
              "          const docLink = document.createElement('div');\n",
              "          docLink.innerHTML = docLinkHtml;\n",
              "          element.appendChild(docLink);\n",
              "        }\n",
              "      </script>\n",
              "    </div>\n",
              "  </div>\n",
              "  "
            ],
            "text/plain": [
              "          from_ID       to_ID\n",
              "0      B001H53QE4  B005ESMEBQ\n",
              "1      B001H53QE4  B007EE5WNA\n",
              "2      B001H53QE4  B007EE5OBU\n",
              "3      B001H53QE4  B07HJHK8Y5\n",
              "4      B001H53QE4  B016CDNMMG\n",
              "...           ...         ...\n",
              "19557  B01GP1W4LA  B01K8RK2KW\n",
              "19558  B01GP1W4LA  B00NM3LQYG\n",
              "19559  B01GP1W4LA  B015WZDBPS\n",
              "19560  B01GP1W4LA  B01GKWEPBG\n",
              "19561  B01GP1W4LA  B002P4NOU2\n",
              "\n",
              "[19562 rows x 2 columns]"
            ]
          },
          "metadata": {},
          "execution_count": 10
        }
      ]
    },
    {
      "cell_type": "code",
      "source": [
        "#Cleaning entries df\n",
        "\n",
        "#rank - run once\n",
        "df[\"rank\"] = df[\"rank\"].apply(clean_rank)\n",
        "\n",
        "df = df.dropna() \\\n",
        "      .reset_index(drop=True)"
      ],
      "metadata": {
        "id": "VC-z1Faxv1BP"
      },
      "execution_count": 11,
      "outputs": []
    },
    {
      "cell_type": "code",
      "source": [
        "df\n"
      ],
      "metadata": {
        "colab": {
          "base_uri": "https://localhost:8080/",
          "height": 1000
        },
        "id": "EIB05C5042eU",
        "outputId": "e4211962-7a26-4256-a328-797f9ed2db52"
      },
      "execution_count": 12,
      "outputs": [
        {
          "output_type": "execute_result",
          "data": {
            "text/html": [
              "\n",
              "  <div id=\"df-8ea42b6b-f03f-4899-856c-c64e0267f1c4\">\n",
              "    <div class=\"colab-df-container\">\n",
              "      <div>\n",
              "<style scoped>\n",
              "    .dataframe tbody tr th:only-of-type {\n",
              "        vertical-align: middle;\n",
              "    }\n",
              "\n",
              "    .dataframe tbody tr th {\n",
              "        vertical-align: top;\n",
              "    }\n",
              "\n",
              "    .dataframe thead th {\n",
              "        text-align: right;\n",
              "    }\n",
              "</style>\n",
              "<table border=\"1\" class=\"dataframe\">\n",
              "  <thead>\n",
              "    <tr style=\"text-align: right;\">\n",
              "      <th></th>\n",
              "      <th>ID</th>\n",
              "      <th>title</th>\n",
              "      <th>also_buy</th>\n",
              "      <th>also_view</th>\n",
              "      <th>price</th>\n",
              "      <th>rank</th>\n",
              "      <th>brand</th>\n",
              "      <th>category</th>\n",
              "    </tr>\n",
              "  </thead>\n",
              "  <tbody>\n",
              "    <tr>\n",
              "      <th>0</th>\n",
              "      <td>B001H53QE4</td>\n",
              "      <td>Amazon.com Gift Cards, Pack of 50 (Old Version...</td>\n",
              "      <td>[B005ESMEBQ, B007EE5WNA, B007EE5OBU, B07HJHK8Y...</td>\n",
              "      <td>[B005ESMEBQ, B007EE5OBU, B007EE5WNA, B007EE60N...</td>\n",
              "      <td>$1,250.00</td>\n",
              "      <td>1786.0</td>\n",
              "      <td>Amazon</td>\n",
              "      <td>[Gift Cards, Gift Cards]</td>\n",
              "    </tr>\n",
              "    <tr>\n",
              "      <th>1</th>\n",
              "      <td>B004Q7CK9M</td>\n",
              "      <td>Amazon.com Gift Card in a Greeting Card (Vario...</td>\n",
              "      <td>[B01I4AHZXC, B01E4QQAWW, B01K8RJDEI, B005ESMF5...</td>\n",
              "      <td>[B01I4AHZXC, B071VCQJ24, B01E4QQAWW, B0091JKKL...</td>\n",
              "      <td>$40.00</td>\n",
              "      <td>1547.0</td>\n",
              "      <td>Amazon</td>\n",
              "      <td>[Gift Cards, Gift Cards]</td>\n",
              "    </tr>\n",
              "    <tr>\n",
              "      <th>2</th>\n",
              "      <td>B005DHN6E2</td>\n",
              "      <td>Amazon.com Gift Card in a Greeting Card</td>\n",
              "      <td>[B07193NQ2P, B0013J62P4, B0009HKEXM, B001S2PYQ...</td>\n",
              "      <td>[B00X4SHPFS, B071VCQJ24, B07193NQ2P, B01E4QQAW...</td>\n",
              "      <td>$500.00</td>\n",
              "      <td>2303.0</td>\n",
              "      <td>Amazon</td>\n",
              "      <td>[Gift Cards, Gift Cards]</td>\n",
              "    </tr>\n",
              "    <tr>\n",
              "      <th>3</th>\n",
              "      <td>B005ESMF5G</td>\n",
              "      <td>Amazon.com Gift Card in a Black Gift Box (Holi...</td>\n",
              "      <td>[B01K8RJDEI, B01K8RL0AI, B072BGQ8RR, B01K8RMDO...</td>\n",
              "      <td>[B01K8RJDEI, B01K8RL0AI, B072BGQ8RR, B0091JKKL...</td>\n",
              "      <td>$50.00</td>\n",
              "      <td>225.0</td>\n",
              "      <td>Amazon</td>\n",
              "      <td>[Gift Cards, Gift Cards]</td>\n",
              "    </tr>\n",
              "    <tr>\n",
              "      <th>4</th>\n",
              "      <td>B005ESMFP6</td>\n",
              "      <td>Amazon.com Gift Cards, Pack of 3 (Various Desi...</td>\n",
              "      <td>[B00FTGTM5E, B00FTJI60I, B00O4I5S7O, B07HFTC8P...</td>\n",
              "      <td>[B01I4AHZXC, B005ESMEBQ, B007EE5I6G, B07GTFZZ2...</td>\n",
              "      <td>$300.00</td>\n",
              "      <td>1697.0</td>\n",
              "      <td>Amazon</td>\n",
              "      <td>[Gift Cards, Gift Cards]</td>\n",
              "    </tr>\n",
              "    <tr>\n",
              "      <th>...</th>\n",
              "      <td>...</td>\n",
              "      <td>...</td>\n",
              "      <td>...</td>\n",
              "      <td>...</td>\n",
              "      <td>...</td>\n",
              "      <td>...</td>\n",
              "      <td>...</td>\n",
              "      <td>...</td>\n",
              "    </tr>\n",
              "    <tr>\n",
              "      <th>278</th>\n",
              "      <td>B01GKZ3SQG</td>\n",
              "      <td>Torrid Gift Card</td>\n",
              "      <td>[B01CZ54L66, B06XDVXPG3, B016PARZEC, B00BXQIJ5...</td>\n",
              "      <td>[B00P9YGNGC, B01CZ54L66, B00BXQIJ5S, B06XDVXPG...</td>\n",
              "      <td>$25.00</td>\n",
              "      <td>706.0</td>\n",
              "      <td>Torrid</td>\n",
              "      <td>[Gift Cards, Gift Cards]</td>\n",
              "    </tr>\n",
              "    <tr>\n",
              "      <th>279</th>\n",
              "      <td>B01GKZ3LH2</td>\n",
              "      <td>SF Giants Gift Card</td>\n",
              "      <td>[B00GOLH8PY, B077CZY68Z, B00BXQIJ5S, B00NVUDIZ...</td>\n",
              "      <td>[1613219105, B01LY1H08N, 1629373893, B00UNKLS1...</td>\n",
              "      <td>$25.00</td>\n",
              "      <td>2077.0</td>\n",
              "      <td>S.F. Products</td>\n",
              "      <td>[Gift Cards, Gift Cards]</td>\n",
              "    </tr>\n",
              "    <tr>\n",
              "      <th>280</th>\n",
              "      <td>B01GKZ37SA</td>\n",
              "      <td>Lands End Gift Card</td>\n",
              "      <td>[B00FGEHKXU, B00BXLW9J0, B00NVUDIZ0, B07JJHVWQ...</td>\n",
              "      <td>[B00FGEHKXU, B00MV9G76Y, B00BXLW9J0, B07JJHVWQ...</td>\n",
              "      <td>$25.00</td>\n",
              "      <td>1120.0</td>\n",
              "      <td>Lands' End</td>\n",
              "      <td>[Gift Cards, Gift Cards]</td>\n",
              "    </tr>\n",
              "    <tr>\n",
              "      <th>281</th>\n",
              "      <td>B01GOQIKRI</td>\n",
              "      <td>Smoothie King Gift Card</td>\n",
              "      <td>[B00NVUDIZ0, B00BXLVE6Y, B00O4I5S7O, B00GOLGWV...</td>\n",
              "      <td>[B00NVUDIZ0, B00GOLGWVK, B07JKD8G5X, B00BXLVE6...</td>\n",
              "      <td>$10.00</td>\n",
              "      <td>1201.0</td>\n",
              "      <td>QuickGifts</td>\n",
              "      <td>[Gift Cards, Gift Cards]</td>\n",
              "    </tr>\n",
              "    <tr>\n",
              "      <th>282</th>\n",
              "      <td>B01GP1W4LA</td>\n",
              "      <td>Go Play Golf Gift Card</td>\n",
              "      <td>[B077CZY68Z, B07JJHVWXL, B00NVUDIZ0, B01CZ54L6...</td>\n",
              "      <td>[B01LYIR4CZ, B077CZY68Z, B07736DNZB, B01N9AE2Z...</td>\n",
              "      <td>$50.00</td>\n",
              "      <td>1015.0</td>\n",
              "      <td>Go Play Golf by Fairway Rewards</td>\n",
              "      <td>[Gift Cards, Gift Cards]</td>\n",
              "    </tr>\n",
              "  </tbody>\n",
              "</table>\n",
              "<p>283 rows × 8 columns</p>\n",
              "</div>\n",
              "      <button class=\"colab-df-convert\" onclick=\"convertToInteractive('df-8ea42b6b-f03f-4899-856c-c64e0267f1c4')\"\n",
              "              title=\"Convert this dataframe to an interactive table.\"\n",
              "              style=\"display:none;\">\n",
              "        \n",
              "  <svg xmlns=\"http://www.w3.org/2000/svg\" height=\"24px\"viewBox=\"0 0 24 24\"\n",
              "       width=\"24px\">\n",
              "    <path d=\"M0 0h24v24H0V0z\" fill=\"none\"/>\n",
              "    <path d=\"M18.56 5.44l.94 2.06.94-2.06 2.06-.94-2.06-.94-.94-2.06-.94 2.06-2.06.94zm-11 1L8.5 8.5l.94-2.06 2.06-.94-2.06-.94L8.5 2.5l-.94 2.06-2.06.94zm10 10l.94 2.06.94-2.06 2.06-.94-2.06-.94-.94-2.06-.94 2.06-2.06.94z\"/><path d=\"M17.41 7.96l-1.37-1.37c-.4-.4-.92-.59-1.43-.59-.52 0-1.04.2-1.43.59L10.3 9.45l-7.72 7.72c-.78.78-.78 2.05 0 2.83L4 21.41c.39.39.9.59 1.41.59.51 0 1.02-.2 1.41-.59l7.78-7.78 2.81-2.81c.8-.78.8-2.07 0-2.86zM5.41 20L4 18.59l7.72-7.72 1.47 1.35L5.41 20z\"/>\n",
              "  </svg>\n",
              "      </button>\n",
              "      \n",
              "  <style>\n",
              "    .colab-df-container {\n",
              "      display:flex;\n",
              "      flex-wrap:wrap;\n",
              "      gap: 12px;\n",
              "    }\n",
              "\n",
              "    .colab-df-convert {\n",
              "      background-color: #E8F0FE;\n",
              "      border: none;\n",
              "      border-radius: 50%;\n",
              "      cursor: pointer;\n",
              "      display: none;\n",
              "      fill: #1967D2;\n",
              "      height: 32px;\n",
              "      padding: 0 0 0 0;\n",
              "      width: 32px;\n",
              "    }\n",
              "\n",
              "    .colab-df-convert:hover {\n",
              "      background-color: #E2EBFA;\n",
              "      box-shadow: 0px 1px 2px rgba(60, 64, 67, 0.3), 0px 1px 3px 1px rgba(60, 64, 67, 0.15);\n",
              "      fill: #174EA6;\n",
              "    }\n",
              "\n",
              "    [theme=dark] .colab-df-convert {\n",
              "      background-color: #3B4455;\n",
              "      fill: #D2E3FC;\n",
              "    }\n",
              "\n",
              "    [theme=dark] .colab-df-convert:hover {\n",
              "      background-color: #434B5C;\n",
              "      box-shadow: 0px 1px 3px 1px rgba(0, 0, 0, 0.15);\n",
              "      filter: drop-shadow(0px 1px 2px rgba(0, 0, 0, 0.3));\n",
              "      fill: #FFFFFF;\n",
              "    }\n",
              "  </style>\n",
              "\n",
              "      <script>\n",
              "        const buttonEl =\n",
              "          document.querySelector('#df-8ea42b6b-f03f-4899-856c-c64e0267f1c4 button.colab-df-convert');\n",
              "        buttonEl.style.display =\n",
              "          google.colab.kernel.accessAllowed ? 'block' : 'none';\n",
              "\n",
              "        async function convertToInteractive(key) {\n",
              "          const element = document.querySelector('#df-8ea42b6b-f03f-4899-856c-c64e0267f1c4');\n",
              "          const dataTable =\n",
              "            await google.colab.kernel.invokeFunction('convertToInteractive',\n",
              "                                                     [key], {});\n",
              "          if (!dataTable) return;\n",
              "\n",
              "          const docLinkHtml = 'Like what you see? Visit the ' +\n",
              "            '<a target=\"_blank\" href=https://colab.research.google.com/notebooks/data_table.ipynb>data table notebook</a>'\n",
              "            + ' to learn more about interactive tables.';\n",
              "          element.innerHTML = '';\n",
              "          dataTable['output_type'] = 'display_data';\n",
              "          await google.colab.output.renderOutput(dataTable, element);\n",
              "          const docLink = document.createElement('div');\n",
              "          docLink.innerHTML = docLinkHtml;\n",
              "          element.appendChild(docLink);\n",
              "        }\n",
              "      </script>\n",
              "    </div>\n",
              "  </div>\n",
              "  "
            ],
            "text/plain": [
              "             ID  ...                  category\n",
              "0    B001H53QE4  ...  [Gift Cards, Gift Cards]\n",
              "1    B004Q7CK9M  ...  [Gift Cards, Gift Cards]\n",
              "2    B005DHN6E2  ...  [Gift Cards, Gift Cards]\n",
              "3    B005ESMF5G  ...  [Gift Cards, Gift Cards]\n",
              "4    B005ESMFP6  ...  [Gift Cards, Gift Cards]\n",
              "..          ...  ...                       ...\n",
              "278  B01GKZ3SQG  ...  [Gift Cards, Gift Cards]\n",
              "279  B01GKZ3LH2  ...  [Gift Cards, Gift Cards]\n",
              "280  B01GKZ37SA  ...  [Gift Cards, Gift Cards]\n",
              "281  B01GOQIKRI  ...  [Gift Cards, Gift Cards]\n",
              "282  B01GP1W4LA  ...  [Gift Cards, Gift Cards]\n",
              "\n",
              "[283 rows x 8 columns]"
            ]
          },
          "metadata": {},
          "execution_count": 12
        }
      ]
    },
    {
      "cell_type": "markdown",
      "source": [
        "## Graph\n"
      ],
      "metadata": {
        "id": "ToScPASO470s"
      }
    },
    {
      "cell_type": "code",
      "source": [
        "G = nx.from_pandas_edgelist(nodes,source='from_ID',target='to_ID', create_using=nx.DiGraph())\n",
        "print(nx.info(G))"
      ],
      "metadata": {
        "colab": {
          "base_uri": "https://localhost:8080/"
        },
        "id": "qzClPH9347kG",
        "outputId": "a6176457-52f1-4213-bb7a-ac79e1470025"
      },
      "execution_count": 13,
      "outputs": [
        {
          "output_type": "stream",
          "name": "stdout",
          "text": [
            "DiGraph with 1401 nodes and 19562 edges\n"
          ]
        }
      ]
    },
    {
      "cell_type": "markdown",
      "source": [
        "## Degree"
      ],
      "metadata": {
        "id": "-w7UMecm6OnW"
      }
    },
    {
      "cell_type": "code",
      "source": [
        "degree_sequence = sorted([d for n, d in G.degree()], reverse=True)\n",
        "dmax = max(degree_sequence)"
      ],
      "metadata": {
        "id": "4jDR7TVj5Jd9"
      },
      "execution_count": 15,
      "outputs": []
    },
    {
      "cell_type": "code",
      "source": [
        "fig = plt.figure(\"Degree of a graph\", figsize=(14, 14))\n",
        "# Create a gridspec for adding subplots of different sizes\n",
        "axgrid = fig.add_gridspec(5, 4)\n",
        "\n",
        "#Degree rank plot\n",
        "ax1 = fig.add_subplot(axgrid[3:, :2])\n",
        "ax1.plot(degree_sequence, \"b-\", marker=\"o\")\n",
        "ax1.set_title(\" LOG Degree Rank Plot\")\n",
        "ax1.set_ylabel(\"Degree\")\n",
        "plt.xscale(\"log\")\n",
        "plt.yscale(\"log\")\n",
        "ax1.set_xlabel(\"Rank\")\n",
        "\n",
        "#Degree histogram\n",
        "ax2 = fig.add_subplot(axgrid[3:, 2:])\n",
        "ax2.bar(*np.unique(degree_sequence, return_counts=True))\n",
        "ax2.set_title(\"Degree histogram\")\n",
        "ax2.set_xlabel(\"Degree\")\n",
        "ax2.set_ylabel(\"# of Nodes\")\n",
        "ax2.set_xlim(0,20)\n",
        "\n",
        "fig.tight_layout()\n",
        "\n",
        "plt.show()"
      ],
      "metadata": {
        "colab": {
          "base_uri": "https://localhost:8080/",
          "height": 391
        },
        "id": "Grmk1a8o8KsL",
        "outputId": "6061068c-71ab-4ad8-eab3-4844649b66a6"
      },
      "execution_count": 16,
      "outputs": [
        {
          "output_type": "display_data",
          "data": {
            "image/png": "[encoded data removed]",
            "text/plain": [
              "<Figure size 1008x1008 with 2 Axes>"
            ]
          },
          "metadata": {
            "needs_background": "light"
          }
        }
      ]
    },
    {
      "cell_type": "markdown",
      "source": [
        "### In - out degree"
      ],
      "metadata": {
        "id": "RB28gMdu6Sq7"
      }
    },
    {
      "cell_type": "code",
      "source": [
        "  in_degrees = G.in_degree()\n",
        "  print(in_degrees)\n",
        "\n",
        "  out_degrees = G.out_degree()\n",
        "  out_degrees"
      ],
      "metadata": {
        "colab": {
          "base_uri": "https://localhost:8080/"
        },
        "id": "8EO24gQq-1wY",
        "outputId": "2d5cfa52-0974-4ec0-d84c-a8193143006d"
      },
      "execution_count": 17,
      "outputs": [
        {
          "output_type": "stream",
          "name": "stdout",
          "text": [
            "[('B001H53QE4', 0), ('B005ESMEBQ', 16), ('B007EE5WNA', 5), ('B007EE5OBU', 3), ('B07HJHK8Y5', 164), ('B016CDNMMG', 45), ('B07193NQ2P', 97), ('B0153R37XQ', 37), ('B01N5TMK8I', 219), ('B004Q7CK9M', 0), ('B01I4AHZXC', 67), ('B01E4QQAWW', 91), ('B01K8RJDEI', 194), ('B005ESMF5G', 5), ('B071VCQJ24', 109), ('B072BGQ8RR', 63), ('B01K8RL0AI', 189), ('B0725JM87R', 83), ('B07DDDS9R4', 36), ('B07FKK8SFR', 23), ('B01JQSONCC', 28), ('B07FMK2JQ8', 47), ('B0719C5P56', 197), ('B06WVJBLBQ', 187), ('B01IE42ST4', 17), ('B01K8RK2KW', 71), ('B07641DGK2', 19), ('B072F9T6VX', 27), ('B01C9MW8Z6', 50), ('B07DD6YZ7H', 19), ('B0763VZ9Z7', 29), ('B00NVUDIZ0', 249), ('B01K8RL9C2', 30), ('1542978645', 1), ('B005SPESKK', 2), ('B01K8RMDO0', 201), ('B00A69H9U4', 2), ('B07G7T21ZY', 5), ('B00171WXII', 1), ('B07KQVLSTN', 1), ('B00NEO5UTU', 1), ('B076CXY1MN', 213), ('B01JQSP498', 20), ('B06XJ35FG4', 1), ('B00BRHSCLE', 1), ('B0777P949T', 1), ('B01N42JV9H', 1), ('B01I5MPR1G', 1), ('B06ZY43PDR', 40), ('0763642649', 1), ('0374300216', 1), ('0385376715', 1), ('B001IXYOD2', 1), ('0811879542', 2), ('B00X22L0AC', 1), ('B01MFFVSU8', 1), ('B073XZRV9Z', 1), ('B00HB0WGL8', 1), ('B0045I6IAO', 1), ('B0771FFWQ2', 1), ('B0062JSYEW', 1), ('B071FLSWBS', 1), ('B07H53Y3LL', 2), ('B07DC8BR3B', 4), ('B00HB0WIHA', 1), ('B01M4LEIJ3', 1), ('B007VBYVWE', 1), ('B00HB0WGAY', 1), ('B00F2MQ0EQ', 1), ('B005DHN6E2', 0), ('B0013J62P4', 1), ('B0009HKEXM', 2), ('B001S2PYQO', 2), ('B00IX1CZ1U', 12), ('B00PL8YN3Q', 2), ('B0714D5LMQ', 2), ('B00X4SHPFS', 90), ('B0002KHU3I', 2), ('B00DS4Q1IK', 2), ('B07DQ67F5R', 2), ('B00PKNBK24', 2), ('B0037LOPQY', 2), ('B000052YSX', 2), ('B01D5VN92G', 2), ('B003TNANSO', 2), ('B079Z78RVJ', 2), ('B075ZNPX8D', 2), ('B07BBZ78NY', 2), ('B005GI8UOO', 2), ('B01LNKHDAK', 2), ('B07CKLHHCS', 2), ('B00UASJMG0', 2), ('B01N39RV0A', 2), ('B00VRAFLII', 2), ('B001TDL3Z8', 2), ('B000052YT2', 2), ('B06XXNQGHW', 2), ('B07GZYGVT8', 2), ('B07CTQ8THP', 2), ('B0051TPJKG', 2), ('B01614SQY0', 2), ('B00XIFEPBE', 2), ('B000E3C3NU', 2), ('B07K38D8MR', 2), ('B0798C1NYR', 2), ('B078989XST', 2), ('B003WO0IVM', 2), ('B003TN6FSG', 2), ('B01N0PA8PZ', 2), ('B00IP8AEXC', 2), ('B01LPCLEWY', 2), ('B07281KYSS', 2), ('BT00DC6QU4', 34), ('B00U26V4VQ', 1), ('B073FBGQD2', 2), ('B07FB5WNM7', 1), ('B07HH2QC7J', 1), ('B07D7PDLXC', 1), ('B01CW4AR9K', 1), ('B078J2JGJV', 1), ('B072MHQFJ1', 2), ('B00CPTR7WS', 1), ('B079RPBQ4R', 1), ('B01K8RLHZG', 31), ('B01MRQT3W9', 1), ('B019FPQZNG', 1), ('B07FXVYN2N', 1), ('B003P7ZO0G', 2), ('0399231099', 1), ('B00V5Q1N1I', 2), ('B07FXX9TN7', 2), ('B0041L3JS4', 2), ('B0090DY7H0', 1), ('B019RC1EI8', 1), ('B01K8RJVDQ', 36), ('B06WVJBVT4', 32), ('B0091JKU5Q', 14), ('B0725JBZT1', 27), ('B0091JKKLU', 48), ('B0763VZB82', 22), ('B01F2P9Q16', 25), ('B01CZ54L66', 224), ('B00BXQIJ5S', 218), ('B01B25L15E', 23), ('B01MSBQB1P', 209), ('B07H63P4C9', 190), ('B0078EPRVS', 208), ('B0091JKPPQ', 7), ('B071DTXNHG', 171), ('B07641P3WL', 9), ('B076428HDX', 18), ('B00BXLTUUG', 161), ('B00HCRB4EA', 216), ('B00BXLVAQS', 212), ('B00IGYPALG', 170), ('B00BXLUH80', 171), ('B017TH5N1W', 192), ('B076CPNPWV', 97), ('B00OV6S4OS', 174), ('B016PARZEC', 172), ('B00GS8BKZC', 208), ('B00CXZPG0O', 217), ('B00GOLH8PY', 162), ('B00GOLGWVK', 219), ('B07641CYS3', 12), ('B07HJD9FVV', 114), ('B00910XGTM', 95), ('B00S5J8456', 199), ('B0160LI7MA', 47), ('B07JX5XNY1', 128), ('B00CHQ7G66', 14), ('B00PG84W32', 207), ('B00FTGTM5E', 206), ('B076417B1K', 17), ('B00GDHVQOI', 85), ('B07K7N18PP', 105), ('B00GU300HO', 84), ('B00AS527QW', 180), ('B00BXLTSS0', 44), ('B015WZDBPS', 187), ('B01N9GY4GF', 16), ('B00CHQKO88', 2), ('B0078EP9S4', 182), ('B07F3F9NF2', 3), ('B00NM3LQYG', 162), ('B00BXLTM0E', 115), ('B00FTGEXZI', 76), ('B07FCJM3F7', 13), ('B00O3YJD4S', 99), ('B0092KBPOE', 64), ('BT00DDC7BK', 13), ('B07674CBVT', 74), ('B00PG24L5W', 140), ('B00VF0MCCS', 113), ('B076CV42TK', 78), ('B07JJHVWXL', 39), ('B01IE42XY4', 22), ('B005ESMFP6', 0), ('B00FTJI60I', 181), ('B00O4I5S7O', 153), ('B07HFTC8PR', 34), ('B0721NSDNL', 78), ('B00FTGFAF0', 27), ('B00O4I5HWA', 61), ('B07GTFZZ2K', 21), ('B00S5J8MR6', 92), ('B00FTGSKL6', 86), ('B00FTGF67C', 84), ('B00PG4FAH8', 47), ('B07KR2KCJ6', 34), ('B00ET5WASC', 44), ('B00FTGESM6', 81), ('B01MYY4R68', 50), ('B07DD5D9LP', 10), ('B00EEHVIBK', 48), ('B007EE5I6G', 6), ('B00FTGFFOG', 36), ('B00FTGSBBA', 63), ('B00P3DUFRW', 166), ('B07DD75RQC', 21), ('B07HFVF43N', 35), ('B00MOWEHIS', 49), ('B077QKXPVC', 1), ('B00G08KW2C', 150), ('B00BXLV5M2', 44), ('B00O4I57LQ', 33), ('B01M22A4H0', 35), ('B017TGZ5ES', 42), ('B07K62KMF5', 1), ('B00DNAGTIQ', 135), ('B07C83CP9K', 3), ('B01GFNIBOW', 12), ('B016PARRCC', 97), ('B07DGNMZ3X', 17), ('B07K7N18MS', 76), ('B00XWCT09U', 1), ('B00G08LRZ8', 159), ('B00O3YIUCE', 28), ('B00BXLT3VC', 116), ('B005ESMJ02', 8), ('B00X6G94XY', 31), ('B016PBI9BE', 126), ('B01I9OOD4W', 1), ('B01NBKTPTS', 1), ('B071KXC91L', 1), ('B0794RHPZD', 1), ('B005ESMG1E', 0), ('B007EE5QHW', 6), ('B007EE5NKW', 7), ('B007EE60N6', 5), ('B01MY7GL3O', 1), ('B06ZYDGPLQ', 2), ('B005ESMJCU', 0), ('B07HJSB765', 1), ('B005FGQI5A', 6), ('B00BXLSZPM', 136), ('B077ZJXCQ9', 52), ('B01GS4BBTK', 2), ('B073R6F7PP', 118), ('B075KXMNFR', 30), ('B00HLAO738', 98), ('B006PJHPSU', 84), ('B001L1RE3S', 1), ('B01LWX45ZW', 69), ('B0002LCRMG', 1), ('B001H53QEE', 3), ('B005XEF7R4', 0), ('B01MECZSWO', 64), ('B075SNPK3N', 4), ('B01578LQ84', 39), ('B00BXLTJSE', 120), ('B06XDVXPG3', 31), ('B00BXLT1UA', 1), ('B006PJI0Y8', 82), ('B009110O8C', 43), ('B016PASHAI', 42), ('B002T68LWW', 153), ('B016PAS9C4', 45), ('B07BS3BJ7M', 36), ('B006PJHPV2', 83), ('B00MV9MGQY', 7), ('B006PJHPKI', 42), ('B01M3XER4Y', 9), ('B015WTISM0', 68), ('B00BXLVFAO', 85), ('B078VSWVGY', 172), ('B01CT5PDO6', 6), ('B00MV9FALW', 7), ('B00BXLU6YA', 38), ('B00EM89DQI', 1), ('B002NZJ4MU', 2), ('B01MZFGYO0', 51), ('B00BXLVD8I', 100), ('B00BXLVE6Y', 147), ('B0763KZNBY', 23), ('B07DK32V7G', 8), ('B07JLVDBVD', 14), ('B00FGEHKXU', 35), ('B00F2RZPOM', 121), ('B00BXLSN3G', 53), ('B07DK2Z9HP', 17), ('B075V6L3H5', 1), ('B00BXLSRNW', 28), ('B01K8RM59S', 63), ('B015722MKG', 45), ('B077CZY68Z', 25), ('B00BXLW58K', 91), ('B009HE86FQ', 123), ('B018FD2LBE', 27), ('1492663662', 1), ('B071JMC5M4', 1), ('B077HCGSR8', 95), ('B07K7ZDLHP', 40), ('B071GCY9FT', 1), ('B019W24HQ4', 1), ('B07DFMWF37', 1), ('B00BXLUDXO', 48), ('B00BXLVHC0', 60), ('B01GKWEH64', 29), ('B00BXLUEYW', 60), ('B0172YGY56', 19), ('B00BXLSVEM', 127), ('B0156VG62I', 3), ('B01DWOZKSC', 84), ('B00PG24V2A', 51), ('B07KRSYNG3', 115), ('B07FBD2G1G', 72), ('B00K4PI66Q', 16), ('B00FRL7G7M', 47), ('B06XDLJ43Z', 49), ('B00GRLGF6O', 30), ('B079TMZR8N', 66), ('B00BXLV8J2', 14), ('B00BXLTNA8', 21), ('B015NL8RN2', 32), ('B00BCTY1E4', 11), ('B00JJ59UA8', 24), ('B00O3YJ2TE', 38), ('B00BXLTF92', 14), ('B006PJHP62', 0), ('B07KRBBCK1', 23), ('B07H4CDRRV', 48), ('B00O3YIK7E', 39), ('B077CYG3TH', 52), ('B00BXLV4JQ', 28), ('B07FBGTV7W', 43), ('B01571YV42', 42), ('B00BXLSSOU', 45), ('B00JONBIAK', 40), ('B01MSLG94N', 43), ('B07FX8QBVH', 11), ('B00ELQD5K6', 25), ('B00UUCWCPE', 9), ('B00BXLU20S', 2), ('B00K4PIELS', 9), ('B079GCLTZM', 5), ('B06Y5J96W8', 7), ('B075SHPN2P', 38), ('B006PJI03Y', 0), ('B01NGUDGUM', 16), ('B0188LNZ7C', 2), ('B01M7WZ583', 39), ('B00BXLWLY8', 10), ('B01GKWETLC', 37), ('B00GOLH3DQ', 9), ('B00F2RZAC4', 39), ('B0078EPBHI', 0), ('B07JLX33V7', 29), ('B07DJSK8ZR', 4), ('B00P3DVHT2', 3), ('B00K4PIYDQ', 15), ('B00K4PJ3WM', 26), ('B0078EPRPE', 0), ('B075K595WF', 22), ('B00BXLVYIM', 33), ('B00VF0MTSA', 36), ('B07H5N28T1', 10), ('B01H5PPJT4', 12), ('B0773FQVMR', 12), ('B00BXLW9J0', 27), ('B01EGBCJVQ', 28), ('B075KLN7XM', 35), ('B07H526VKM', 6), ('B07H4VJ8SQ', 15), ('B07FWC73KZ', 9), ('B01572118A', 23), ('B01GKWEPBG', 22), ('B07G7SW467', 17), ('B01KH9SX7K', 1), ('B01DCN6SFM', 2), ('B007EE5YMY', 0), ('B01FV0F13E', 1), ('B0186IT5GW', 1), ('B007EE5X48', 0), ('B00VZB1E4E', 1), ('B007EE5PEQ', 0), ('B00BT2MG2I', 1), ('B0017TMTFM', 1), ('B007EE5KKK', 0), ('B07DD3S5P6', 1), ('B00CMKA9HK', 1), ('B01965DY48', 1), ('B004IKXTHE', 1), ('B00007LVCN', 1), ('B075G2JR47', 1), ('B01MUA9W22', 1), ('B000PU1LIU', 1), ('B0735V9JQS', 1), ('B00R3APBUE', 1), ('B004NG8DQA', 1), ('B01HRA5XPM', 1), ('B00007LVDM', 1), ('B0722L14L3', 1), ('B00UBMO2VA', 1), ('B004SK4KIG', 1), ('B01BHW9I3O', 1), ('B072LVBJHF', 1), ('B000FOIYS6', 1), ('B003VAHYNC', 1), ('B01D8F5FKS', 1), ('B01616HZMM', 1), ('B01LZYR932', 1), ('B0006HVJ3O', 1), ('B00QSR9URI', 1), ('B077JDWBQW', 1), ('B00007LVE3', 1), ('B01J9N0O4U', 1), ('B0080IR6BA', 0), ('B00JDQKFPC', 12), ('B07FK97P6N', 9), ('B0727VWLZ9', 11), ('B01M14ATO0', 2), ('B01HHRDXWK', 1), ('B07FH8XQ1B', 1), ('B00PZFEJFM', 12), ('B00BXLT17I', 26), ('B00Q3NFM4W', 1), ('B07H9RLQTV', 1), ('B00U6DTA9S', 17), ('B075KX2CTF', 21), ('B00IN6PXCS', 1), ('B016PAT3QA', 3), ('B00IEO589C', 1), ('B07BHQ14L9', 3), ('B01N2P0QD0', 1), ('B07BHQ135J', 2), ('B07BK7SWNJ', 1), ('B06XW6Q25C', 2), ('B07BHQ81VH', 1), ('B075YDTHWK', 1), ('B07BS2Q2XJ', 2), ('B002CSQDZY', 1), ('B075RDRJLW', 1), ('1623159423', 2), ('B078VZBX4P', 2), ('B00302KB5O', 1), ('B078Y5YCHC', 1), ('B078962YP1', 1), ('B00MV9H52E', 6), ('B00MV9GEQW', 8), ('B00BXLUXYS', 25), ('B016PASLQ8', 2), ('B0108MGWHE', 30), ('0399255370', 1), ('B00911NGTG', 0), ('B07HL7RF9X', 2), ('B07H57M8VN', 1), ('B07JJHVWQQ', 22), ('B00NYAN6C2', 1), ('B07CRMCSKS', 1), ('B001O2DZ8C', 1), ('B00GB8MVZ2', 20), ('B0091JKPDI', 0), ('B00MXCIK32', 1), ('B074TZXF9P', 4), ('B0091JKJ0M', 0), ('B06X6N5K2Q', 1), ('B0000D8CAQ', 1), ('B0091JKY0M', 0), ('B00ZM5OXD8', 1), ('B073P67JFQ', 1), ('B07F35VFDC', 1), ('B00VSLGHOI', 1), ('B07GRR71K6', 1), ('B07FD3ZS91', 1), ('B0091JKVU0', 0), ('B077TG1J96', 3), ('B003ZIR8YU', 1), ('B07GCWFVLK', 1), ('B07BNQ5PKX', 1), ('0307888576', 1), ('B01M5KXCV2', 1), ('B002RBTV78', 1), ('B00G70DFC2', 1), ('B075RYBVLN', 14), ('B0091JL3OI', 0), ('B004ECIT7Q', 1), ('B0099HD3YA', 1), ('B00DNAGEBI', 14), ('B00BXLVZZE', 20), ('B00BXLVT3M', 11), ('B00G08KPG0', 29), ('B00K4PIL84', 36), ('B00MV9F6PM', 3), ('B009SB14K2', 0), ('B01LYIR4CZ', 2), ('B01BN3LGQ4', 4), ('B00FRL7PG4', 22), ('B01LYN106U', 2), ('B07HRF56ST', 1), ('B015RSVNRI', 3), ('B002P4NOU2', 6), ('B079FC92T1', 2), ('B0000V0L9Y', 1), ('B01MZ0POPN', 2), ('B009WD3F2Q', 0), ('B01C3NAT16', 1), ('B079KJ25PR', 1), ('B07736Q4GC', 1), ('B07LCXMJJK', 1), ('B07B9KTLJZ', 1), ('B079S3SXHP', 2), ('B0074CDG6C', 1), ('B01I830FF0', 1), ('B07GL49QLW', 1), ('B003FULBQ4', 1), ('B0051U7W32', 1), ('B009XFXW4E', 0), ('B00AR51Y5I', 0), ('B07FS5L4YD', 1), ('B075HD6QXW', 10), ('B076PWGHMV', 20), ('B00MV9NX7K', 4), ('B00MV9L0PW', 3), ('B00P6VUY86', 1), ('B00ILM977Q', 1), ('B07G775YZT', 1), ('B00ATFCAXQ', 0), ('B00QFFQ3QE', 1), ('B00MV9FKQ2', 6), ('B01EM3M7XI', 2), ('B06XZW74LC', 1), ('B00BXLSR2S', 0), ('B00BXLU87U', 1), ('B00BXLUUOG', 11), ('B00YD5XWEY', 16), ('B06XDYDWYT', 7), ('B00BXLSPGQ', 0), ('B00VF0N90M', 13), ('B015725H94', 11), ('B071RP3QDN', 1), ('B07HCMSCMN', 1), ('B00BXLSWGY', 0), ('B07JFJR7M6', 20), ('B00OGPXG9W', 21), ('B00BXLTCXG', 8), ('B0157245NI', 6), ('B01NBJP4AR', 13), ('B00MOWEY1I', 1), ('B00F2RZI12', 10), ('B00MV9FQXO', 9), ('B010RHMCEW', 1), ('B017GJCUMS', 4), ('B00BXLT8M6', 0), ('B01N35UMQV', 1), ('B00BXLSUF2', 0), ('B07HFSCZGS', 7), ('B00MV9N316', 6), ('B01GKZ39UQ', 10), ('B00VGLSEOG', 13), ('B01MQGM5LG', 1), ('B00BXLU0M8', 3), ('B00K4PIBUW', 3), ('B00BXLUQLI', 8), ('B00Q7Z32HK', 3), ('B00VGLVKUQ', 4), ('B00BXLTMRC', 0), ('B07HRMT1MK', 1), ('B01GOQISLQ', 6), ('B00NM4IB1G', 4), ('B00WROYLMU', 3), ('B077JGZPD3', 6), ('B00MV9OQYO', 1), ('B015NKJCJ6', 11), ('B017IGNUP0', 2), ('B00BXLSM0A', 0), ('B00MXD9CQA', 10), ('B07K69HXCT', 1), ('B00MV9LUR0', 2), ('B01KI0Q1UY', 1), ('B07L4TWRK3', 1), ('B01M34OPYM', 5), ('B01BMS2XWQ', 1), ('B0172YJQY2', 1), ('B00BXLUO1U', 0), ('B00P9YGNGC', 2), ('B07HKZ49JR', 3), ('B00BXLTZ6K', 0), ('B01GP1W4LA', 4), ('B00BXLTJ8O', 0), ('B00FTGEOB6', 24), ('B00MV9M5ZG', 1), ('B003GQWWL0', 1), ('B009Q3YWNS', 1), ('B075XP9WLZ', 1), ('B00XA4ID0M', 1), ('B00A5T35JY', 1), ('B079S3SXHW', 1), ('B00O4I4SAM', 2), ('B01JA24SGA', 2), ('B004OR1DTC', 1), ('B00FRL7MX0', 10), ('B01BN1RHNC', 1), ('B00HX3PRBE', 4), ('B00K4PIVJ8', 2), ('B00BXLTR6S', 0), ('B010CARY4W', 1), ('B01N9WXUA3', 1), ('B00PGOMSU0', 6), ('B0797MPPZ3', 1), ('B00BXLU6CW', 0), ('B01M98AT1D', 1), ('B00BXLWD0U', 6), ('B00P9VFDB6', 1), ('B012D6KT7M', 1), ('B00M4YUE0G', 1), ('B001AMK6G0', 1), ('B00DSSOVJW', 1), ('B00BXLUP1E', 9), ('B00JU71D4G', 8), ('B00MOWENEG', 5), ('B00MOWEKTY', 8), ('B00QIIASSC', 1), ('B00BXLU3MU', 3), ('B00BXLVQLM', 3), ('B07C3NBJ33', 1), ('B00BXLT5EW', 0), ('B01BN45CJA', 1), ('B078HHWQWG', 1), ('B016QW9XWQ', 1), ('B00OQT3RLA', 4), ('B000LUYQ22', 1), ('B00HLPXL80', 1), ('B00BXLTUBA', 0), ('B07FX57ZRG', 5), ('B0014GOYDS', 1), ('B00MV9GM8W', 4), ('B01H5QPIG2', 1), ('B07BQZFXN3', 1), ('B076LRNZMH', 1), ('B01ESBN3QO', 17), ('B079D7XHRD', 1), ('B07F2SW1JN', 1), ('B07849F4R5', 1), ('B01LZ72Y8J', 2), ('B00009KWTB', 1), ('B00BXLUFQ4', 0), ('B00JJ5A0GQ', 6), ('B01EZGGC9C', 1), ('B07JDWTHKV', 1), ('B00BXLV784', 4), ('B00BXLV9NM', 0), ('B01M8JOGDV', 2), ('B07BYR9RJM', 1), ('B00MVX39IE', 1), ('B00MGLOX40', 1), ('B07FPGL1CP', 1), ('B000S6CCJ8', 1), ('B00004SU35', 1), ('B00BXLUQ6S', 0), ('B00MV9G3S6', 1), ('B0108MGLWU', 1), ('B0081D2GZA', 1), ('B01M4GB5LI', 1), ('B00MOWF1IS', 3), ('B01M6BD8NP', 2), ('B00BXLVXZG', 0), ('B00BXLUU6Y', 0), ('B07H2S4P3K', 1), ('B0172YKFLK', 3), ('B06XDSLXJN', 1), ('B01LY4Y16T', 1), ('B00BXLVTRI', 0), ('B00F8MRUVW', 7), ('B06Y562R3R', 3), ('B00BXLV55Y', 0), ('B017TH2JGE', 1), ('B0172YIBP2', 2), ('B00BXLVAD6', 0), ('B01BLV4R8M', 2), ('B00MV9FNWS', 3), ('B01MQW86UQ', 1), ('B00B61HV8Q', 1), ('B01LWWMN7L', 1), ('B00BXLUI5M', 0), ('B00P9VC56W', 1), ('B01N0D9HNO', 9), ('B01N7HK4PT', 8), ('B00MV9P454', 7), ('B00BXLW5QC', 0), ('B00BXLW4Q8', 0), ('B07DW7VQD8', 1), ('B00PG24BAW', 4), ('B07DCB7SQQ', 1), ('B00BXLV6OY', 0), ('B07K39FRSL', 1), ('B075PVLN2P', 1), ('B01N7HK8T5', 1), ('B016PARWO0', 6), ('B076KRDRQG', 1), ('B00H2SNRV2', 1), ('B00BXLWLC0', 0), ('B071X51J6V', 2), ('B00MV9LFIO', 1), ('B018U5O8AO', 2), ('B00GOLH1LK', 1), ('B00BXLURUI', 0), ('B00ADX5WZ2', 1), ('B002T27T4M', 1), ('B07MDLH82B', 1), ('B00BXLVS10', 0), ('B00BXLV32O', 1), ('B00NM4IXMS', 2), ('B00BXLW0K8', 0), ('B07BS6QRHN', 1), ('B010W0SBMQ', 1), ('B00FRL7T4C', 4), ('B00AW0V95I', 1), ('B07DKTZSLG', 1), ('B01MQCKDKM', 1), ('1981101780', 1), ('B00I0D3RE0', 1), ('B00HQ0WAJG', 1), ('B01MUZGNUN', 1), ('B00O2E0RGC', 1), ('B00BXLVHZM', 0), ('B0172YGNGQ', 4), ('B0002YFB58', 1), ('B00MV9F2QU', 3), ('B00DCVPL4E', 1), ('0399554815', 1), ('B00BXLVP7M', 0), ('0515159557', 1), ('B06X3RL7TS', 1), ('B01GKWF0F6', 1), ('B00FDN73D6', 1), ('B00CXZP27Q', 1), ('B00BXQIGA6', 0), ('B075GQLG78', 1), ('B01BXEHO4Q', 1), ('B00CHQ7I2S', 0), ('B06ZZJBH52', 1), ('B001FA1NTG', 1), ('B004D9XYWU', 1), ('B01MDOJ6LF', 1), ('B0188LOGDO', 1), ('B00CXZP74Y', 3), ('B00OM07RIC', 1), ('B01K8RKA9A', 20), ('B07FK7L976', 26), ('B00DWIH8HU', 0), ('B00DWIHBY0', 0), ('B00ELQD11E', 0), ('B0725349FN', 1), ('B000GAT6NG', 1), ('B01NBQP9CG', 1), ('B00OGPXVQ0', 1), ('B00ELQD0DS', 0), ('B017IF4NDY', 4), ('B07KW48KFJ', 1), ('B00H3R2V78', 1), ('B07CQ572GT', 1), ('B071HW7S24', 1), ('B07BGH5QTM', 8), ('B00ET5WBU4', 0), ('B0773QT2FP', 1), ('B01MRRZ5PF', 1), ('B01FYDFH5U', 3), ('B00NU8EQGS', 1), ('B00KFLZVQM', 3), ('B00MV9GTFS', 4), ('B00OX9OKO6', 4), ('B00FGEHO0O', 0), ('1531905250', 1), ('0312498586', 1), ('B000FH4T3M', 1), ('B00PCU8T9M', 1), ('B0095ZBUGY', 1), ('B07CP5ZGFB', 1), ('B00MV9G76Y', 3), ('B073ZVQN27', 3), ('B00FJ4CDGQ', 1), ('B00EQNP8F4', 1), ('B01N1T8L5N', 1), ('B00GYIM37A', 1), ('B0029LJIFG', 3), ('B01LWVX2RG', 1), ('B01N6HS091', 1), ('B07DQMMPML', 1), ('B07HFTGBZL', 1), ('B07DLXBGN8', 1), ('B071CV8CG2', 1), ('B07D77HYR5', 1), ('B07HHW8C4V', 1), ('B072Q4Y5FV', 1), ('B07KRZ1689', 1), ('B074LRF639', 1), ('B00KVP76G0', 1), ('B07FQ74V4Z', 1), ('B00FNQUN7Q', 1), ('B07JHY99XV', 1), ('B07JPD3PZH', 1), ('B01DVP2MQU', 1), ('B07KRFTF6V', 1), ('B07DL2SY2B', 1), ('B00YXO5UKY', 1), ('B07FGCW4YS', 1), ('B00G3LBDDS', 3), ('B07HKMXJLY', 1), ('B01H6GUCCQ', 1), ('B071J4RHH1', 1), ('B07BXMWG8L', 1), ('B07DX61P17', 1), ('B071RSSMLL', 1), ('B079YL9F5T', 1), ('B0711V7BV6', 1), ('B07DJY81FP', 1), ('B01EJ9DMQQ', 1), ('B0751RGXLR', 1), ('B07BX4CVXG', 1), ('B01MTKXP31', 1), ('B01LRK9DTA', 2), ('B01MS6MO77', 1), ('B01LOP8EZC', 1), ('B01N5OKGLH', 1), ('B07GRZCX7L', 1), ('B00FRL7LCC', 0), ('0979477158', 1), ('B017TH3QCU', 1), ('B077NJT592', 1), ('B01IROKMYO', 1), ('B00K4PO85O', 1), ('B014LMZCHS', 4), ('B00FTGF3P2', 0), ('B00KO95M46', 1), ('B07C88226N', 4), ('B00FTGTV4Q', 4), ('B07H235HM3', 1), ('B077Y9PXKT', 1), ('B00FTITVAS', 0), ('B000BUW7E6', 1), ('B00FTGTIOE', 0), ('B00FZ5KKY6', 0), ('B00G3LBBGW', 0), ('B00962HTZW', 1), ('B016CKPYIY', 1), ('B00962J1IU', 1), ('B06XK9QPK3', 1), ('B075YBT2L1', 3), ('B072QDSJKT', 1), ('B06X16Z7DZ', 1), ('B00YD560HA', 3), ('B005GLISE8', 1), ('B014JOA14M', 1), ('0735223580', 1), ('B00NCSIN4W', 1), ('B06XCM9LJ4', 1), ('B01EFX6VMS', 1), ('B07CXG6C9W', 1), ('B00GB8MWTC', 0), ('B00MV9I4R4', 1), ('B000FLJQFE', 1), ('1579651267', 1), ('0545912407', 1), ('B0716JZ71Y', 1), ('076790818X', 1), ('1476753830', 1), ('B00GDHVSYG', 0), ('B01M34OH1I', 1), ('B00GOLH84U', 0), ('B00GOLH5UC', 0), ('B074P33VFY', 1), ('B00YD55JHW', 2), ('B016PASVBI', 1), ('B002R5BFQO', 1), ('B00GOLQ9AY', 0), ('B00GRL9KCA', 2), ('B00TEEU8NM', 2), ('B075X8NWF8', 1), ('B0030XNLQ4', 1), ('B00H5OI9XO', 1), ('B01CNSM60S', 1), ('B072LPP6K6', 1), ('B00GRLUECA', 0), ('B00GU2ZZ8Y', 0), ('B000TQXNKE', 1), ('B00GZAPAHM', 0), ('B00GZATKBY', 0), ('B0013OSBYE', 1), ('B076ZWDFM1', 1), ('B00GZAFY64', 0), ('B00HAPOVZI', 0), ('B00HLAO65M', 0), ('B011J61NFY', 1), ('B0188LOW4M', 1), ('0847861678', 1), ('B00I0DN5Q0', 0), ('B007YGJR2U', 1), ('B00IYFIKUA', 0), ('B00IYFNQP4', 0), ('B01DGLKO7I', 2), ('B00IYFMYEI', 0), ('B00JDQJZWG', 0), ('B07FKKBFHS', 9), ('B07FZY181K', 1), ('B01676307A', 1), ('B075WRSGFD', 1), ('B01AXCRBYC', 1), ('B00CHQKNUM', 1), ('B01DCN6VQI', 2), ('B07CY5V7SB', 1), ('B0189TBXUY', 4), ('B00MV9PB5C', 1), ('B071GBMFZR', 1), ('B00K4PIE68', 0), ('B017TH4H7S', 1), ('B00KFLZZVI', 1), ('B0742QD35B', 1), ('B00K4PI97C', 0), ('B00K4PII50', 1), ('B0778Q8VYP', 1), ('B01NAXAVAK', 1), ('B015QLGFPQ', 1), ('B01N0M3JNR', 1), ('B017TH148I', 2), ('B00K4PI9JK', 1), ('B00Q8VI480', 1), ('B00K4PJ3F4', 0), ('B00LAY3PBG', 1), ('B07577X6HF', 1), ('B013WFOEVK', 1), ('B01MT5YWTW', 1), ('B01FIIK4OK', 1), ('B00BOQXWGS', 1), ('B00K4PISAA', 0), ('B019GYWFBW', 2), ('B017TH0NKI', 1), ('B00K4PIV2K', 0), ('B017TH2ASG', 1), ('B07GVXDZ9G', 1), ('B00K4PIRPG', 3), ('B071GT76MN', 1), ('B00K4PIXXW', 0), ('B07KB76WPF', 1), ('B017TH0GN2', 1), ('B003KYTNYW', 1), ('B017TH561E', 1), ('B010OX42WO', 1), ('B079MDPR56', 1), ('B0797S598Z', 1), ('B00K4PO8WC', 0), ('B00K4PJ0O8', 0), ('B00KV30IHG', 0), ('B00FN50BYC', 1), ('B002KW3OQS', 1), ('B07BH3NX8F', 1), ('B07HPZR8DZ', 1), ('B07H4SYC6Q', 1), ('B0027A39PY', 1), ('B072KSQ4DH', 1), ('B01MTYN6E9', 1), ('B06VW9QDSF', 1), ('B07FX28CGG', 1), ('B00K89KU80', 1), ('B07D4967Z5', 1), ('B00000IZJB', 1), ('B01GGKZ2SC', 1), ('B00KY9QQGE', 0), ('B07CWVWKCP', 1), ('B0714CN421', 1), ('B018QNM7V2', 1), ('B06ZZ5K124', 1), ('1982121084', 1), ('B00K2RY8GI', 1), ('B00LWBDTP4', 0), ('B00MZF2GK0', 1), ('B00PABVMWO', 2), ('B0172YLENI', 1), ('B00NT5W4LQ', 1), ('B00UW1CEMY', 2), ('B07F2K37YC', 2), ('B00MXD9HUG', 0), ('B00OX9NC4U', 1), ('B07CH3JTRP', 1), ('B071FNQDT5', 1), ('B0774YR45F', 1), ('B00EX5K1GG', 1), ('B00NM4J4UI', 0), ('B00NM4II5A', 0), ('B01CI2QSW6', 1), ('B00NUZW4GA', 0), ('B079TFQMQQ', 27), ('B00XHSKKXE', 1), ('B00O3YIGOG', 0), ('B00T2Z428A', 1), ('B07B83HP9K', 1), ('B06XBZT4RL', 1), ('B019K8L3IK', 1), ('B00O4DMXUY', 1), ('B019HP0YRW', 1), ('B077PJBXPX', 1), ('B01MCRBNTE', 2), ('B01AIJ9JBS', 1), ('B00O4I4Y3S', 0), ('B00GB8LMGG', 5), ('B00OR54DES', 8), ('1984818295', 1), ('B00025YVPI', 1), ('B00OV98F44', 9), ('B07DX77485', 1), ('B00945D08G', 1), ('B06XJ1561K', 1), ('B00EJ0A6I8', 1), ('B07GZ62CB6', 1), ('B00WROYVVQ', 6), ('B00MV9GB8I', 3), ('B0725ZHX2K', 1), ('B0172YMMUC', 1), ('B01IQ0G3EM', 1), ('B01MDLOM4V', 24), ('B00PG248V4', 0), ('B0188LN6EO', 1), ('B00PG23QFI', 0), ('B077JGYK1Y', 1), ('B00PG8502O', 0), ('B07FQWQRH1', 2), ('B00PG9870U', 0), ('B00Q7Z38B0', 0), ('B00Q80WDEM', 1), ('B01FKC66WS', 3), ('B00MV9K3A0', 2), ('B004MDLZ32', 1), ('B00P1D0RX6', 1), ('B00QB6L0OC', 0), ('B06XW2W3CJ', 1), ('B00S5JE4PU', 0), ('B07J145PJ2', 1), ('B00P9YGK1K', 1), ('B0784R34BP', 1), ('B074CNL7WB', 1), ('B075114NBP', 1), ('1520368348', 1), ('B0150TYVGY', 1), ('B00TEEU5X0', 0), ('B00DM14TYC', 1), ('B01N5JUPRI', 1), ('B00GN3QU4I', 1), ('9729375011', 1), ('B01N06ZFIX', 1), ('B00UV2YR4W', 0), ('B0779F2DHD', 2), ('B00S6FEE3A', 1), ('B01FYG8JIE', 1), ('B07HFRK4NR', 4), ('B00BT2IXOI', 1), ('B000C1VZMY', 1), ('B00VTVA9TQ', 0), ('B07FRKKHVV', 1), ('B00I08J6S6', 1), ('B01LX07YGE', 1), ('B00W2PTNHW', 1), ('B00GRXVHIS', 1), ('B07736M9PC', 1), ('B00PYMCY80', 1), ('B00X4RERY6', 0), ('B00X6G8J3A', 0), ('B075XLWML4', 1), ('B018HHDFBI', 1), ('B019LAW60Q', 1), ('B07FH7RDNH', 1), ('B00O14JG2Y', 1), ('B00LK0N31W', 1), ('B00YD74M4Q', 0), ('B01L081SO2', 1), ('B072L7R1YX', 1), ('B073WJMKHN', 1), ('B014LMWGCM', 0), ('B01M7QZW5N', 2), ('B01M5CONJJ', 2), ('B07DGN93G4', 1), ('B076PK9N8R', 1), ('B0747T8L7Z', 1), ('B01MF4Y0EE', 1), ('B076PTY3SG', 1), ('B014FU1BNA', 1), ('B073ZXHQ96', 1), ('B01M6UK1DI', 1), ('B01MF54LE0', 1), ('B006AA3G5U', 1), ('B00KSZDSBU', 1), ('B00F9WOLMC', 1), ('B014S1KPKG', 0), ('B073Z16GX9', 1), ('B004QL9CI0', 1), ('B07L5SW634', 1), ('B014S24DAI', 0), ('B00JUQ5G7C', 1), ('B0039NMCA6', 1), ('B01M9AU8MB', 1), ('B00451ZJB0', 1), ('B014I8SSD0', 1), ('B0763J55T8', 1), ('B077PXVKZX', 1), ('B01ALIGY46', 1), ('B07JDVT9RF', 1), ('B015NKJ6D8', 0), ('B06ZYJ3HJD', 1), ('B06Y5LTQKZ', 1), ('B016BCKQXG', 0), ('B01LPY0FMW', 1), ('B016CDV4E4', 0), ('B0091JKMOA', 11), ('B01LPBO5W6', 1), ('0789334844', 1), ('B0048YGBPC', 1), ('B073Z17HFQ', 1), ('B071J92LFR', 1), ('B073JGX2CJ', 1), ('B01KOUMCQ0', 1), ('B076MCZBN5', 1), ('B01LQM8Q2E', 1), ('B01MT2WSUR', 1), ('B07GWN4BCX', 1), ('B01L1JRJGQ', 1), ('B01N6WXSBS', 1), ('B00L3WWWCS', 1), ('B01I3ZVI86', 1), ('B001CEMCXQ', 1), ('B079KMPJ12', 1), ('B01LQM8SCC', 1), ('B07146ZG1X', 1), ('B01N035X5D', 1), ('B016CICYXO', 0), ('B07DDC8FJM', 12), ('B016J1LCRI', 3), ('B016J1LFX4', 4), ('B06ZYZ1TKK', 4), ('B06XBWCHLT', 1), ('B07H3K7QCK', 1), ('B0711YCK5Z', 1), ('B01M0PVGQ3', 1), ('B07B9HR3LF', 1), ('B07661J1HX', 1), ('B016J1LGPG', 0), ('B07642BXQ5', 2), ('B01IE4300U', 4), ('B01B25M0YK', 4), ('B07641V3C7', 3), ('B016J1LDNQ', 0), ('B00B96KF8G', 1), ('B00B96KLCQ', 1), ('B01N5UX36D', 1), ('1423139100', 1), ('B005M4IZSI', 1), ('B000OVRIDW', 1), ('B01LZXLJHE', 1), ('B016PARLMS', 0), ('B004XWNU5I', 1), ('B01GMFSTH2', 1), ('B075RGRFJG', 1), ('B01LOKCV6U', 1), ('B01AC7SF7K', 1), ('B01LZ0QHUX', 1), ('B016PASBWC', 0), ('B07GX3QFPJ', 1), ('1937994775', 1), ('0972428216', 1), ('B074T8JTK4', 1), ('B00EX5J9DM', 1), ('B016PARP24', 0), ('B07FFGNNDD', 1), ('B016PASEN8', 0), ('B0170NTG5O', 0), ('B00P9YG0VA', 1), ('B00FZLCA98', 1), ('B003VP2MR0', 1), ('B00M9ZNZLK', 1), ('B017LRA8TC', 0), ('B016WEO4MM', 1), ('B018F76HBA', 0), ('B018U5LR6C', 0), ('B018U5OE5S', 0), ('B01ANL02UI', 0), ('B01B25LU7S', 0), ('B072MMDLPQ', 1), ('B00KKUYBFU', 1), ('B00683J8T2', 1), ('B079QKJ6CQ', 1), ('B00WHYM1XQ', 1), ('B01B25LZCI', 0), ('B0733NB3ZR', 1), ('B0775FD552', 1), ('B01C38OPJI', 1), ('0739048120', 1), ('B005RRBGIQ', 1), ('B000VBJFR2', 1), ('B01N97PCBH', 1), ('B0010B5EQS', 1), ('B01B25LFGY', 0), ('B07C945CYR', 1), ('B079NWLQ8B', 1), ('B06XJJZPL1', 1), ('B07BWY5PZ8', 1), ('B078XYRPYX', 1), ('B06XJD4Q8G', 1), ('B06XJHHXBP', 1), ('B076CSQV47', 1), ('B01DVO1ID4', 1), ('B01DDFYSWE', 1), ('B06XJ9SXJJ', 1), ('B07CBLJK61', 1), ('B071CVKV5Y', 1), ('B06XHZ8GG5', 1), ('B06XJ9PHYZ', 1), ('B07CVL1PNW', 1), ('B07DMCN7ZS', 1), ('B078Y2QN8C', 1), ('B0194PRD92', 1), ('B07BLTLCWK', 1), ('B01FOIWFD2', 1), ('B07GJMD7V4', 1), ('B00FB8JOOY', 1), ('153872913X', 1), ('B002WJH3DY', 1), ('B001RUK3YK', 1), ('1424556368', 1), ('B01MS6QWJ3', 1), ('B0058DQLO8', 1), ('B075613C67', 1), ('B01N0RSC4K', 1), ('B078MC3RPM', 1), ('B005K0B8WO', 1), ('B079P4P422', 1), ('B078NTB7SV', 1), ('B073NT2BDX', 1), ('B073WW52S6', 1), ('B01DCN9GVU', 0), ('B077J82L6F', 1), ('B07FR917ZR', 1), ('B00F55P1WW', 1), ('0545392551', 1), ('B0081ZOWG4', 1), ('B00IR4F3LM', 1), ('B07L9WQ2JY', 1), ('B073W83VC7', 1), ('B00NTWTUKM', 1), ('B01M2CO8LZ', 1), ('B07HD16Q7B', 1), ('B01BZYYDTI', 1), ('B000IDSLOG', 1), ('B00IM8FZIE', 1), ('B06XMRCC94', 1), ('B00FXR5S20', 1), ('B000067EH7', 1), ('B003N9M6YI', 1), ('B01C3H4ZTY', 1), ('B00FMWWN6U', 1), ('B00FB59O1A', 1), ('B000056OV0', 1), ('B000CNOIQ2', 1), ('B01DGLKSYM', 0), ('B016BCKWAI', 1), ('B00IYFNN3O', 1), ('B00P9VGXEM', 1), ('B07D6DD4CL', 1), ('B01E4QPDV6', 0), ('B00KWR6G4A', 1), ('B005K8KZDE', 1), ('B07BHPKCKN', 1), ('B002V7A7MQ', 1), ('B01E4QRAX0', 0), ('B00YF4I1BC', 1), ('B004CFY55A', 1), ('1501194771', 1), ('1732173710', 1), ('B01DTFF0Y8', 1), ('B00F1J8HOQ', 1), ('B00GQP0XTQ', 1), ('B00COK3FD8', 1), ('B0006ZUHR0', 1), ('B00LGLHUA0', 1), ('B0725GYNG6', 1), ('B002LTHMEA', 1), ('B00O83CTOK', 1), ('B016LUR08W', 1), ('B0111AHJVU', 1), ('B01E4QQ6QM', 0), ('B07F3PH3DD', 1), ('0544580141', 1), ('B01MQ3YP7Y', 1), ('B07GSQHLX8', 1), ('B00JM5GW10', 1), ('B01E4QUN0W', 0), ('B0154FF8OS', 1), ('B01A5V5LD4', 1), ('B07F1MPVGC', 1), ('0763668745', 1), ('B074XH9CTD', 1), ('B018TYAGAC', 1), ('B07G19YRMF', 1), ('B079TFMT8C', 1), ('B0058SBV1Q', 1), ('B01MAUIT05', 1), ('B00K2RJAR0', 1), ('B0777XQ4S8', 1), ('1524763136', 1), ('B01ESBMY3W', 0), ('8867326155', 1), ('B07DNK4DNG', 1), ('B07BB3Y6BK', 1), ('B00W3PXEE4', 1), ('B00C5VYZMQ', 1), ('B014Q1XX9S', 1), ('B01MT1O9X2', 1), ('1601061560', 1), ('B07CRNKJ66', 1), ('B002QI83XK', 1), ('B00O8PNW6M', 1), ('B073XTQQYT', 1), ('B00BL5LB2Y', 1), ('B01HGJSQA8', 1), ('B07GZGVTBM', 1), ('B07GTZB2DK', 1), ('B07F1DR3WM', 1), ('1101911948', 1), ('B077MDJ58Y', 1), ('B07MHPWX5P', 1), ('0060899220', 1), ('B0126LMDFK', 1), ('B007885IJU', 1), ('B00ISECUZS', 1), ('B01FERQPAM', 0), ('B00MY8DSCS', 2), ('B07BQ1P7CN', 2), ('B0793JTRSN', 2), ('B01FERR1VE', 0), ('B01GF6W1E0', 4), ('B01GF7GTJ2', 4), ('B01GF6WEPG', 4), ('B01M3R8L5E', 1), ('B01MF4DPT9', 1), ('B01K9Q5AJK', 1), ('B01GF6WULE', 5), ('B01GF6X20W', 5), ('B01GF6WISE', 5), ('B01GF6X9UU', 4), ('B01MRTYMYN', 1), ('B01GF6WNO8', 0), ('B01GF6X842', 3), ('B01MF4MPBB', 2), ('B01K9Q5GOE', 1), ('B01MEC82PU', 1), ('B01MCRBNUW', 3), ('B01M1AA778', 1), ('B06XW3XDZ7', 1), ('B01MA1J2KN', 1), ('B01MA1J49I', 1), ('B0742HRLW5', 2), ('B000TDZH10', 1), ('B01M3NMMI7', 1), ('B07BC7FWXH', 1), ('B01N7OMYGG', 1), ('B00PLXGDXY', 1), ('B01GF6WXAW', 1), ('B01GF6X4LE', 1), ('B07CZ7WP6W', 1), ('B01MCRBOFC', 1), ('B01GKWEJTO', 0), ('B01M4OR62M', 1), ('B078W1HYH8', 1), ('B004YE001M', 1), ('B00APNW6M2', 1), ('B00S9FSLTU', 1), ('B01MQWUXZS', 1), ('B072FB755J', 1), ('B075YTLRYJ', 1), ('B01N31VCM9', 1), ('B07F99GS3X', 1), ('B01GKZ3SQG', 0), ('B074NBC6YV', 1), ('B00006IEAN', 1), ('B07D1TFY67', 1), ('B008RQ1PSK', 1), ('B01GKZ3LH2', 0), ('B00KNOA102', 1), ('B01GKZ37SA', 0), ('B07KXNQVRF', 1), ('B0045QEPYM', 1), ('0062225243', 1), ('B01GOQIKRI', 0), ('B07CSFM3VH', 1)]\n"
          ]
        },
        {
          "output_type": "execute_result",
          "data": {
            "text/plain": [
              "OutDegreeView({'B001H53QE4': 8, 'B005ESMEBQ': 0, 'B007EE5WNA': 0, 'B007EE5OBU': 0, 'B07HJHK8Y5': 0, 'B016CDNMMG': 97, 'B07193NQ2P': 0, 'B0153R37XQ': 0, 'B01N5TMK8I': 0, 'B004Q7CK9M': 61, 'B01I4AHZXC': 0, 'B01E4QQAWW': 0, 'B01K8RJDEI': 0, 'B005ESMF5G': 94, 'B071VCQJ24': 0, 'B072BGQ8RR': 0, 'B01K8RL0AI': 0, 'B0725JM87R': 0, 'B07DDDS9R4': 0, 'B07FKK8SFR': 0, 'B01JQSONCC': 0, 'B07FMK2JQ8': 0, 'B0719C5P56': 0, 'B06WVJBLBQ': 0, 'B01IE42ST4': 0, 'B01K8RK2KW': 0, 'B07641DGK2': 0, 'B072F9T6VX': 0, 'B01C9MW8Z6': 0, 'B07DD6YZ7H': 0, 'B0763VZ9Z7': 0, 'B00NVUDIZ0': 0, 'B01K8RL9C2': 0, '1542978645': 0, 'B005SPESKK': 0, 'B01K8RMDO0': 0, 'B00A69H9U4': 0, 'B07G7T21ZY': 0, 'B00171WXII': 0, 'B07KQVLSTN': 0, 'B00NEO5UTU': 0, 'B076CXY1MN': 0, 'B01JQSP498': 0, 'B06XJ35FG4': 0, 'B00BRHSCLE': 0, 'B0777P949T': 0, 'B01N42JV9H': 0, 'B01I5MPR1G': 0, 'B06ZY43PDR': 0, '0763642649': 0, '0374300216': 0, '0385376715': 0, 'B001IXYOD2': 0, '0811879542': 0, 'B00X22L0AC': 0, 'B01MFFVSU8': 0, 'B073XZRV9Z': 0, 'B00HB0WGL8': 0, 'B0045I6IAO': 0, 'B0771FFWQ2': 0, 'B0062JSYEW': 0, 'B071FLSWBS': 0, 'B07H53Y3LL': 0, 'B07DC8BR3B': 0, 'B00HB0WIHA': 0, 'B01M4LEIJ3': 0, 'B007VBYVWE': 0, 'B00HB0WGAY': 0, 'B00F2MQ0EQ': 0, 'B005DHN6E2': 77, 'B0013J62P4': 0, 'B0009HKEXM': 0, 'B001S2PYQO': 0, 'B00IX1CZ1U': 0, 'B00PL8YN3Q': 0, 'B0714D5LMQ': 0, 'B00X4SHPFS': 0, 'B0002KHU3I': 0, 'B00DS4Q1IK': 0, 'B07DQ67F5R': 0, 'B00PKNBK24': 0, 'B0037LOPQY': 0, 'B000052YSX': 0, 'B01D5VN92G': 0, 'B003TNANSO': 0, 'B079Z78RVJ': 0, 'B075ZNPX8D': 0, 'B07BBZ78NY': 0, 'B005GI8UOO': 0, 'B01LNKHDAK': 0, 'B07CKLHHCS': 0, 'B00UASJMG0': 0, 'B01N39RV0A': 0, 'B00VRAFLII': 0, 'B001TDL3Z8': 0, 'B000052YT2': 0, 'B06XXNQGHW': 0, 'B07GZYGVT8': 0, 'B07CTQ8THP': 0, 'B0051TPJKG': 0, 'B01614SQY0': 0, 'B00XIFEPBE': 0, 'B000E3C3NU': 0, 'B07K38D8MR': 0, 'B0798C1NYR': 0, 'B078989XST': 0, 'B003WO0IVM': 0, 'B003TN6FSG': 0, 'B01N0PA8PZ': 0, 'B00IP8AEXC': 0, 'B01LPCLEWY': 0, 'B07281KYSS': 0, 'BT00DC6QU4': 0, 'B00U26V4VQ': 0, 'B073FBGQD2': 0, 'B07FB5WNM7': 0, 'B07HH2QC7J': 0, 'B07D7PDLXC': 0, 'B01CW4AR9K': 0, 'B078J2JGJV': 0, 'B072MHQFJ1': 0, 'B00CPTR7WS': 0, 'B079RPBQ4R': 0, 'B01K8RLHZG': 0, 'B01MRQT3W9': 0, 'B019FPQZNG': 0, 'B07FXVYN2N': 0, 'B003P7ZO0G': 0, '0399231099': 0, 'B00V5Q1N1I': 0, 'B07FXX9TN7': 0, 'B0041L3JS4': 0, 'B0090DY7H0': 0, 'B019RC1EI8': 0, 'B01K8RJVDQ': 0, 'B06WVJBVT4': 0, 'B0091JKU5Q': 0, 'B0725JBZT1': 0, 'B0091JKKLU': 0, 'B0763VZB82': 0, 'B01F2P9Q16': 0, 'B01CZ54L66': 81, 'B00BXQIJ5S': 0, 'B01B25L15E': 0, 'B01MSBQB1P': 0, 'B07H63P4C9': 0, 'B0078EPRVS': 94, 'B0091JKPPQ': 0, 'B071DTXNHG': 0, 'B07641P3WL': 0, 'B076428HDX': 0, 'B00BXLTUUG': 0, 'B00HCRB4EA': 0, 'B00BXLVAQS': 0, 'B00IGYPALG': 94, 'B00BXLUH80': 0, 'B017TH5N1W': 0, 'B076CPNPWV': 0, 'B00OV6S4OS': 0, 'B016PARZEC': 0, 'B00GS8BKZC': 0, 'B00CXZPG0O': 95, 'B00GOLH8PY': 0, 'B00GOLGWVK': 93, 'B07641CYS3': 0, 'B07HJD9FVV': 0, 'B00910XGTM': 98, 'B00S5J8456': 0, 'B0160LI7MA': 0, 'B07JX5XNY1': 0, 'B00CHQ7G66': 0, 'B00PG84W32': 0, 'B00FTGTM5E': 0, 'B076417B1K': 0, 'B00GDHVQOI': 0, 'B07K7N18PP': 0, 'B00GU300HO': 0, 'B00AS527QW': 96, 'B00BXLTSS0': 91, 'B015WZDBPS': 0, 'B01N9GY4GF': 0, 'B00CHQKO88': 0, 'B0078EP9S4': 0, 'B07F3F9NF2': 0, 'B00NM3LQYG': 0, 'B00BXLTM0E': 95, 'B00FTGEXZI': 0, 'B07FCJM3F7': 0, 'B00O3YJD4S': 94, 'B0092KBPOE': 0, 'BT00DDC7BK': 0, 'B07674CBVT': 0, 'B00PG24L5W': 0, 'B00VF0MCCS': 92, 'B076CV42TK': 0, 'B07JJHVWXL': 0, 'B01IE42XY4': 0, 'B005ESMFP6': 96, 'B00FTJI60I': 94, 'B00O4I5S7O': 94, 'B07HFTC8PR': 0, 'B0721NSDNL': 0, 'B00FTGFAF0': 93, 'B00O4I5HWA': 94, 'B07GTFZZ2K': 0, 'B00S5J8MR6': 0, 'B00FTGSKL6': 93, 'B00FTGF67C': 0, 'B00PG4FAH8': 93, 'B07KR2KCJ6': 0, 'B00ET5WASC': 94, 'B00FTGESM6': 92, 'B01MYY4R68': 0, 'B07DD5D9LP': 0, 'B00EEHVIBK': 93, 'B007EE5I6G': 50, 'B00FTGFFOG': 94, 'B00FTGSBBA': 92, 'B00P3DUFRW': 95, 'B07DD75RQC': 0, 'B07HFVF43N': 0, 'B00MOWEHIS': 95, 'B077QKXPVC': 0, 'B00G08KW2C': 94, 'B00BXLV5M2': 0, 'B00O4I57LQ': 0, 'B01M22A4H0': 0, 'B017TGZ5ES': 92, 'B07K62KMF5': 0, 'B00DNAGTIQ': 93, 'B07C83CP9K': 0, 'B01GFNIBOW': 0, 'B016PARRCC': 0, 'B07DGNMZ3X': 0, 'B07K7N18MS': 0, 'B00XWCT09U': 0, 'B00G08LRZ8': 0, 'B00O3YIUCE': 91, 'B00BXLT3VC': 93, 'B005ESMJ02': 35, 'B00X6G94XY': 0, 'B016PBI9BE': 0, 'B01I9OOD4W': 0, 'B01NBKTPTS': 0, 'B071KXC91L': 0, 'B0794RHPZD': 0, 'B005ESMG1E': 45, 'B007EE5QHW': 0, 'B007EE5NKW': 0, 'B007EE60N6': 0, 'B01MY7GL3O': 0, 'B06ZYDGPLQ': 0, 'B005ESMJCU': 90, 'B07HJSB765': 0, 'B005FGQI5A': 0, 'B00BXLSZPM': 95, 'B077ZJXCQ9': 0, 'B01GS4BBTK': 0, 'B073R6F7PP': 0, 'B075KXMNFR': 0, 'B00HLAO738': 0, 'B006PJHPSU': 0, 'B001L1RE3S': 0, 'B01LWX45ZW': 0, 'B0002LCRMG': 0, 'B001H53QEE': 0, 'B005XEF7R4': 84, 'B01MECZSWO': 0, 'B075SNPK3N': 0, 'B01578LQ84': 92, 'B00BXLTJSE': 0, 'B06XDVXPG3': 0, 'B00BXLT1UA': 69, 'B006PJI0Y8': 91, 'B009110O8C': 76, 'B016PASHAI': 0, 'B002T68LWW': 0, 'B016PAS9C4': 0, 'B07BS3BJ7M': 0, 'B006PJHPV2': 92, 'B00MV9MGQY': 0, 'B006PJHPKI': 92, 'B01M3XER4Y': 0, 'B015WTISM0': 0, 'B00BXLVFAO': 97, 'B078VSWVGY': 0, 'B01CT5PDO6': 0, 'B00MV9FALW': 0, 'B00BXLU6YA': 0, 'B00EM89DQI': 0, 'B002NZJ4MU': 0, 'B01MZFGYO0': 0, 'B00BXLVD8I': 95, 'B00BXLVE6Y': 95, 'B0763KZNBY': 0, 'B07DK32V7G': 0, 'B07JLVDBVD': 0, 'B00FGEHKXU': 92, 'B00F2RZPOM': 0, 'B00BXLSN3G': 0, 'B07DK2Z9HP': 0, 'B075V6L3H5': 0, 'B00BXLSRNW': 0, 'B01K8RM59S': 0, 'B015722MKG': 0, 'B077CZY68Z': 0, 'B00BXLW58K': 0, 'B009HE86FQ': 95, 'B018FD2LBE': 0, '1492663662': 0, 'B071JMC5M4': 0, 'B077HCGSR8': 0, 'B07K7ZDLHP': 0, 'B071GCY9FT': 0, 'B019W24HQ4': 0, 'B07DFMWF37': 0, 'B00BXLUDXO': 94, 'B00BXLVHC0': 89, 'B01GKWEH64': 91, 'B00BXLUEYW': 0, 'B0172YGY56': 92, 'B00BXLSVEM': 0, 'B0156VG62I': 84, 'B01DWOZKSC': 93, 'B00PG24V2A': 94, 'B07KRSYNG3': 0, 'B07FBD2G1G': 0, 'B00K4PI66Q': 81, 'B00FRL7G7M': 0, 'B06XDLJ43Z': 0, 'B00GRLGF6O': 86, 'B079TMZR8N': 0, 'B00BXLV8J2': 89, 'B00BXLTNA8': 0, 'B015NL8RN2': 0, 'B00BCTY1E4': 94, 'B00JJ59UA8': 96, 'B00O3YJ2TE': 93, 'B00BXLTF92': 91, 'B006PJHP62': 96, 'B07KRBBCK1': 0, 'B07H4CDRRV': 0, 'B00O3YIK7E': 0, 'B077CYG3TH': 0, 'B00BXLV4JQ': 0, 'B07FBGTV7W': 0, 'B01571YV42': 92, 'B00BXLSSOU': 93, 'B00JONBIAK': 94, 'B01MSLG94N': 0, 'B07FX8QBVH': 0, 'B00ELQD5K6': 86, 'B00UUCWCPE': 86, 'B00BXLU20S': 0, 'B00K4PIELS': 0, 'B079GCLTZM': 0, 'B06Y5J96W8': 0, 'B075SHPN2P': 0, 'B006PJI03Y': 93, 'B01NGUDGUM': 0, 'B0188LNZ7C': 0, 'B01M7WZ583': 0, 'B00BXLWLY8': 0, 'B01GKWETLC': 91, 'B00GOLH3DQ': 0, 'B00F2RZAC4': 93, 'B0078EPBHI': 92, 'B07JLX33V7': 0, 'B07DJSK8ZR': 0, 'B00P3DVHT2': 56, 'B00K4PIYDQ': 0, 'B00K4PJ3WM': 0, 'B0078EPRPE': 97, 'B075K595WF': 0, 'B00BXLVYIM': 0, 'B00VF0MTSA': 0, 'B07H5N28T1': 0, 'B01H5PPJT4': 0, 'B0773FQVMR': 0, 'B00BXLW9J0': 62, 'B01EGBCJVQ': 88, 'B075KLN7XM': 0, 'B07H526VKM': 0, 'B07H4VJ8SQ': 0, 'B07FWC73KZ': 0, 'B01572118A': 0, 'B01GKWEPBG': 71, 'B07G7SW467': 0, 'B01KH9SX7K': 0, 'B01DCN6SFM': 0, 'B007EE5YMY': 31, 'B01FV0F13E': 0, 'B0186IT5GW': 0, 'B007EE5X48': 25, 'B00VZB1E4E': 0, 'B007EE5PEQ': 40, 'B00BT2MG2I': 0, 'B0017TMTFM': 0, 'B007EE5KKK': 89, 'B07DD3S5P6': 0, 'B00CMKA9HK': 0, 'B01965DY48': 0, 'B004IKXTHE': 0, 'B00007LVCN': 0, 'B075G2JR47': 0, 'B01MUA9W22': 0, 'B000PU1LIU': 0, 'B0735V9JQS': 0, 'B00R3APBUE': 0, 'B004NG8DQA': 0, 'B01HRA5XPM': 0, 'B00007LVDM': 0, 'B0722L14L3': 0, 'B00UBMO2VA': 0, 'B004SK4KIG': 0, 'B01BHW9I3O': 0, 'B072LVBJHF': 0, 'B000FOIYS6': 0, 'B003VAHYNC': 0, 'B01D8F5FKS': 0, 'B01616HZMM': 0, 'B01LZYR932': 0, 'B0006HVJ3O': 0, 'B00QSR9URI': 0, 'B077JDWBQW': 0, 'B00007LVE3': 0, 'B01J9N0O4U': 0, 'B0080IR6BA': 82, 'B00JDQKFPC': 71, 'B07FK97P6N': 0, 'B0727VWLZ9': 0, 'B01M14ATO0': 0, 'B01HHRDXWK': 0, 'B07FH8XQ1B': 0, 'B00PZFEJFM': 0, 'B00BXLT17I': 0, 'B00Q3NFM4W': 0, 'B07H9RLQTV': 0, 'B00U6DTA9S': 0, 'B075KX2CTF': 0, 'B00IN6PXCS': 0, 'B016PAT3QA': 0, 'B00IEO589C': 0, 'B07BHQ14L9': 0, 'B01N2P0QD0': 0, 'B07BHQ135J': 0, 'B07BK7SWNJ': 0, 'B06XW6Q25C': 0, 'B07BHQ81VH': 0, 'B075YDTHWK': 0, 'B07BS2Q2XJ': 0, 'B002CSQDZY': 0, 'B075RDRJLW': 0, '1623159423': 0, 'B078VZBX4P': 0, 'B00302KB5O': 0, 'B078Y5YCHC': 0, 'B078962YP1': 0, 'B00MV9H52E': 0, 'B00MV9GEQW': 0, 'B00BXLUXYS': 92, 'B016PASLQ8': 0, 'B0108MGWHE': 0, '0399255370': 0, 'B00911NGTG': 93, 'B07HL7RF9X': 0, 'B07H57M8VN': 0, 'B07JJHVWQQ': 0, 'B00NYAN6C2': 0, 'B07CRMCSKS': 0, 'B001O2DZ8C': 0, 'B00GB8MVZ2': 0, 'B0091JKPDI': 37, 'B00MXCIK32': 0, 'B074TZXF9P': 0, 'B0091JKJ0M': 89, 'B06X6N5K2Q': 0, 'B0000D8CAQ': 0, 'B0091JKY0M': 89, 'B00ZM5OXD8': 0, 'B073P67JFQ': 0, 'B07F35VFDC': 0, 'B00VSLGHOI': 0, 'B07GRR71K6': 0, 'B07FD3ZS91': 0, 'B0091JKVU0': 87, 'B077TG1J96': 0, 'B003ZIR8YU': 0, 'B07GCWFVLK': 0, 'B07BNQ5PKX': 0, '0307888576': 0, 'B01M5KXCV2': 0, 'B002RBTV78': 0, 'B00G70DFC2': 0, 'B075RYBVLN': 0, 'B0091JL3OI': 59, 'B004ECIT7Q': 0, 'B0099HD3YA': 0, 'B00DNAGEBI': 80, 'B00BXLVZZE': 89, 'B00BXLVT3M': 87, 'B00G08KPG0': 0, 'B00K4PIL84': 91, 'B00MV9F6PM': 0, 'B009SB14K2': 79, 'B01LYIR4CZ': 0, 'B01BN3LGQ4': 0, 'B00FRL7PG4': 0, 'B01LYN106U': 0, 'B07HRF56ST': 0, 'B015RSVNRI': 0, 'B002P4NOU2': 0, 'B079FC92T1': 0, 'B0000V0L9Y': 0, 'B01MZ0POPN': 0, 'B009WD3F2Q': 76, 'B01C3NAT16': 0, 'B079KJ25PR': 0, 'B07736Q4GC': 0, 'B07LCXMJJK': 0, 'B07B9KTLJZ': 0, 'B079S3SXHP': 0, 'B0074CDG6C': 0, 'B01I830FF0': 0, 'B07GL49QLW': 0, 'B003FULBQ4': 0, 'B0051U7W32': 0, 'B009XFXW4E': 2, 'B00AR51Y5I': 98, 'B07FS5L4YD': 0, 'B075HD6QXW': 0, 'B076PWGHMV': 0, 'B00MV9NX7K': 0, 'B00MV9L0PW': 0, 'B00P6VUY86': 0, 'B00ILM977Q': 0, 'B07G775YZT': 0, 'B00ATFCAXQ': 4, 'B00QFFQ3QE': 0, 'B00MV9FKQ2': 0, 'B01EM3M7XI': 0, 'B06XZW74LC': 0, 'B00BXLSR2S': 92, 'B00BXLU87U': 43, 'B00BXLUUOG': 0, 'B00YD5XWEY': 90, 'B06XDYDWYT': 0, 'B00BXLSPGQ': 95, 'B00VF0N90M': 89, 'B015725H94': 0, 'B071RP3QDN': 0, 'B07HCMSCMN': 0, 'B00BXLSWGY': 93, 'B07JFJR7M6': 0, 'B00OGPXG9W': 94, 'B00BXLTCXG': 57, 'B0157245NI': 0, 'B01NBJP4AR': 0, 'B00MOWEY1I': 0, 'B00F2RZI12': 91, 'B00MV9FQXO': 0, 'B010RHMCEW': 0, 'B017GJCUMS': 0, 'B00BXLT8M6': 69, 'B01N35UMQV': 0, 'B00BXLSUF2': 95, 'B07HFSCZGS': 0, 'B00MV9N316': 0, 'B01GKZ39UQ': 0, 'B00VGLSEOG': 89, 'B01MQGM5LG': 0, 'B00BXLU0M8': 27, 'B00K4PIBUW': 27, 'B00BXLUQLI': 0, 'B00Q7Z32HK': 0, 'B00VGLVKUQ': 0, 'B00BXLTMRC': 93, 'B07HRMT1MK': 0, 'B01GOQISLQ': 0, 'B00NM4IB1G': 0, 'B00WROYLMU': 39, 'B077JGZPD3': 0, 'B00MV9OQYO': 0, 'B015NKJCJ6': 93, 'B017IGNUP0': 0, 'B00BXLSM0A': 96, 'B00MXD9CQA': 92, 'B07K69HXCT': 0, 'B00MV9LUR0': 0, 'B01KI0Q1UY': 0, 'B07L4TWRK3': 0, 'B01M34OPYM': 0, 'B01BMS2XWQ': 0, 'B0172YJQY2': 0, 'B00BXLUO1U': 92, 'B00P9YGNGC': 0, 'B07HKZ49JR': 0, 'B00BXLTZ6K': 97, 'B01GP1W4LA': 78, 'B00BXLTJ8O': 97, 'B00FTGEOB6': 93, 'B00MV9M5ZG': 0, 'B003GQWWL0': 0, 'B009Q3YWNS': 0, 'B075XP9WLZ': 0, 'B00XA4ID0M': 0, 'B00A5T35JY': 0, 'B079S3SXHW': 0, 'B00O4I4SAM': 61, 'B01JA24SGA': 0, 'B004OR1DTC': 0, 'B00FRL7MX0': 0, 'B01BN1RHNC': 0, 'B00HX3PRBE': 58, 'B00K4PIVJ8': 0, 'B00BXLTR6S': 94, 'B010CARY4W': 0, 'B01N9WXUA3': 0, 'B00PGOMSU0': 0, 'B0797MPPZ3': 0, 'B00BXLU6CW': 90, 'B01M98AT1D': 0, 'B00BXLWD0U': 90, 'B00P9VFDB6': 0, 'B012D6KT7M': 0, 'B00M4YUE0G': 0, 'B001AMK6G0': 0, 'B00DSSOVJW': 0, 'B00BXLUP1E': 55, 'B00JU71D4G': 61, 'B00MOWENEG': 21, 'B00MOWEKTY': 33, 'B00QIIASSC': 0, 'B00BXLU3MU': 39, 'B00BXLVQLM': 27, 'B07C3NBJ33': 0, 'B00BXLT5EW': 95, 'B01BN45CJA': 0, 'B078HHWQWG': 0, 'B016QW9XWQ': 0, 'B00OQT3RLA': 0, 'B000LUYQ22': 0, 'B00HLPXL80': 0, 'B00BXLTUBA': 98, 'B07FX57ZRG': 0, 'B0014GOYDS': 0, 'B00MV9GM8W': 0, 'B01H5QPIG2': 0, 'B07BQZFXN3': 0, 'B076LRNZMH': 0, 'B01ESBN3QO': 0, 'B079D7XHRD': 0, 'B07F2SW1JN': 0, 'B07849F4R5': 0, 'B01LZ72Y8J': 0, 'B00009KWTB': 0, 'B00BXLUFQ4': 95, 'B00JJ5A0GQ': 89, 'B01EZGGC9C': 0, 'B07JDWTHKV': 0, 'B00BXLV784': 0, 'B00BXLV9NM': 89, 'B01M8JOGDV': 0, 'B07BYR9RJM': 0, 'B00MVX39IE': 0, 'B00MGLOX40': 0, 'B07FPGL1CP': 0, 'B000S6CCJ8': 0, 'B00004SU35': 0, 'B00BXLUQ6S': 85, 'B00MV9G3S6': 0, 'B0108MGLWU': 41, 'B0081D2GZA': 0, 'B01M4GB5LI': 0, 'B00MOWF1IS': 69, 'B01M6BD8NP': 0, 'B00BXLVXZG': 94, 'B00BXLUU6Y': 91, 'B07H2S4P3K': 0, 'B0172YKFLK': 0, 'B06XDSLXJN': 0, 'B01LY4Y16T': 0, 'B00BXLVTRI': 94, 'B00F8MRUVW': 71, 'B06Y562R3R': 0, 'B00BXLV55Y': 91, 'B017TH2JGE': 0, 'B0172YIBP2': 38, 'B00BXLVAD6': 96, 'B01BLV4R8M': 0, 'B00MV9FNWS': 0, 'B01MQW86UQ': 0, 'B00B61HV8Q': 0, 'B01LWWMN7L': 0, 'B00BXLUI5M': 87, 'B00P9VC56W': 0, 'B01N0D9HNO': 0, 'B01N7HK4PT': 0, 'B00MV9P454': 0, 'B00BXLW5QC': 96, 'B00BXLW4Q8': 95, 'B07DW7VQD8': 0, 'B00PG24BAW': 0, 'B07DCB7SQQ': 0, 'B00BXLV6OY': 75, 'B07K39FRSL': 0, 'B075PVLN2P': 0, 'B01N7HK8T5': 0, 'B016PARWO0': 0, 'B076KRDRQG': 0, 'B00H2SNRV2': 0, 'B00BXLWLC0': 93, 'B071X51J6V': 0, 'B00MV9LFIO': 0, 'B018U5O8AO': 0, 'B00GOLH1LK': 20, 'B00BXLURUI': 94, 'B00ADX5WZ2': 0, 'B002T27T4M': 0, 'B07MDLH82B': 0, 'B00BXLVS10': 36, 'B00BXLV32O': 44, 'B00NM4IXMS': 0, 'B00BXLW0K8': 81, 'B07BS6QRHN': 0, 'B010W0SBMQ': 0, 'B00FRL7T4C': 0, 'B00AW0V95I': 0, 'B07DKTZSLG': 0, 'B01MQCKDKM': 0, '1981101780': 0, 'B00I0D3RE0': 0, 'B00HQ0WAJG': 0, 'B01MUZGNUN': 0, 'B00O2E0RGC': 0, 'B00BXLVHZM': 97, 'B0172YGNGQ': 91, 'B0002YFB58': 0, 'B00MV9F2QU': 0, 'B00DCVPL4E': 0, '0399554815': 0, 'B00BXLVP7M': 21, '0515159557': 0, 'B06X3RL7TS': 0, 'B01GKWF0F6': 0, 'B00FDN73D6': 0, 'B00CXZP27Q': 0, 'B00BXQIGA6': 95, 'B075GQLG78': 0, 'B01BXEHO4Q': 0, 'B00CHQ7I2S': 70, 'B06ZZJBH52': 0, 'B001FA1NTG': 0, 'B004D9XYWU': 0, 'B01MDOJ6LF': 0, 'B0188LOGDO': 0, 'B00CXZP74Y': 46, 'B00OM07RIC': 0, 'B01K8RKA9A': 0, 'B07FK7L976': 0, 'B00DWIH8HU': 1, 'B00DWIHBY0': 17, 'B00ELQD11E': 79, 'B0725349FN': 0, 'B000GAT6NG': 0, 'B01NBQP9CG': 0, 'B00OGPXVQ0': 0, 'B00ELQD0DS': 95, 'B017IF4NDY': 0, 'B07KW48KFJ': 0, 'B00H3R2V78': 0, 'B07CQ572GT': 0, 'B071HW7S24': 0, 'B07BGH5QTM': 0, 'B00ET5WBU4': 95, 'B0773QT2FP': 0, 'B01MRRZ5PF': 0, 'B01FYDFH5U': 0, 'B00NU8EQGS': 0, 'B00KFLZVQM': 0, 'B00MV9GTFS': 0, 'B00OX9OKO6': 0, 'B00FGEHO0O': 90, '1531905250': 0, '0312498586': 0, 'B000FH4T3M': 0, 'B00PCU8T9M': 0, 'B0095ZBUGY': 0, 'B07CP5ZGFB': 0, 'B00MV9G76Y': 0, 'B073ZVQN27': 0, 'B00FJ4CDGQ': 66, 'B00EQNP8F4': 0, 'B01N1T8L5N': 0, 'B00GYIM37A': 0, 'B0029LJIFG': 0, 'B01LWVX2RG': 0, 'B01N6HS091': 0, 'B07DQMMPML': 0, 'B07HFTGBZL': 0, 'B07DLXBGN8': 0, 'B071CV8CG2': 0, 'B07D77HYR5': 0, 'B07HHW8C4V': 0, 'B072Q4Y5FV': 0, 'B07KRZ1689': 0, 'B074LRF639': 0, 'B00KVP76G0': 0, 'B07FQ74V4Z': 0, 'B00FNQUN7Q': 0, 'B07JHY99XV': 0, 'B07JPD3PZH': 0, 'B01DVP2MQU': 0, 'B07KRFTF6V': 0, 'B07DL2SY2B': 0, 'B00YXO5UKY': 0, 'B07FGCW4YS': 0, 'B00G3LBDDS': 35, 'B07HKMXJLY': 0, 'B01H6GUCCQ': 0, 'B071J4RHH1': 0, 'B07BXMWG8L': 0, 'B07DX61P17': 0, 'B071RSSMLL': 0, 'B079YL9F5T': 0, 'B0711V7BV6': 0, 'B07DJY81FP': 0, 'B01EJ9DMQQ': 0, 'B0751RGXLR': 0, 'B07BX4CVXG': 0, 'B01MTKXP31': 0, 'B01LRK9DTA': 0, 'B01MS6MO77': 0, 'B01LOP8EZC': 0, 'B01N5OKGLH': 0, 'B07GRZCX7L': 0, 'B00FRL7LCC': 83, '0979477158': 0, 'B017TH3QCU': 0, 'B077NJT592': 0, 'B01IROKMYO': 0, 'B00K4PO85O': 0, 'B014LMZCHS': 0, 'B00FTGF3P2': 95, 'B00KO95M46': 0, 'B07C88226N': 0, 'B00FTGTV4Q': 93, 'B07H235HM3': 0, 'B077Y9PXKT': 0, 'B00FTITVAS': 96, 'B000BUW7E6': 0, 'B00FTGTIOE': 97, 'B00FZ5KKY6': 1, 'B00G3LBBGW': 12, 'B00962HTZW': 0, 'B016CKPYIY': 0, 'B00962J1IU': 0, 'B06XK9QPK3': 0, 'B075YBT2L1': 0, 'B072QDSJKT': 0, 'B06X16Z7DZ': 0, 'B00YD560HA': 0, 'B005GLISE8': 0, 'B014JOA14M': 0, '0735223580': 0, 'B00NCSIN4W': 0, 'B06XCM9LJ4': 0, 'B01EFX6VMS': 0, 'B07CXG6C9W': 0, 'B00GB8MWTC': 92, 'B00MV9I4R4': 0, 'B000FLJQFE': 0, '1579651267': 0, '0545912407': 0, 'B0716JZ71Y': 0, '076790818X': 0, '1476753830': 0, 'B00GDHVSYG': 95, 'B01M34OH1I': 0, 'B00GOLH84U': 95, 'B00GOLH5UC': 91, 'B074P33VFY': 0, 'B00YD55JHW': 0, 'B016PASVBI': 0, 'B002R5BFQO': 0, 'B00GOLQ9AY': 32, 'B00GRL9KCA': 95, 'B00TEEU8NM': 0, 'B075X8NWF8': 0, 'B0030XNLQ4': 0, 'B00H5OI9XO': 0, 'B01CNSM60S': 0, 'B072LPP6K6': 0, 'B00GRLUECA': 94, 'B00GU2ZZ8Y': 96, 'B000TQXNKE': 0, 'B00GZAPAHM': 1, 'B00GZATKBY': 12, 'B0013OSBYE': 0, 'B076ZWDFM1': 0, 'B00GZAFY64': 4, 'B00HAPOVZI': 2, 'B00HLAO65M': 94, 'B011J61NFY': 0, 'B0188LOW4M': 0, '0847861678': 0, 'B00I0DN5Q0': 3, 'B007YGJR2U': 0, 'B00IYFIKUA': 7, 'B00IYFNQP4': 2, 'B01DGLKO7I': 0, 'B00IYFMYEI': 2, 'B00JDQJZWG': 44, 'B07FKKBFHS': 0, 'B07FZY181K': 0, 'B01676307A': 0, 'B075WRSGFD': 0, 'B01AXCRBYC': 0, 'B00CHQKNUM': 0, 'B01DCN6VQI': 0, 'B07CY5V7SB': 0, 'B0189TBXUY': 0, 'B00MV9PB5C': 0, 'B071GBMFZR': 0, 'B00K4PIE68': 90, 'B017TH4H7S': 0, 'B00KFLZZVI': 0, 'B0742QD35B': 0, 'B00K4PI97C': 5, 'B00K4PII50': 26, 'B0778Q8VYP': 0, 'B01NAXAVAK': 0, 'B015QLGFPQ': 0, 'B01N0M3JNR': 0, 'B017TH148I': 0, 'B00K4PI9JK': 0, 'B00Q8VI480': 0, 'B00K4PJ3F4': 90, 'B00LAY3PBG': 0, 'B07577X6HF': 0, 'B013WFOEVK': 0, 'B01MT5YWTW': 0, 'B01FIIK4OK': 0, 'B00BOQXWGS': 0, 'B00K4PISAA': 19, 'B019GYWFBW': 15, 'B017TH0NKI': 0, 'B00K4PIV2K': 63, 'B017TH2ASG': 0, 'B07GVXDZ9G': 0, 'B00K4PIRPG': 0, 'B071GT76MN': 0, 'B00K4PIXXW': 90, 'B07KB76WPF': 0, 'B017TH0GN2': 0, 'B003KYTNYW': 0, 'B017TH561E': 0, 'B010OX42WO': 0, 'B079MDPR56': 0, 'B0797S598Z': 0, 'B00K4PO8WC': 11, 'B00K4PJ0O8': 14, 'B00KV30IHG': 80, 'B00FN50BYC': 0, 'B002KW3OQS': 0, 'B07BH3NX8F': 0, 'B07HPZR8DZ': 0, 'B07H4SYC6Q': 0, 'B0027A39PY': 0, 'B072KSQ4DH': 0, 'B01MTYN6E9': 0, 'B06VW9QDSF': 0, 'B07FX28CGG': 0, 'B00K89KU80': 0, 'B07D4967Z5': 0, 'B00000IZJB': 0, 'B01GGKZ2SC': 0, 'B00KY9QQGE': 82, 'B07CWVWKCP': 0, 'B0714CN421': 0, 'B018QNM7V2': 0, 'B06ZZ5K124': 0, '1982121084': 0, 'B00K2RY8GI': 0, 'B00LWBDTP4': 29, 'B00MZF2GK0': 0, 'B00PABVMWO': 0, 'B0172YLENI': 0, 'B00NT5W4LQ': 0, 'B00UW1CEMY': 0, 'B07F2K37YC': 0, 'B00MXD9HUG': 40, 'B00OX9NC4U': 0, 'B07CH3JTRP': 0, 'B071FNQDT5': 0, 'B0774YR45F': 0, 'B00EX5K1GG': 0, 'B00NM4J4UI': 3, 'B00NM4II5A': 65, 'B01CI2QSW6': 0, 'B00NUZW4GA': 2, 'B079TFQMQQ': 0, 'B00XHSKKXE': 0, 'B00O3YIGOG': 91, 'B00T2Z428A': 0, 'B07B83HP9K': 0, 'B06XBZT4RL': 0, 'B019K8L3IK': 0, 'B00O4DMXUY': 0, 'B019HP0YRW': 0, 'B077PJBXPX': 0, 'B01MCRBNTE': 0, 'B01AIJ9JBS': 0, 'B00O4I4Y3S': 92, 'B00GB8LMGG': 0, 'B00OR54DES': 94, '1984818295': 0, 'B00025YVPI': 0, 'B00OV98F44': 96, 'B07DX77485': 0, 'B00945D08G': 0, 'B06XJ1561K': 0, 'B00EJ0A6I8': 0, 'B07GZ62CB6': 0, 'B00WROYVVQ': 95, 'B00MV9GB8I': 0, 'B0725ZHX2K': 0, 'B0172YMMUC': 0, 'B01IQ0G3EM': 0, 'B01MDLOM4V': 0, 'B00PG248V4': 91, 'B0188LN6EO': 0, 'B00PG23QFI': 98, 'B077JGYK1Y': 0, 'B00PG8502O': 96, 'B07FQWQRH1': 0, 'B00PG9870U': 94, 'B00Q7Z38B0': 29, 'B00Q80WDEM': 69, 'B01FKC66WS': 0, 'B00MV9K3A0': 0, 'B004MDLZ32': 0, 'B00P1D0RX6': 0, 'B00QB6L0OC': 15, 'B06XW2W3CJ': 0, 'B00S5JE4PU': 92, 'B07J145PJ2': 0, 'B00P9YGK1K': 0, 'B0784R34BP': 0, 'B074CNL7WB': 0, 'B075114NBP': 0, '1520368348': 0, 'B0150TYVGY': 0, 'B00TEEU5X0': 13, 'B00DM14TYC': 0, 'B01N5JUPRI': 0, 'B00GN3QU4I': 0, '9729375011': 0, 'B01N06ZFIX': 0, 'B00UV2YR4W': 1, 'B0779F2DHD': 0, 'B00S6FEE3A': 0, 'B01FYG8JIE': 0, 'B07HFRK4NR': 0, 'B00BT2IXOI': 0, 'B000C1VZMY': 0, 'B00VTVA9TQ': 94, 'B07FRKKHVV': 0, 'B00I08J6S6': 0, 'B01LX07YGE': 0, 'B00W2PTNHW': 0, 'B00GRXVHIS': 0, 'B07736M9PC': 0, 'B00PYMCY80': 0, 'B00X4RERY6': 17, 'B00X6G8J3A': 85, 'B075XLWML4': 0, 'B018HHDFBI': 0, 'B019LAW60Q': 0, 'B07FH7RDNH': 0, 'B00O14JG2Y': 0, 'B00LK0N31W': 0, 'B00YD74M4Q': 40, 'B01L081SO2': 0, 'B072L7R1YX': 0, 'B073WJMKHN': 0, 'B014LMWGCM': 67, 'B01M7QZW5N': 0, 'B01M5CONJJ': 0, 'B07DGN93G4': 0, 'B076PK9N8R': 0, 'B0747T8L7Z': 0, 'B01MF4Y0EE': 0, 'B076PTY3SG': 0, 'B014FU1BNA': 0, 'B073ZXHQ96': 0, 'B01M6UK1DI': 0, 'B01MF54LE0': 0, 'B006AA3G5U': 0, 'B00KSZDSBU': 0, 'B00F9WOLMC': 0, 'B014S1KPKG': 44, 'B073Z16GX9': 0, 'B004QL9CI0': 0, 'B07L5SW634': 0, 'B014S24DAI': 58, 'B00JUQ5G7C': 0, 'B0039NMCA6': 0, 'B01M9AU8MB': 0, 'B00451ZJB0': 0, 'B014I8SSD0': 0, 'B0763J55T8': 0, 'B077PXVKZX': 0, 'B01ALIGY46': 0, 'B07JDVT9RF': 0, 'B015NKJ6D8': 90, 'B06ZYJ3HJD': 0, 'B06Y5LTQKZ': 0, 'B016BCKQXG': 10, 'B01LPY0FMW': 0, 'B016CDV4E4': 92, 'B0091JKMOA': 0, 'B01LPBO5W6': 0, '0789334844': 0, 'B0048YGBPC': 0, 'B073Z17HFQ': 0, 'B071J92LFR': 0, 'B073JGX2CJ': 0, 'B01KOUMCQ0': 0, 'B076MCZBN5': 0, 'B01LQM8Q2E': 0, 'B01MT2WSUR': 0, 'B07GWN4BCX': 0, 'B01L1JRJGQ': 0, 'B01N6WXSBS': 0, 'B00L3WWWCS': 0, 'B01I3ZVI86': 0, 'B001CEMCXQ': 0, 'B079KMPJ12': 0, 'B01LQM8SCC': 0, 'B07146ZG1X': 0, 'B01N035X5D': 0, 'B016CICYXO': 95, 'B07DDC8FJM': 0, 'B016J1LCRI': 0, 'B016J1LFX4': 0, 'B06ZYZ1TKK': 0, 'B06XBWCHLT': 0, 'B07H3K7QCK': 0, 'B0711YCK5Z': 0, 'B01M0PVGQ3': 0, 'B07B9HR3LF': 0, 'B07661J1HX': 0, 'B016J1LGPG': 55, 'B07642BXQ5': 0, 'B01IE4300U': 0, 'B01B25M0YK': 0, 'B07641V3C7': 0, 'B016J1LDNQ': 64, 'B00B96KF8G': 0, 'B00B96KLCQ': 0, 'B01N5UX36D': 0, '1423139100': 0, 'B005M4IZSI': 0, 'B000OVRIDW': 0, 'B01LZXLJHE': 0, 'B016PARLMS': 89, 'B004XWNU5I': 0, 'B01GMFSTH2': 0, 'B075RGRFJG': 0, 'B01LOKCV6U': 0, 'B01AC7SF7K': 0, 'B01LZ0QHUX': 0, 'B016PASBWC': 96, 'B07GX3QFPJ': 0, '1937994775': 0, '0972428216': 0, 'B074T8JTK4': 0, 'B00EX5J9DM': 0, 'B016PARP24': 95, 'B07FFGNNDD': 0, 'B016PASEN8': 94, 'B0170NTG5O': 1, 'B00P9YG0VA': 0, 'B00FZLCA98': 0, 'B003VP2MR0': 0, 'B00M9ZNZLK': 0, 'B017LRA8TC': 16, 'B016WEO4MM': 0, 'B018F76HBA': 3, 'B018U5LR6C': 1, 'B018U5OE5S': 10, 'B01ANL02UI': 4, 'B01B25LU7S': 90, 'B072MMDLPQ': 0, 'B00KKUYBFU': 0, 'B00683J8T2': 0, 'B079QKJ6CQ': 0, 'B00WHYM1XQ': 0, 'B01B25LZCI': 49, 'B0733NB3ZR': 0, 'B0775FD552': 0, 'B01C38OPJI': 0, '0739048120': 0, 'B005RRBGIQ': 0, 'B000VBJFR2': 0, 'B01N97PCBH': 0, 'B0010B5EQS': 0, 'B01B25LFGY': 87, 'B07C945CYR': 0, 'B079NWLQ8B': 0, 'B06XJJZPL1': 0, 'B07BWY5PZ8': 0, 'B078XYRPYX': 0, 'B06XJD4Q8G': 0, 'B06XJHHXBP': 0, 'B076CSQV47': 0, 'B01DVO1ID4': 0, 'B01DDFYSWE': 0, 'B06XJ9SXJJ': 0, 'B07CBLJK61': 0, 'B071CVKV5Y': 0, 'B06XHZ8GG5': 0, 'B06XJ9PHYZ': 0, 'B07CVL1PNW': 0, 'B07DMCN7ZS': 0, 'B078Y2QN8C': 0, 'B0194PRD92': 0, 'B07BLTLCWK': 0, 'B01FOIWFD2': 0, 'B07GJMD7V4': 0, 'B00FB8JOOY': 0, '153872913X': 0, 'B002WJH3DY': 0, 'B001RUK3YK': 0, '1424556368': 0, 'B01MS6QWJ3': 0, 'B0058DQLO8': 0, 'B075613C67': 0, 'B01N0RSC4K': 0, 'B078MC3RPM': 0, 'B005K0B8WO': 0, 'B079P4P422': 0, 'B078NTB7SV': 0, 'B073NT2BDX': 0, 'B073WW52S6': 0, 'B01DCN9GVU': 40, 'B077J82L6F': 0, 'B07FR917ZR': 0, 'B00F55P1WW': 0, '0545392551': 0, 'B0081ZOWG4': 0, 'B00IR4F3LM': 0, 'B07L9WQ2JY': 0, 'B073W83VC7': 0, 'B00NTWTUKM': 0, 'B01M2CO8LZ': 0, 'B07HD16Q7B': 0, 'B01BZYYDTI': 0, 'B000IDSLOG': 0, 'B00IM8FZIE': 0, 'B06XMRCC94': 0, 'B00FXR5S20': 0, 'B000067EH7': 0, 'B003N9M6YI': 0, 'B01C3H4ZTY': 0, 'B00FMWWN6U': 0, 'B00FB59O1A': 0, 'B000056OV0': 0, 'B000CNOIQ2': 0, 'B01DGLKSYM': 25, 'B016BCKWAI': 0, 'B00IYFNN3O': 0, 'B00P9VGXEM': 0, 'B07D6DD4CL': 0, 'B01E4QPDV6': 53, 'B00KWR6G4A': 0, 'B005K8KZDE': 0, 'B07BHPKCKN': 0, 'B002V7A7MQ': 0, 'B01E4QRAX0': 53, 'B00YF4I1BC': 0, 'B004CFY55A': 0, '1501194771': 0, '1732173710': 0, 'B01DTFF0Y8': 0, 'B00F1J8HOQ': 0, 'B00GQP0XTQ': 0, 'B00COK3FD8': 0, 'B0006ZUHR0': 0, 'B00LGLHUA0': 0, 'B0725GYNG6': 0, 'B002LTHMEA': 0, 'B00O83CTOK': 0, 'B016LUR08W': 0, 'B0111AHJVU': 0, 'B01E4QQ6QM': 58, 'B07F3PH3DD': 0, '0544580141': 0, 'B01MQ3YP7Y': 0, 'B07GSQHLX8': 0, 'B00JM5GW10': 0, 'B01E4QUN0W': 56, 'B0154FF8OS': 0, 'B01A5V5LD4': 0, 'B07F1MPVGC': 0, '0763668745': 0, 'B074XH9CTD': 0, 'B018TYAGAC': 0, 'B07G19YRMF': 0, 'B079TFMT8C': 0, 'B0058SBV1Q': 0, 'B01MAUIT05': 0, 'B00K2RJAR0': 0, 'B0777XQ4S8': 0, '1524763136': 0, 'B01ESBMY3W': 88, '8867326155': 0, 'B07DNK4DNG': 0, 'B07BB3Y6BK': 0, 'B00W3PXEE4': 0, 'B00C5VYZMQ': 0, 'B014Q1XX9S': 0, 'B01MT1O9X2': 0, '1601061560': 0, 'B07CRNKJ66': 0, 'B002QI83XK': 0, 'B00O8PNW6M': 0, 'B073XTQQYT': 0, 'B00BL5LB2Y': 0, 'B01HGJSQA8': 0, 'B07GZGVTBM': 0, 'B07GTZB2DK': 0, 'B07F1DR3WM': 0, '1101911948': 0, 'B077MDJ58Y': 0, 'B07MHPWX5P': 0, '0060899220': 0, 'B0126LMDFK': 0, 'B007885IJU': 0, 'B00ISECUZS': 0, 'B01FERQPAM': 62, 'B00MY8DSCS': 0, 'B07BQ1P7CN': 0, 'B0793JTRSN': 0, 'B01FERR1VE': 62, 'B01GF6W1E0': 21, 'B01GF7GTJ2': 0, 'B01GF6WEPG': 12, 'B01M3R8L5E': 0, 'B01MF4DPT9': 0, 'B01K9Q5AJK': 0, 'B01GF6WULE': 12, 'B01GF6X20W': 35, 'B01GF6WISE': 13, 'B01GF6X9UU': 26, 'B01MRTYMYN': 0, 'B01GF6WNO8': 3, 'B01GF6X842': 6, 'B01MF4MPBB': 0, 'B01K9Q5GOE': 0, 'B01MEC82PU': 0, 'B01MCRBNUW': 0, 'B01M1AA778': 0, 'B06XW3XDZ7': 0, 'B01MA1J2KN': 0, 'B01MA1J49I': 0, 'B0742HRLW5': 0, 'B000TDZH10': 0, 'B01M3NMMI7': 0, 'B07BC7FWXH': 0, 'B01N7OMYGG': 0, 'B00PLXGDXY': 0, 'B01GF6WXAW': 7, 'B01GF6X4LE': 11, 'B07CZ7WP6W': 0, 'B01MCRBOFC': 0, 'B01GKWEJTO': 93, 'B01M4OR62M': 0, 'B078W1HYH8': 0, 'B004YE001M': 0, 'B00APNW6M2': 0, 'B00S9FSLTU': 0, 'B01MQWUXZS': 0, 'B072FB755J': 0, 'B075YTLRYJ': 0, 'B01N31VCM9': 0, 'B07F99GS3X': 0, 'B01GKZ3SQG': 94, 'B074NBC6YV': 0, 'B00006IEAN': 0, 'B07D1TFY67': 0, 'B008RQ1PSK': 0, 'B01GKZ3LH2': 22, 'B00KNOA102': 0, 'B01GKZ37SA': 87, 'B07KXNQVRF': 0, 'B0045QEPYM': 0, '0062225243': 0, 'B01GOQIKRI': 77, 'B07CSFM3VH': 0})"
            ]
          },
          "metadata": {},
          "execution_count": 17
        }
      ]
    },
    {
      "cell_type": "markdown",
      "source": [
        "### Centrality & other stuff\n",
        "(from exercises)\n"
      ],
      "metadata": {
        "id": "UIl5b4AdCQcQ"
      }
    },
    {
      "cell_type": "code",
      "source": [
        "\n",
        "#Centrality of the Nodes.\n",
        "degree_central=nx.degree_centrality(G)\n",
        "plt.bar(range(len(degree_central)),degree_central.values(),width=0.8, color='b')\n",
        "fig = plt.gcf()\n",
        "axes=plt.gca()\n",
        "fig.set_size_inches(15,10)\n",
        "axes.set_ylim([0,0.05])\n",
        "plt.title(\"Centrality of Each node\")\n",
        "plt.show()\n",
        "\n"
      ],
      "metadata": {
        "colab": {
          "base_uri": "https://localhost:8080/",
          "height": 601
        },
        "id": "rs-PD_WABfs5",
        "outputId": "254ef386-605a-44e7-d60a-ea0374ae35e8"
      },
      "execution_count": 18,
      "outputs": [
        {
          "output_type": "display_data",
          "data": {
            "image/png": "[encoded data removed]",
            "text/plain": [
              "<Figure size 1080x720 with 1 Axes>"
            ]
          },
          "metadata": {
            "needs_background": "light"
          }
        }
      ]
    },
    {
      "cell_type": "code",
      "source": [
        "def centrality_study(G): \n",
        "  degree = nx.degree_centrality\n",
        "  pagerank= nx.pagerank(G, alpha=0.85)\n",
        "  closeness = nx.closeness_centrality(G)\n",
        "  betweenness = nx.betweenness_centrality(G)\n",
        "  eingeigenvector = nx.eigenvector_centrality(G)\n",
        "  harmonic = nx.harmonic_centrality(G)\n",
        "  return degree, pagerank, closeness, betweenness, eingeigenvector, harmonic\n",
        "\n"
      ],
      "metadata": {
        "id": "gjp0I4x4EZjv"
      },
      "execution_count": 26,
      "outputs": []
    },
    {
      "cell_type": "code",
      "source": [
        "degree, pagerank, closeness, betweenness, eingeigenvector, harmonic = centrality_study(G)"
      ],
      "metadata": {
        "id": "XdpFg0eAFaMl"
      },
      "execution_count": 30,
      "outputs": []
    },
    {
      "cell_type": "code",
      "source": [
        "def draw(G, pos, measures, measure_name):\n",
        "    \n",
        "    nodes = nx.draw_networkx_nodes(G, pos, node_size=280, cmap=plt.cm.jet, \n",
        "                                   node_color=list(measures.values()),\n",
        "                                   nodelist=measures.keys())\n",
        "    #nodes.set_norm(mcolors.SymLogNorm(linthresh=0.01, linscale=1, base=10))\n",
        "    labels = nx.draw_networkx_labels(G, pos)\n",
        "    edges = nx.draw_networkx_edges(G, pos)\n",
        "\n",
        "    plt.title(measure_name)\n",
        "    plt.colorbar(nodes)\n",
        "    plt.axis('off')\n",
        "    #plt.show()\n",
        "    \n",
        "pos = nx.spring_layout(G)\n",
        "\n",
        "plt.figure(figsize=(20, 16)) \n",
        "plt.subplot(321)\n",
        "draw(G, pos, pagerank, 'PageRank')\n",
        "\n",
        "\"\"\"\n",
        "plt.subplot(322)\n",
        "draw(G, pos, nx.closeness_centrality(G), 'Closeness Centrality')\n",
        "\n",
        "\n",
        "plt.subplot(323)\n",
        "draw(G, pos, nx.harmonic_centrality(G), 'Harmonic Centrality')\n",
        "\n",
        "plt.subplot(324)\n",
        "draw(G, pos, nx.betweenness_centrality(G), 'Betweenness Centrality')\n",
        "\n",
        "plt.subplot(325)\n",
        "draw(G, pos, nx.eigenvector_centrality(G), 'Eigenvector Centrality')\n",
        "\n",
        "plt.subplot(326)\n",
        "draw(G, pos, nx.degree_centrality(G), 'Degree Centrality')\n",
        "\"\"\""
      ],
      "metadata": {
        "colab": {
          "base_uri": "https://localhost:8080/",
          "height": 391
        },
        "id": "AiBKUDVODkzU",
        "outputId": "3e902d43-0063-47c1-d9ea-b685c25cf656"
      },
      "execution_count": 31,
      "outputs": [
        {
          "output_type": "execute_result",
          "data": {
            "application/vnd.google.colaboratory.intrinsic+json": {
              "type": "string"
            },
            "text/plain": [
              "\"\\nplt.subplot(322)\\ndraw(G, pos, nx.closeness_centrality(G), 'Closeness Centrality')\\n\\n\\nplt.subplot(323)\\ndraw(G, pos, nx.harmonic_centrality(G), 'Harmonic Centrality')\\n\\nplt.subplot(324)\\ndraw(G, pos, nx.betweenness_centrality(G), 'Betweenness Centrality')\\n\\nplt.subplot(325)\\ndraw(G, pos, nx.eigenvector_centrality(G), 'Eigenvector Centrality')\\n\\nplt.subplot(326)\\ndraw(G, pos, nx.degree_centrality(G), 'Degree Centrality')\\n\""
            ]
          },
          "metadata": {},
          "execution_count": 31
        },
        {
          "output_type": "display_data",
          "data": {
            "image/png": "[encoded data removed]",
            "text/plain": [
              "<Figure size 1440x1152 with 2 Axes>"
            ]
          },
          "metadata": {
            "needs_background": "light"
          }
        }
      ]
    }
  ]
}