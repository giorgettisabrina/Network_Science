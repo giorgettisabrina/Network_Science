{
 "cells": [
  {
   "cell_type": "code",
   "execution_count": 1,
   "metadata": {},
   "outputs": [],
   "source": [
    "import pandas as pd\n",
    "import matplotlib.pyplot as plt\n",
    "import networkx as nx\n",
    "import numpy as np\n",
    "import community as community_louvain\n",
    "import networkx.algorithms.community as nx_com\n",
    "from sklearn import preprocessing\n",
    "import matplotlib.colors as colors\n",
    "import matplotlib.cm as cmx"
   ]
  },
  {
   "cell_type": "markdown",
   "metadata": {},
   "source": [
    "## Information for ID in ***amazon-meta.txt***"
   ]
  },
  {
   "cell_type": "code",
   "execution_count": null,
   "metadata": {},
   "outputs": [],
   "source": [
    "fname = \"amazon-meta.txt\"\n",
    "with open(fname, encoding = 'utf8') as f:\n",
    "    content = f.readlines()\n",
    "#Remove the beginning and trailing white spaces.\n",
    "content = [x.strip() for x in content] "
   ]
  },
  {
   "cell_type": "code",
   "execution_count": null,
   "metadata": {},
   "outputs": [],
   "source": [
    "content"
   ]
  },
  {
   "cell_type": "code",
   "execution_count": null,
   "metadata": {},
   "outputs": [],
   "source": [
    "file = open(\"preprocess.csv\",\"w\", encoding='utf8')\n",
    "previouslines = ['Id', 'title', 'group', 'categories', 'totalreviews', 'avgrating']\n",
    "for line in content:\n",
    "    lines = line.split(':')\n",
    "    if lines[0] == \"Id\":\n",
    "        if (len(previouslines) == 6):\n",
    "            for component in previouslines[0:5]:\n",
    "                file.write(component)\n",
    "                file.write(',')\n",
    "            file.write(previouslines[5])\n",
    "            file.write(\"\\n\")\n",
    "        previouslines = []\n",
    "        previouslines.append(lines[1].strip())\n",
    "        \n",
    "    if lines[0] == \"title\":\n",
    "        title = ':'.join(lines[1:]).strip().replace(',', ' ').replace('\\n', ' ').strip()\n",
    "        previouslines.append(title)\n",
    "       \n",
    "    if lines[0] == \"group\":\n",
    "        previouslines.append(lines[1].strip())\n",
    "\n",
    "    if lines[0] == \"categories\":\n",
    "        previouslines.append(lines[1].strip())\n",
    "    \n",
    "    if lines[0] == \"reviews\" and lines[1].strip() == \"total\":\n",
    "        previouslines.append(lines[2].split(' ')[1])\n",
    "        previouslines.append(lines[4].strip())\n",
    "file.close()"
   ]
  },
  {
   "cell_type": "code",
   "execution_count": null,
   "metadata": {},
   "outputs": [],
   "source": [
    "df1 = pd.read_csv(\"preprocess.csv\", sep=',')\n",
    "#df1.rename({'Id': 'from_id'}, axis=1, inplace=True)\n",
    "df1"
   ]
  },
  {
   "cell_type": "markdown",
   "metadata": {},
   "source": [
    "## Node Txt"
   ]
  },
  {
   "cell_type": "code",
   "execution_count": null,
   "metadata": {},
   "outputs": [],
   "source": [
    "id_ = pd.read_csv(\"node_list.csv\", sep=',')\n",
    "id_.rename({'# FromNodeId': 'from_id', 'ToNodeId': 'to_id'}, axis=1, inplace=True)\n",
    "id_"
   ]
  },
  {
   "cell_type": "markdown",
   "metadata": {},
   "source": [
    "## Subset of dataframe"
   ]
  },
  {
   "cell_type": "code",
   "execution_count": null,
   "metadata": {},
   "outputs": [],
   "source": [
    "df = df1[(df1['group']=='Video') & (df1['totalreviews']>=100)].reset_index(drop=True)\n",
    "df = df.iloc[0:100]\n",
    "df"
   ]
  },
  {
   "cell_type": "markdown",
   "metadata": {},
   "source": [
    "# Prove network"
   ]
  },
  {
   "cell_type": "code",
   "execution_count": null,
   "metadata": {},
   "outputs": [],
   "source": [
    "#take the rows of the id dataframe with the index of the subset\n",
    "index = df.Id.values\n",
    "net = id_[id_['from_id'].isin(index)]\n",
    "\n",
    "G = nx.from_pandas_edgelist(net,source='from_id',target='to_id', create_using=nx.DiGraph())\n",
    "print(nx.info(G))"
   ]
  },
  {
   "cell_type": "code",
   "execution_count": null,
   "metadata": {},
   "outputs": [],
   "source": [
    "le = preprocessing.LabelEncoder()\n",
    "legend = dict(zip(G.nodes, df1.categories.values))\n",
    "enc = le.fit_transform(list(legend.values()))"
   ]
  },
  {
   "cell_type": "code",
   "execution_count": null,
   "metadata": {},
   "outputs": [],
   "source": [
    "pos = nx.spring_layout(G)\n",
    "\n",
    "deg_centrality = nx.degree_centrality(G)\n",
    "centrality = np.fromiter(deg_centrality.values(), float)"
   ]
  },
  {
   "cell_type": "code",
   "execution_count": null,
   "metadata": {
    "scrolled": false
   },
   "outputs": [],
   "source": [
    "cNorm  = colors.Normalize(vmin=0, vmax=max(enc))\n",
    "scalarMap = cmx.ScalarMappable(norm=cNorm, cmap=plt.get_cmap('jet'))\n",
    "\n",
    "f = plt.figure(1,figsize=(10,10))\n",
    "ax = f.add_subplot(1,1,1)\n",
    "for label in sorted(list(set(enc))):\n",
    "    ax.scatter([0],[0],color=scalarMap.to_rgba(label),label=label)\n",
    "\n",
    "nx.draw_networkx(G, pos,arrowstyle='->',\n",
    "                 node_size=centrality*6e3,\n",
    "                 node_color=enc,\n",
    "                 with_labels=False,\n",
    "                 #labels=col,\n",
    "                 cmap=plt.get_cmap('jet'))\n",
    "\n",
    "box = ax.get_position()\n",
    "ax.set_position([box.x0, box.y0, box.width , box.height])\n",
    "plt.legend(loc='upper left', bbox_to_anchor=(1.,.5),title='Average Rate',\n",
    "          ncol=1, fancybox=True, shadow=True)\n",
    "plt.show()"
   ]
  },
  {
   "cell_type": "code",
   "execution_count": null,
   "metadata": {},
   "outputs": [],
   "source": [
    "degree_sequence = sorted([d for n, d in G.degree()], reverse=True)\n",
    "dmax = max(degree_sequence)\n",
    "\n",
    "fig = plt.figure(\"Degree of a graph\", figsize=(14, 14))\n",
    "# Create a gridspec for adding subplots of different sizes\n",
    "axgrid = fig.add_gridspec(5, 4)\n",
    "\n",
    "ax1 = fig.add_subplot(axgrid[3:, :2])\n",
    "ax1.plot(degree_sequence, \"b-\", marker=\"o\")\n",
    "ax1.set_title(\" LOG Degree Rank Plot\")\n",
    "ax1.set_ylabel(\"Degree\")\n",
    "plt.xscale(\"log\")\n",
    "plt.yscale(\"log\")\n",
    "ax1.set_xlabel(\"Rank\")\n",
    "\n",
    "ax2 = fig.add_subplot(axgrid[3:, 2:])\n",
    "ax2.bar(*np.unique(degree_sequence, return_counts=True))\n",
    "ax2.set_title(\"Degree histogram\")\n",
    "ax2.set_xlabel(\"Degree\")\n",
    "ax2.set_ylabel(\"# of Nodes\")\n",
    "ax2.set_xlim(0,20)\n",
    "\n",
    "fig.tight_layout()\n",
    "\n",
    "plt.show()"
   ]
  }
 ],
 "metadata": {
  "kernelspec": {
   "display_name": "Python 3",
   "language": "python",
   "name": "python3"
  },
  "language_info": {
   "codemirror_mode": {
    "name": "ipython",
    "version": 3
   },
   "file_extension": ".py",
   "mimetype": "text/x-python",
   "name": "python",
   "nbconvert_exporter": "python",
   "pygments_lexer": "ipython3",
   "version": "3.8.5"
  }
 },
 "nbformat": 4,
 "nbformat_minor": 4
}
