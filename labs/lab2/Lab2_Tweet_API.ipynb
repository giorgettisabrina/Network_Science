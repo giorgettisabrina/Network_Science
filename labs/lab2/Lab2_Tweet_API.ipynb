{
  "nbformat": 4,
  "nbformat_minor": 0,
  "metadata": {
    "colab": {
      "name": "Tweet API.ipynb",
      "provenance": [],
      "collapsed_sections": [],
      "toc_visible": true
    },
    "kernelspec": {
      "display_name": "Python 3",
      "language": "python",
      "name": "python3"
    },
    "language_info": {
      "codemirror_mode": {
        "name": "ipython",
        "version": 3
      },
      "file_extension": ".py",
      "mimetype": "text/x-python",
      "name": "python",
      "nbconvert_exporter": "python",
      "pygments_lexer": "ipython3",
      "version": "3.8.5"
    }
  },
  "cells": [
    {
      "cell_type": "markdown",
      "metadata": {
        "id": "v4bkwQoHr9i3"
      },
      "source": [
        "# Laboratory 1: setting up Twitter API"
      ]
    },
    {
      "cell_type": "markdown",
      "metadata": {
        "id": "21NaYdhRr9i7"
      },
      "source": [
        "## Set up"
      ]
    },
    {
      "cell_type": "code",
      "metadata": {
        "id": "gNFOaZPIxyS2"
      },
      "source": [
        "import os\n",
        "os.environ['TOKEN'] = #bearer token here"
      ],
      "execution_count": null,
      "outputs": []
    },
    {
      "cell_type": "code",
      "metadata": {
        "id": "GjUQcJpfrecr",
        "outputId": "c048e670-6ae7-4d87-977e-6a22de5fd9f8",
        "colab": {
          "base_uri": "https://localhost:8080/"
        }
      },
      "source": [
        "from google.colab import drive\n",
        "drive.mount('/content/drive')"
      ],
      "execution_count": 1,
      "outputs": [
        {
          "output_type": "stream",
          "name": "stdout",
          "text": [
            "Mounted at /content/drive\n"
          ]
        }
      ]
    },
    {
      "cell_type": "markdown",
      "metadata": {
        "id": "Nwy6MeGur9i-"
      },
      "source": [
        "### Import libraries"
      ]
    },
    {
      "cell_type": "code",
      "metadata": {
        "id": "8ge5EaEur9jA"
      },
      "source": [
        "import requests \n",
        "import pandas as pd \n",
        "import time"
      ],
      "execution_count": 2,
      "outputs": []
    },
    {
      "cell_type": "markdown",
      "metadata": {
        "id": "IYIP9Ta4r9jR"
      },
      "source": [
        "### Set up headers"
      ]
    },
    {
      "cell_type": "code",
      "metadata": {
        "id": "pKWoILn7AMzj"
      },
      "source": [
        "def create_headers(bearer_token):\n",
        "    headers = {\"Authorization\": \"Bearer {}\".format(bearer_token)}\n",
        "    return headers"
      ],
      "execution_count": null,
      "outputs": []
    },
    {
      "cell_type": "code",
      "metadata": {
        "id": "W_buwaoAyPLM"
      },
      "source": [
        "headers = create_headers(os.environ['TOKEN'])"
      ],
      "execution_count": null,
      "outputs": []
    },
    {
      "cell_type": "markdown",
      "metadata": {
        "id": "Q8Pb9MXWr9jd"
      },
      "source": [
        "## Download data"
      ]
    },
    {
      "cell_type": "code",
      "metadata": {
        "id": "90Ukr82M_N39"
      },
      "source": [
        "def create_url(keyword, start_date, end_date, env_label, endpoint=\"fullarchive\"):\n",
        "    \n",
        "    search_url = \"https://api.twitter.com/1.1/tweets/search/{}.json\".format(endpoint+\"/\"+env_label) \n",
        "\n",
        "    #change params based on the endpoint you are using\n",
        "    query_params = {'query': keyword, 'fromDate': start_date, 'toDate': end_date}\n",
        "    return (search_url, query_params)"
      ],
      "execution_count": null,
      "outputs": []
    },
    {
      "cell_type": "code",
      "metadata": {
        "id": "AJD9pEHwAk84"
      },
      "source": [
        "def connect_to_endpoint(url, headers, params, next_token = None):\n",
        "    if next_token is not None and next_token != '':\n",
        "      params['next'] = next_token\n",
        "    response = requests.request(\"GET\", url, headers = headers, params = params)\n",
        "    if response.status_code != 200:\n",
        "        raise Exception(response.status_code, response.text)\n",
        "    return response.json()"
      ],
      "execution_count": null,
      "outputs": []
    },
    {
      "cell_type": "code",
      "metadata": {
        "id": "2Jgw8uZd0K5u"
      },
      "source": [
        "def get_data(keyword, start_time, end_time, next_token, env_label, endpoint):\n",
        "  results = []\n",
        "  \n",
        "  while next_token is not None:\n",
        "    ##this part here for one request\n",
        "    url = create_url(keyword, start_time,end_time, env_label, endpoint)\n",
        "    json_response = connect_to_endpoint(url[0], headers, url[1], next_token)\n",
        "    \n",
        "    if \"results\" in json_response:\n",
        "      results.extend(json_response[\"results\"])\n",
        "    ### up until this point\n",
        "    if \"next\" in json_response:\n",
        "        next_token = json_response[\"next\"]\n",
        "    else:\n",
        "      next_token = None\n",
        "    time.sleep(1)\n",
        "  \n",
        "  return results"
      ],
      "execution_count": null,
      "outputs": []
    },
    {
      "cell_type": "code",
      "metadata": {
        "id": "IyXiwYZCl8H3"
      },
      "source": [
        "def get_single_response(keyword, start_time, end_time, env_label, endpoint):\n",
        "  results = []\n",
        "  url = create_url(keyword, start_time,end_time, env_label, endpoint)\n",
        "  json_response = connect_to_endpoint(url[0], headers, url[1])\n",
        "  \n",
        "  if \"results\" in json_response:\n",
        "    results.extend(json_response[\"results\"])\n",
        "  \n",
        "  return results\n",
        "\n",
        "#Will return 100 results ad will use only 1 request"
      ],
      "execution_count": null,
      "outputs": []
    },
    {
      "cell_type": "code",
      "metadata": {
        "id": "vcJ4mF6d09-y"
      },
      "source": [
        "#tweets = get_data(\"Sarajevo\", \"202002090000\", \"202002100000\", \"\")"
      ],
      "execution_count": null,
      "outputs": []
    },
    {
      "cell_type": "code",
      "metadata": {
        "id": "gSt4xdwfmHcd"
      },
      "source": [
        "#tweets = get_single_response(\"COVID19 lang:en\", \"202110060000\", \"202111050000\", \"30day\", \"30day\")"
      ],
      "execution_count": null,
      "outputs": []
    },
    {
      "cell_type": "code",
      "metadata": {
        "id": "9LeV47qWnjur"
      },
      "source": [
        "#Tweets already prepered for us, so no need to re-run the code (and run out of requests)"
      ],
      "execution_count": null,
      "outputs": []
    },
    {
      "cell_type": "markdown",
      "metadata": {
        "id": "2tQoczST6dQ8"
      },
      "source": [
        "### Inspect data"
      ]
    },
    {
      "cell_type": "code",
      "metadata": {
        "id": "qcWGG5Rz39Gr"
      },
      "source": [
        "len(tweets)"
      ],
      "execution_count": null,
      "outputs": []
    },
    {
      "cell_type": "code",
      "metadata": {
        "id": "Qy1AZe4O4T7C"
      },
      "source": [
        "tweets[0]"
      ],
      "execution_count": null,
      "outputs": []
    },
    {
      "cell_type": "markdown",
      "metadata": {
        "id": "nUGfn_G3qcLV"
      },
      "source": [
        "# Laboratory 2: working with Twitter data"
      ]
    },
    {
      "cell_type": "markdown",
      "metadata": {
        "id": "-6mSYSqKqh7f"
      },
      "source": [
        "First, we want to convert the data into Pandas DataFrame. This format enables us easy manipulation of the data as well as saving/loading data.\n",
        "\n",
        "Since we have our tweets saved as a list of dictionaries, we can easily convert it to DataFrame by executing the cell blow."
      ]
    },
    {
      "cell_type": "code",
      "metadata": {
        "id": "u1C940uZnWFA"
      },
      "source": [
        "tweets_df = pd.DataFrame(tweets)"
      ],
      "execution_count": null,
      "outputs": []
    },
    {
      "cell_type": "code",
      "metadata": {
        "id": "w_3wVLwunjuv"
      },
      "source": [
        "tweets_df"
      ],
      "execution_count": null,
      "outputs": []
    },
    {
      "cell_type": "markdown",
      "metadata": {
        "id": "YVXP-fDrtMae"
      },
      "source": [
        "### Saving the results"
      ]
    },
    {
      "cell_type": "markdown",
      "metadata": {
        "id": "Kmi5SprXrEOM"
      },
      "source": [
        "Once we have our Tweets as a DataFrame it is a good idea to save it on the disk. \n",
        "\n",
        "Be mindful of the fact that the storage of a Colab notebook is deleted everytime runtime is interrupted or restarted, so you need to manually download it to your computer or mount your Google Drive and save it there (this option is unavailable if you're using university's email account for Drive)."
      ]
    },
    {
      "cell_type": "code",
      "metadata": {
        "id": "PqdepSBprmvl"
      },
      "source": [
        "path = \"/content/\" #enter the path to your Drive or leave this as default"
      ],
      "execution_count": null,
      "outputs": []
    },
    {
      "cell_type": "markdown",
      "metadata": {
        "id": "CmtD5-THsUJp"
      },
      "source": [
        "We can save it as a comma-separated values file, which enables opening it in a spreadsheet editor and inspecting it."
      ]
    },
    {
      "cell_type": "code",
      "metadata": {
        "id": "ex1E8v-qrkeh"
      },
      "source": [
        "tweets_df.to_csv(path+\"tweets.csv\", index=False)"
      ],
      "execution_count": null,
      "outputs": []
    },
    {
      "cell_type": "markdown",
      "metadata": {
        "id": "iFcy4tKls7qD"
      },
      "source": [
        "In order to preserve datatypes, we should save it as a parquet or pickle file."
      ]
    },
    {
      "cell_type": "code",
      "metadata": {
        "id": "hUqdVEGksm7n"
      },
      "source": [
        "tweets_df.to_pickle(path+\"tweets.pkl\")"
      ],
      "execution_count": null,
      "outputs": []
    },
    {
      "cell_type": "markdown",
      "metadata": {
        "id": "H02ZoRcGtpaY"
      },
      "source": [
        "### Loading the data"
      ]
    },
    {
      "cell_type": "markdown",
      "metadata": {
        "id": "RncdOcxwnjuy"
      },
      "source": [
        "The different column have different type, once you save as a cvs and load they will all be strings.\n",
        "We want to preserve the data so it is very convinient for us to use pkl file"
      ]
    },
    {
      "cell_type": "markdown",
      "metadata": {
        "id": "VWhc-_nNtsnT"
      },
      "source": [
        "If you want to load the results you have previously saved, simply execute the next code, specifying the path to the file.\n",
        "\n",
        "You will need to either upload it to the Colab workspace or copy the path to the file on Drive."
      ]
    },
    {
      "cell_type": "code",
      "metadata": {
        "id": "1LlenT11t_Xp"
      },
      "source": [
        "#tweets_df = pd.read_pickle(path+\"tweets.pkl\")"
      ],
      "execution_count": null,
      "outputs": []
    },
    {
      "cell_type": "code",
      "metadata": {
        "id": "rfvJzkTPnju0"
      },
      "source": [
        "#locally\n",
        "tweets_df = pd.read_pickle(\"/home/sabrina/Desktop/NetworkScience/labs/\"+\"tweets.pkl\")\n",
        "tweets_df"
      ],
      "execution_count": null,
      "outputs": []
    },
    {
      "cell_type": "code",
      "metadata": {
        "id": "rPYqtLk3n6bv",
        "outputId": "16609d8e-2490-487f-fb25-659b01295080",
        "colab": {
          "base_uri": "https://localhost:8080/",
          "height": 965
        }
      },
      "source": [
        "#drive\n",
        "tweets_df=pd.read_pickle(\"/content/drive/MyDrive/Colab Notebooks/NSdata/\"+\"tweets.pkl\")\n",
        "tweets_df"
      ],
      "execution_count": 4,
      "outputs": [
        {
          "output_type": "execute_result",
          "data": {
            "text/html": [
              "<div>\n",
              "<style scoped>\n",
              "    .dataframe tbody tr th:only-of-type {\n",
              "        vertical-align: middle;\n",
              "    }\n",
              "\n",
              "    .dataframe tbody tr th {\n",
              "        vertical-align: top;\n",
              "    }\n",
              "\n",
              "    .dataframe thead th {\n",
              "        text-align: right;\n",
              "    }\n",
              "</style>\n",
              "<table border=\"1\" class=\"dataframe\">\n",
              "  <thead>\n",
              "    <tr style=\"text-align: right;\">\n",
              "      <th></th>\n",
              "      <th>created_at</th>\n",
              "      <th>id</th>\n",
              "      <th>id_str</th>\n",
              "      <th>text</th>\n",
              "      <th>source</th>\n",
              "      <th>truncated</th>\n",
              "      <th>in_reply_to_status_id</th>\n",
              "      <th>in_reply_to_status_id_str</th>\n",
              "      <th>in_reply_to_user_id</th>\n",
              "      <th>in_reply_to_user_id_str</th>\n",
              "      <th>in_reply_to_screen_name</th>\n",
              "      <th>user</th>\n",
              "      <th>geo</th>\n",
              "      <th>coordinates</th>\n",
              "      <th>place</th>\n",
              "      <th>contributors</th>\n",
              "      <th>retweeted_status</th>\n",
              "      <th>quoted_status_id</th>\n",
              "      <th>quoted_status_id_str</th>\n",
              "      <th>quoted_status</th>\n",
              "      <th>quoted_status_permalink</th>\n",
              "      <th>is_quote_status</th>\n",
              "      <th>quote_count</th>\n",
              "      <th>reply_count</th>\n",
              "      <th>retweet_count</th>\n",
              "      <th>favorite_count</th>\n",
              "      <th>entities</th>\n",
              "      <th>favorited</th>\n",
              "      <th>retweeted</th>\n",
              "      <th>filter_level</th>\n",
              "      <th>lang</th>\n",
              "      <th>matching_rules</th>\n",
              "      <th>extended_tweet</th>\n",
              "      <th>possibly_sensitive</th>\n",
              "      <th>display_text_range</th>\n",
              "      <th>extended_entities</th>\n",
              "    </tr>\n",
              "  </thead>\n",
              "  <tbody>\n",
              "    <tr>\n",
              "      <th>0</th>\n",
              "      <td>Sat Nov 06 23:59:58 +0000 2021</td>\n",
              "      <td>1457135701732904962</td>\n",
              "      <td>1457135701732904962</td>\n",
              "      <td>RT @mansukhmandviya: Appreciate @Murugan_MoS j...</td>\n",
              "      <td>&lt;a href=\"http://twitter.com/download/android\" ...</td>\n",
              "      <td>False</td>\n",
              "      <td>NaN</td>\n",
              "      <td>None</td>\n",
              "      <td>NaN</td>\n",
              "      <td>None</td>\n",
              "      <td>None</td>\n",
              "      <td>{'id': 1366620482997420034, 'id_str': '1366620...</td>\n",
              "      <td>None</td>\n",
              "      <td>None</td>\n",
              "      <td>None</td>\n",
              "      <td>None</td>\n",
              "      <td>{'created_at': 'Sat Nov 06 16:23:21 +0000 2021...</td>\n",
              "      <td>1.456847e+18</td>\n",
              "      <td>1456847227930890241</td>\n",
              "      <td>{'created_at': 'Sat Nov 06 04:53:40 +0000 2021...</td>\n",
              "      <td>{'url': 'https://t.co/0gTV7O4gcB', 'expanded':...</td>\n",
              "      <td>True</td>\n",
              "      <td>0</td>\n",
              "      <td>0</td>\n",
              "      <td>0</td>\n",
              "      <td>0</td>\n",
              "      <td>{'hashtags': [{'text': 'HarGharDastak', 'indic...</td>\n",
              "      <td>False</td>\n",
              "      <td>False</td>\n",
              "      <td>low</td>\n",
              "      <td>en</td>\n",
              "      <td>[{'tag': None}]</td>\n",
              "      <td>NaN</td>\n",
              "      <td>NaN</td>\n",
              "      <td>NaN</td>\n",
              "      <td>NaN</td>\n",
              "    </tr>\n",
              "    <tr>\n",
              "      <th>1</th>\n",
              "      <td>Sat Nov 06 23:59:57 +0000 2021</td>\n",
              "      <td>1457135697337458691</td>\n",
              "      <td>1457135697337458691</td>\n",
              "      <td>RT @StephenSteglik: Shoutout to @BigBird for n...</td>\n",
              "      <td>&lt;a href=\"http://twitter.com/download/iphone\" r...</td>\n",
              "      <td>False</td>\n",
              "      <td>NaN</td>\n",
              "      <td>None</td>\n",
              "      <td>NaN</td>\n",
              "      <td>None</td>\n",
              "      <td>None</td>\n",
              "      <td>{'id': 38947085, 'id_str': '38947085', 'name':...</td>\n",
              "      <td>None</td>\n",
              "      <td>None</td>\n",
              "      <td>None</td>\n",
              "      <td>None</td>\n",
              "      <td>{'created_at': 'Sat Nov 06 23:59:24 +0000 2021...</td>\n",
              "      <td>1.456972e+18</td>\n",
              "      <td>1456971880666046465</td>\n",
              "      <td>{'created_at': 'Sat Nov 06 13:09:00 +0000 2021...</td>\n",
              "      <td>{'url': 'https://t.co/r58ZIiZC90', 'expanded':...</td>\n",
              "      <td>True</td>\n",
              "      <td>0</td>\n",
              "      <td>0</td>\n",
              "      <td>0</td>\n",
              "      <td>0</td>\n",
              "      <td>{'hashtags': [{'text': 'GetVaccinated', 'indic...</td>\n",
              "      <td>False</td>\n",
              "      <td>False</td>\n",
              "      <td>low</td>\n",
              "      <td>en</td>\n",
              "      <td>[{'tag': None}]</td>\n",
              "      <td>NaN</td>\n",
              "      <td>NaN</td>\n",
              "      <td>NaN</td>\n",
              "      <td>NaN</td>\n",
              "    </tr>\n",
              "    <tr>\n",
              "      <th>2</th>\n",
              "      <td>Sat Nov 06 23:59:56 +0000 2021</td>\n",
              "      <td>1457135694367924227</td>\n",
              "      <td>1457135694367924227</td>\n",
              "      <td>RT @apsmunro: If you hear there have been &amp;gt;...</td>\n",
              "      <td>&lt;a href=\"http://twitter.com/download/iphone\" r...</td>\n",
              "      <td>False</td>\n",
              "      <td>NaN</td>\n",
              "      <td>None</td>\n",
              "      <td>NaN</td>\n",
              "      <td>None</td>\n",
              "      <td>None</td>\n",
              "      <td>{'id': 16078191, 'id_str': '16078191', 'name':...</td>\n",
              "      <td>None</td>\n",
              "      <td>None</td>\n",
              "      <td>None</td>\n",
              "      <td>None</td>\n",
              "      <td>{'created_at': 'Sat Nov 06 12:36:15 +0000 2021...</td>\n",
              "      <td>NaN</td>\n",
              "      <td>NaN</td>\n",
              "      <td>NaN</td>\n",
              "      <td>NaN</td>\n",
              "      <td>False</td>\n",
              "      <td>0</td>\n",
              "      <td>0</td>\n",
              "      <td>0</td>\n",
              "      <td>0</td>\n",
              "      <td>{'hashtags': [], 'urls': [], 'user_mentions': ...</td>\n",
              "      <td>False</td>\n",
              "      <td>False</td>\n",
              "      <td>low</td>\n",
              "      <td>en</td>\n",
              "      <td>[{'tag': None}]</td>\n",
              "      <td>NaN</td>\n",
              "      <td>NaN</td>\n",
              "      <td>NaN</td>\n",
              "      <td>NaN</td>\n",
              "    </tr>\n",
              "    <tr>\n",
              "      <th>3</th>\n",
              "      <td>Sat Nov 06 23:59:55 +0000 2021</td>\n",
              "      <td>1457135690093776899</td>\n",
              "      <td>1457135690093776899</td>\n",
              "      <td>Tonight on CHEK News at 5 p.m. with @JasmineBa...</td>\n",
              "      <td>&lt;a href=\"https://mobile.twitter.com\" rel=\"nofo...</td>\n",
              "      <td>True</td>\n",
              "      <td>NaN</td>\n",
              "      <td>None</td>\n",
              "      <td>NaN</td>\n",
              "      <td>None</td>\n",
              "      <td>None</td>\n",
              "      <td>{'id': 156749387, 'id_str': '156749387', 'name...</td>\n",
              "      <td>None</td>\n",
              "      <td>None</td>\n",
              "      <td>None</td>\n",
              "      <td>None</td>\n",
              "      <td>NaN</td>\n",
              "      <td>NaN</td>\n",
              "      <td>NaN</td>\n",
              "      <td>NaN</td>\n",
              "      <td>NaN</td>\n",
              "      <td>False</td>\n",
              "      <td>0</td>\n",
              "      <td>1</td>\n",
              "      <td>2</td>\n",
              "      <td>2</td>\n",
              "      <td>{'hashtags': [{'text': 'COVID19', 'indices': [...</td>\n",
              "      <td>False</td>\n",
              "      <td>False</td>\n",
              "      <td>low</td>\n",
              "      <td>en</td>\n",
              "      <td>[{'tag': None}]</td>\n",
              "      <td>{'full_text': 'Tonight on CHEK News at 5 p.m. ...</td>\n",
              "      <td>False</td>\n",
              "      <td>NaN</td>\n",
              "      <td>NaN</td>\n",
              "    </tr>\n",
              "    <tr>\n",
              "      <th>4</th>\n",
              "      <td>Sat Nov 06 23:59:51 +0000 2021</td>\n",
              "      <td>1457135673773727748</td>\n",
              "      <td>1457135673773727748</td>\n",
              "      <td>RT @SovernNation: A #COVID19 outbreak among th...</td>\n",
              "      <td>&lt;a href=\"https://about.twitter.com/products/tw...</td>\n",
              "      <td>False</td>\n",
              "      <td>NaN</td>\n",
              "      <td>None</td>\n",
              "      <td>NaN</td>\n",
              "      <td>None</td>\n",
              "      <td>None</td>\n",
              "      <td>{'id': 1295326471821520899, 'id_str': '1295326...</td>\n",
              "      <td>None</td>\n",
              "      <td>None</td>\n",
              "      <td>None</td>\n",
              "      <td>None</td>\n",
              "      <td>{'created_at': 'Sat Nov 06 23:59:33 +0000 2021...</td>\n",
              "      <td>NaN</td>\n",
              "      <td>NaN</td>\n",
              "      <td>NaN</td>\n",
              "      <td>NaN</td>\n",
              "      <td>False</td>\n",
              "      <td>0</td>\n",
              "      <td>0</td>\n",
              "      <td>0</td>\n",
              "      <td>0</td>\n",
              "      <td>{'hashtags': [{'text': 'COVID19', 'indices': [...</td>\n",
              "      <td>False</td>\n",
              "      <td>False</td>\n",
              "      <td>low</td>\n",
              "      <td>en</td>\n",
              "      <td>[{'tag': None}]</td>\n",
              "      <td>NaN</td>\n",
              "      <td>NaN</td>\n",
              "      <td>NaN</td>\n",
              "      <td>NaN</td>\n",
              "    </tr>\n",
              "    <tr>\n",
              "      <th>...</th>\n",
              "      <td>...</td>\n",
              "      <td>...</td>\n",
              "      <td>...</td>\n",
              "      <td>...</td>\n",
              "      <td>...</td>\n",
              "      <td>...</td>\n",
              "      <td>...</td>\n",
              "      <td>...</td>\n",
              "      <td>...</td>\n",
              "      <td>...</td>\n",
              "      <td>...</td>\n",
              "      <td>...</td>\n",
              "      <td>...</td>\n",
              "      <td>...</td>\n",
              "      <td>...</td>\n",
              "      <td>...</td>\n",
              "      <td>...</td>\n",
              "      <td>...</td>\n",
              "      <td>...</td>\n",
              "      <td>...</td>\n",
              "      <td>...</td>\n",
              "      <td>...</td>\n",
              "      <td>...</td>\n",
              "      <td>...</td>\n",
              "      <td>...</td>\n",
              "      <td>...</td>\n",
              "      <td>...</td>\n",
              "      <td>...</td>\n",
              "      <td>...</td>\n",
              "      <td>...</td>\n",
              "      <td>...</td>\n",
              "      <td>...</td>\n",
              "      <td>...</td>\n",
              "      <td>...</td>\n",
              "      <td>...</td>\n",
              "      <td>...</td>\n",
              "    </tr>\n",
              "    <tr>\n",
              "      <th>95</th>\n",
              "      <td>Sat Nov 06 23:55:43 +0000 2021</td>\n",
              "      <td>1457134631937929221</td>\n",
              "      <td>1457134631937929221</td>\n",
              "      <td>RT @disclosetv: NEW - Sesame Street with Ameri...</td>\n",
              "      <td>&lt;a href=\"http://twitter.com/download/iphone\" r...</td>\n",
              "      <td>False</td>\n",
              "      <td>NaN</td>\n",
              "      <td>None</td>\n",
              "      <td>NaN</td>\n",
              "      <td>None</td>\n",
              "      <td>None</td>\n",
              "      <td>{'id': 3233164824, 'id_str': '3233164824', 'na...</td>\n",
              "      <td>None</td>\n",
              "      <td>None</td>\n",
              "      <td>None</td>\n",
              "      <td>None</td>\n",
              "      <td>{'created_at': 'Sat Nov 06 12:45:38 +0000 2021...</td>\n",
              "      <td>NaN</td>\n",
              "      <td>NaN</td>\n",
              "      <td>NaN</td>\n",
              "      <td>NaN</td>\n",
              "      <td>False</td>\n",
              "      <td>0</td>\n",
              "      <td>0</td>\n",
              "      <td>0</td>\n",
              "      <td>0</td>\n",
              "      <td>{'hashtags': [{'text': 'COVID19', 'indices': [...</td>\n",
              "      <td>False</td>\n",
              "      <td>False</td>\n",
              "      <td>low</td>\n",
              "      <td>en</td>\n",
              "      <td>[{'tag': None}]</td>\n",
              "      <td>NaN</td>\n",
              "      <td>False</td>\n",
              "      <td>NaN</td>\n",
              "      <td>{'media': [{'id': 1456965743774474244, 'id_str...</td>\n",
              "    </tr>\n",
              "    <tr>\n",
              "      <th>96</th>\n",
              "      <td>Sat Nov 06 23:55:43 +0000 2021</td>\n",
              "      <td>1457134631392665602</td>\n",
              "      <td>1457134631392665602</td>\n",
              "      <td>RT @UNICEFIndia: As we celebrate the #COVID19 ...</td>\n",
              "      <td>&lt;a href=\"http://twitter.com/download/android\" ...</td>\n",
              "      <td>False</td>\n",
              "      <td>NaN</td>\n",
              "      <td>None</td>\n",
              "      <td>NaN</td>\n",
              "      <td>None</td>\n",
              "      <td>None</td>\n",
              "      <td>{'id': 1407216867551244288, 'id_str': '1407216...</td>\n",
              "      <td>None</td>\n",
              "      <td>None</td>\n",
              "      <td>None</td>\n",
              "      <td>None</td>\n",
              "      <td>{'created_at': 'Tue Oct 19 03:30:00 +0000 2021...</td>\n",
              "      <td>NaN</td>\n",
              "      <td>NaN</td>\n",
              "      <td>NaN</td>\n",
              "      <td>NaN</td>\n",
              "      <td>False</td>\n",
              "      <td>0</td>\n",
              "      <td>0</td>\n",
              "      <td>0</td>\n",
              "      <td>0</td>\n",
              "      <td>{'hashtags': [{'text': 'COVID19', 'indices': [...</td>\n",
              "      <td>False</td>\n",
              "      <td>False</td>\n",
              "      <td>low</td>\n",
              "      <td>en</td>\n",
              "      <td>[{'tag': None}]</td>\n",
              "      <td>NaN</td>\n",
              "      <td>NaN</td>\n",
              "      <td>NaN</td>\n",
              "      <td>NaN</td>\n",
              "    </tr>\n",
              "    <tr>\n",
              "      <th>97</th>\n",
              "      <td>Sat Nov 06 23:55:38 +0000 2021</td>\n",
              "      <td>1457134610958139398</td>\n",
              "      <td>1457134610958139398</td>\n",
              "      <td>RT @BulliedAutistic: @Tammlin1963 You can't tr...</td>\n",
              "      <td>&lt;a href=\"http://twitter.com/download/android\" ...</td>\n",
              "      <td>False</td>\n",
              "      <td>NaN</td>\n",
              "      <td>None</td>\n",
              "      <td>NaN</td>\n",
              "      <td>None</td>\n",
              "      <td>None</td>\n",
              "      <td>{'id': 1213639608304431104, 'id_str': '1213639...</td>\n",
              "      <td>None</td>\n",
              "      <td>None</td>\n",
              "      <td>None</td>\n",
              "      <td>None</td>\n",
              "      <td>{'created_at': 'Sat Nov 06 23:55:27 +0000 2021...</td>\n",
              "      <td>NaN</td>\n",
              "      <td>NaN</td>\n",
              "      <td>NaN</td>\n",
              "      <td>NaN</td>\n",
              "      <td>False</td>\n",
              "      <td>0</td>\n",
              "      <td>0</td>\n",
              "      <td>0</td>\n",
              "      <td>0</td>\n",
              "      <td>{'hashtags': [], 'urls': [], 'user_mentions': ...</td>\n",
              "      <td>False</td>\n",
              "      <td>False</td>\n",
              "      <td>low</td>\n",
              "      <td>en</td>\n",
              "      <td>[{'tag': None}]</td>\n",
              "      <td>NaN</td>\n",
              "      <td>NaN</td>\n",
              "      <td>NaN</td>\n",
              "      <td>NaN</td>\n",
              "    </tr>\n",
              "    <tr>\n",
              "      <th>98</th>\n",
              "      <td>Sat Nov 06 23:55:35 +0000 2021</td>\n",
              "      <td>1457134599432282114</td>\n",
              "      <td>1457134599432282114</td>\n",
              "      <td>@CoxeAnne @LovesBulldawgs @AnarchistGolden @Do...</td>\n",
              "      <td>&lt;a href=\"http://twitter.com/download/android\" ...</td>\n",
              "      <td>True</td>\n",
              "      <td>1.457113e+18</td>\n",
              "      <td>1457113186658705409</td>\n",
              "      <td>1.163548e+18</td>\n",
              "      <td>1163548191913988096</td>\n",
              "      <td>CoxeAnne</td>\n",
              "      <td>{'id': 1368049995534974976, 'id_str': '1368049...</td>\n",
              "      <td>None</td>\n",
              "      <td>None</td>\n",
              "      <td>None</td>\n",
              "      <td>None</td>\n",
              "      <td>NaN</td>\n",
              "      <td>NaN</td>\n",
              "      <td>NaN</td>\n",
              "      <td>NaN</td>\n",
              "      <td>NaN</td>\n",
              "      <td>False</td>\n",
              "      <td>0</td>\n",
              "      <td>0</td>\n",
              "      <td>0</td>\n",
              "      <td>0</td>\n",
              "      <td>{'hashtags': [], 'urls': [{'url': 'https://t.c...</td>\n",
              "      <td>False</td>\n",
              "      <td>False</td>\n",
              "      <td>low</td>\n",
              "      <td>en</td>\n",
              "      <td>[{'tag': None}]</td>\n",
              "      <td>{'full_text': '@CoxeAnne @LovesBulldawgs @Anar...</td>\n",
              "      <td>NaN</td>\n",
              "      <td>[95, 140]</td>\n",
              "      <td>NaN</td>\n",
              "    </tr>\n",
              "    <tr>\n",
              "      <th>99</th>\n",
              "      <td>Sat Nov 06 23:55:31 +0000 2021</td>\n",
              "      <td>1457134584735453194</td>\n",
              "      <td>1457134584735453194</td>\n",
              "      <td>RT @BernieSpofforth: Never forget this day. \\n...</td>\n",
              "      <td>&lt;a href=\"http://twitter.com/#!/download/ipad\" ...</td>\n",
              "      <td>False</td>\n",
              "      <td>NaN</td>\n",
              "      <td>None</td>\n",
              "      <td>NaN</td>\n",
              "      <td>None</td>\n",
              "      <td>None</td>\n",
              "      <td>{'id': 4041137254, 'id_str': '4041137254', 'na...</td>\n",
              "      <td>None</td>\n",
              "      <td>None</td>\n",
              "      <td>None</td>\n",
              "      <td>None</td>\n",
              "      <td>{'created_at': 'Sat Nov 06 11:34:01 +0000 2021...</td>\n",
              "      <td>NaN</td>\n",
              "      <td>NaN</td>\n",
              "      <td>NaN</td>\n",
              "      <td>NaN</td>\n",
              "      <td>False</td>\n",
              "      <td>0</td>\n",
              "      <td>0</td>\n",
              "      <td>0</td>\n",
              "      <td>0</td>\n",
              "      <td>{'hashtags': [], 'urls': [], 'user_mentions': ...</td>\n",
              "      <td>False</td>\n",
              "      <td>False</td>\n",
              "      <td>low</td>\n",
              "      <td>en</td>\n",
              "      <td>[{'tag': None}]</td>\n",
              "      <td>NaN</td>\n",
              "      <td>NaN</td>\n",
              "      <td>NaN</td>\n",
              "      <td>NaN</td>\n",
              "    </tr>\n",
              "  </tbody>\n",
              "</table>\n",
              "<p>100 rows × 36 columns</p>\n",
              "</div>"
            ],
            "text/plain": [
              "                        created_at  ...                                  extended_entities\n",
              "0   Sat Nov 06 23:59:58 +0000 2021  ...                                                NaN\n",
              "1   Sat Nov 06 23:59:57 +0000 2021  ...                                                NaN\n",
              "2   Sat Nov 06 23:59:56 +0000 2021  ...                                                NaN\n",
              "3   Sat Nov 06 23:59:55 +0000 2021  ...                                                NaN\n",
              "4   Sat Nov 06 23:59:51 +0000 2021  ...                                                NaN\n",
              "..                             ...  ...                                                ...\n",
              "95  Sat Nov 06 23:55:43 +0000 2021  ...  {'media': [{'id': 1456965743774474244, 'id_str...\n",
              "96  Sat Nov 06 23:55:43 +0000 2021  ...                                                NaN\n",
              "97  Sat Nov 06 23:55:38 +0000 2021  ...                                                NaN\n",
              "98  Sat Nov 06 23:55:35 +0000 2021  ...                                                NaN\n",
              "99  Sat Nov 06 23:55:31 +0000 2021  ...                                                NaN\n",
              "\n",
              "[100 rows x 36 columns]"
            ]
          },
          "metadata": {},
          "execution_count": 4
        }
      ]
    },
    {
      "cell_type": "markdown",
      "metadata": {
        "id": "k9ItAgz7uga9"
      },
      "source": [
        "### Preprocessing the data"
      ]
    },
    {
      "cell_type": "markdown",
      "metadata": {
        "id": "WSvM1_xzu9Uc"
      },
      "source": [
        "In our dataframe we have the entire Tweet object. Some columns that might be of particular interest to us are: \n",
        "\n",
        "*   created_at - date when Tweet was posted\n",
        "*   id/id_str - unique Tweet identifiers\n",
        "*   text - the content of the Tweet\n",
        "*   user - information about the user who posted the Tweet\n",
        "*   retweeted_status  - information about the original Tweet\n",
        "*   quote/reply/retweet/favorite count - Tweet metrics\n",
        "*   entities - hashtags, urls, user_mentions present in Tweet\n",
        "\n",
        "We can filter the dataframe and keep only columns we are interested in. You can pick which columns you'd like to keep and put them int the column_list below.\n",
        "\n"
      ]
    },
    {
      "cell_type": "code",
      "metadata": {
        "id": "AZYiG40aumbk"
      },
      "source": [
        "tweets_filtered = tweets_df.copy() #it's a good idea to work on the copy of original dataframe, so we can always go back to it if we mess something up\n",
        "column_list = [\"created_at\", \"id_str\", \"text\", \"user\", \"retweeted_status\", \"quote_count\", \"reply_count\", \"retweet_count\", \"favorite_count\", \"entities\"]\n",
        "tweets_filtered = tweets_filtered[column_list]"
      ],
      "execution_count": 5,
      "outputs": []
    },
    {
      "cell_type": "code",
      "metadata": {
        "id": "qQ90m-FpxM9N",
        "outputId": "71c752b4-b98f-417a-e26d-731f47eeaf54",
        "colab": {
          "base_uri": "https://localhost:8080/",
          "height": 965
        }
      },
      "source": [
        "tweets_filtered"
      ],
      "execution_count": 6,
      "outputs": [
        {
          "output_type": "execute_result",
          "data": {
            "text/html": [
              "<div>\n",
              "<style scoped>\n",
              "    .dataframe tbody tr th:only-of-type {\n",
              "        vertical-align: middle;\n",
              "    }\n",
              "\n",
              "    .dataframe tbody tr th {\n",
              "        vertical-align: top;\n",
              "    }\n",
              "\n",
              "    .dataframe thead th {\n",
              "        text-align: right;\n",
              "    }\n",
              "</style>\n",
              "<table border=\"1\" class=\"dataframe\">\n",
              "  <thead>\n",
              "    <tr style=\"text-align: right;\">\n",
              "      <th></th>\n",
              "      <th>created_at</th>\n",
              "      <th>id_str</th>\n",
              "      <th>text</th>\n",
              "      <th>user</th>\n",
              "      <th>retweeted_status</th>\n",
              "      <th>quote_count</th>\n",
              "      <th>reply_count</th>\n",
              "      <th>retweet_count</th>\n",
              "      <th>favorite_count</th>\n",
              "      <th>entities</th>\n",
              "    </tr>\n",
              "  </thead>\n",
              "  <tbody>\n",
              "    <tr>\n",
              "      <th>0</th>\n",
              "      <td>Sat Nov 06 23:59:58 +0000 2021</td>\n",
              "      <td>1457135701732904962</td>\n",
              "      <td>RT @mansukhmandviya: Appreciate @Murugan_MoS j...</td>\n",
              "      <td>{'id': 1366620482997420034, 'id_str': '1366620...</td>\n",
              "      <td>{'created_at': 'Sat Nov 06 16:23:21 +0000 2021...</td>\n",
              "      <td>0</td>\n",
              "      <td>0</td>\n",
              "      <td>0</td>\n",
              "      <td>0</td>\n",
              "      <td>{'hashtags': [{'text': 'HarGharDastak', 'indic...</td>\n",
              "    </tr>\n",
              "    <tr>\n",
              "      <th>1</th>\n",
              "      <td>Sat Nov 06 23:59:57 +0000 2021</td>\n",
              "      <td>1457135697337458691</td>\n",
              "      <td>RT @StephenSteglik: Shoutout to @BigBird for n...</td>\n",
              "      <td>{'id': 38947085, 'id_str': '38947085', 'name':...</td>\n",
              "      <td>{'created_at': 'Sat Nov 06 23:59:24 +0000 2021...</td>\n",
              "      <td>0</td>\n",
              "      <td>0</td>\n",
              "      <td>0</td>\n",
              "      <td>0</td>\n",
              "      <td>{'hashtags': [{'text': 'GetVaccinated', 'indic...</td>\n",
              "    </tr>\n",
              "    <tr>\n",
              "      <th>2</th>\n",
              "      <td>Sat Nov 06 23:59:56 +0000 2021</td>\n",
              "      <td>1457135694367924227</td>\n",
              "      <td>RT @apsmunro: If you hear there have been &amp;gt;...</td>\n",
              "      <td>{'id': 16078191, 'id_str': '16078191', 'name':...</td>\n",
              "      <td>{'created_at': 'Sat Nov 06 12:36:15 +0000 2021...</td>\n",
              "      <td>0</td>\n",
              "      <td>0</td>\n",
              "      <td>0</td>\n",
              "      <td>0</td>\n",
              "      <td>{'hashtags': [], 'urls': [], 'user_mentions': ...</td>\n",
              "    </tr>\n",
              "    <tr>\n",
              "      <th>3</th>\n",
              "      <td>Sat Nov 06 23:59:55 +0000 2021</td>\n",
              "      <td>1457135690093776899</td>\n",
              "      <td>Tonight on CHEK News at 5 p.m. with @JasmineBa...</td>\n",
              "      <td>{'id': 156749387, 'id_str': '156749387', 'name...</td>\n",
              "      <td>NaN</td>\n",
              "      <td>0</td>\n",
              "      <td>1</td>\n",
              "      <td>2</td>\n",
              "      <td>2</td>\n",
              "      <td>{'hashtags': [{'text': 'COVID19', 'indices': [...</td>\n",
              "    </tr>\n",
              "    <tr>\n",
              "      <th>4</th>\n",
              "      <td>Sat Nov 06 23:59:51 +0000 2021</td>\n",
              "      <td>1457135673773727748</td>\n",
              "      <td>RT @SovernNation: A #COVID19 outbreak among th...</td>\n",
              "      <td>{'id': 1295326471821520899, 'id_str': '1295326...</td>\n",
              "      <td>{'created_at': 'Sat Nov 06 23:59:33 +0000 2021...</td>\n",
              "      <td>0</td>\n",
              "      <td>0</td>\n",
              "      <td>0</td>\n",
              "      <td>0</td>\n",
              "      <td>{'hashtags': [{'text': 'COVID19', 'indices': [...</td>\n",
              "    </tr>\n",
              "    <tr>\n",
              "      <th>...</th>\n",
              "      <td>...</td>\n",
              "      <td>...</td>\n",
              "      <td>...</td>\n",
              "      <td>...</td>\n",
              "      <td>...</td>\n",
              "      <td>...</td>\n",
              "      <td>...</td>\n",
              "      <td>...</td>\n",
              "      <td>...</td>\n",
              "      <td>...</td>\n",
              "    </tr>\n",
              "    <tr>\n",
              "      <th>95</th>\n",
              "      <td>Sat Nov 06 23:55:43 +0000 2021</td>\n",
              "      <td>1457134631937929221</td>\n",
              "      <td>RT @disclosetv: NEW - Sesame Street with Ameri...</td>\n",
              "      <td>{'id': 3233164824, 'id_str': '3233164824', 'na...</td>\n",
              "      <td>{'created_at': 'Sat Nov 06 12:45:38 +0000 2021...</td>\n",
              "      <td>0</td>\n",
              "      <td>0</td>\n",
              "      <td>0</td>\n",
              "      <td>0</td>\n",
              "      <td>{'hashtags': [{'text': 'COVID19', 'indices': [...</td>\n",
              "    </tr>\n",
              "    <tr>\n",
              "      <th>96</th>\n",
              "      <td>Sat Nov 06 23:55:43 +0000 2021</td>\n",
              "      <td>1457134631392665602</td>\n",
              "      <td>RT @UNICEFIndia: As we celebrate the #COVID19 ...</td>\n",
              "      <td>{'id': 1407216867551244288, 'id_str': '1407216...</td>\n",
              "      <td>{'created_at': 'Tue Oct 19 03:30:00 +0000 2021...</td>\n",
              "      <td>0</td>\n",
              "      <td>0</td>\n",
              "      <td>0</td>\n",
              "      <td>0</td>\n",
              "      <td>{'hashtags': [{'text': 'COVID19', 'indices': [...</td>\n",
              "    </tr>\n",
              "    <tr>\n",
              "      <th>97</th>\n",
              "      <td>Sat Nov 06 23:55:38 +0000 2021</td>\n",
              "      <td>1457134610958139398</td>\n",
              "      <td>RT @BulliedAutistic: @Tammlin1963 You can't tr...</td>\n",
              "      <td>{'id': 1213639608304431104, 'id_str': '1213639...</td>\n",
              "      <td>{'created_at': 'Sat Nov 06 23:55:27 +0000 2021...</td>\n",
              "      <td>0</td>\n",
              "      <td>0</td>\n",
              "      <td>0</td>\n",
              "      <td>0</td>\n",
              "      <td>{'hashtags': [], 'urls': [], 'user_mentions': ...</td>\n",
              "    </tr>\n",
              "    <tr>\n",
              "      <th>98</th>\n",
              "      <td>Sat Nov 06 23:55:35 +0000 2021</td>\n",
              "      <td>1457134599432282114</td>\n",
              "      <td>@CoxeAnne @LovesBulldawgs @AnarchistGolden @Do...</td>\n",
              "      <td>{'id': 1368049995534974976, 'id_str': '1368049...</td>\n",
              "      <td>NaN</td>\n",
              "      <td>0</td>\n",
              "      <td>0</td>\n",
              "      <td>0</td>\n",
              "      <td>0</td>\n",
              "      <td>{'hashtags': [], 'urls': [{'url': 'https://t.c...</td>\n",
              "    </tr>\n",
              "    <tr>\n",
              "      <th>99</th>\n",
              "      <td>Sat Nov 06 23:55:31 +0000 2021</td>\n",
              "      <td>1457134584735453194</td>\n",
              "      <td>RT @BernieSpofforth: Never forget this day. \\n...</td>\n",
              "      <td>{'id': 4041137254, 'id_str': '4041137254', 'na...</td>\n",
              "      <td>{'created_at': 'Sat Nov 06 11:34:01 +0000 2021...</td>\n",
              "      <td>0</td>\n",
              "      <td>0</td>\n",
              "      <td>0</td>\n",
              "      <td>0</td>\n",
              "      <td>{'hashtags': [], 'urls': [], 'user_mentions': ...</td>\n",
              "    </tr>\n",
              "  </tbody>\n",
              "</table>\n",
              "<p>100 rows × 10 columns</p>\n",
              "</div>"
            ],
            "text/plain": [
              "                        created_at  ...                                           entities\n",
              "0   Sat Nov 06 23:59:58 +0000 2021  ...  {'hashtags': [{'text': 'HarGharDastak', 'indic...\n",
              "1   Sat Nov 06 23:59:57 +0000 2021  ...  {'hashtags': [{'text': 'GetVaccinated', 'indic...\n",
              "2   Sat Nov 06 23:59:56 +0000 2021  ...  {'hashtags': [], 'urls': [], 'user_mentions': ...\n",
              "3   Sat Nov 06 23:59:55 +0000 2021  ...  {'hashtags': [{'text': 'COVID19', 'indices': [...\n",
              "4   Sat Nov 06 23:59:51 +0000 2021  ...  {'hashtags': [{'text': 'COVID19', 'indices': [...\n",
              "..                             ...  ...                                                ...\n",
              "95  Sat Nov 06 23:55:43 +0000 2021  ...  {'hashtags': [{'text': 'COVID19', 'indices': [...\n",
              "96  Sat Nov 06 23:55:43 +0000 2021  ...  {'hashtags': [{'text': 'COVID19', 'indices': [...\n",
              "97  Sat Nov 06 23:55:38 +0000 2021  ...  {'hashtags': [], 'urls': [], 'user_mentions': ...\n",
              "98  Sat Nov 06 23:55:35 +0000 2021  ...  {'hashtags': [], 'urls': [{'url': 'https://t.c...\n",
              "99  Sat Nov 06 23:55:31 +0000 2021  ...  {'hashtags': [], 'urls': [], 'user_mentions': ...\n",
              "\n",
              "[100 rows x 10 columns]"
            ]
          },
          "metadata": {},
          "execution_count": 6
        }
      ]
    },
    {
      "cell_type": "markdown",
      "metadata": {
        "id": "hPgzBUJj0SZU"
      },
      "source": [
        "## Extracting words/hashtags"
      ]
    },
    {
      "cell_type": "markdown",
      "metadata": {
        "id": "CygaLHAS0nzP"
      },
      "source": [
        "There are many ways to build networks from the data we download from Twitter.\n",
        "\n",
        "One possibility is to have a bipartite network of Tweets and words/hashtags and then observe word, hashtag or word-hashtag projections."
      ]
    },
    {
      "cell_type": "markdown",
      "metadata": {
        "id": "H1nTCbRc0-__"
      },
      "source": [
        "### Extracting words"
      ]
    },
    {
      "cell_type": "markdown",
      "metadata": {
        "id": "8pGnokgK1jma"
      },
      "source": [
        "In order to extract words, we first need to clean the Tweet text. This way we will remove punctuation, hashtags/mentions/urls (they are preserved in the entity column anyway). We will also turn all letters to lowercase.\n",
        "\n",
        "You can also consider removing stopwords, removing words that are not in the english language corpora, lematizing the words, etc. I suggest you research nltk library and its possibilities."
      ]
    },
    {
      "cell_type": "code",
      "metadata": {
        "id": "FTdZ354ZoO5m",
        "outputId": "1a3328e4-1696-4808-e53a-9e78edc95cbd",
        "colab": {
          "base_uri": "https://localhost:8080/"
        }
      },
      "source": [
        "! pip install emoji"
      ],
      "execution_count": 9,
      "outputs": [
        {
          "output_type": "stream",
          "name": "stdout",
          "text": [
            "Collecting emoji\n",
            "  Downloading emoji-1.6.1.tar.gz (170 kB)\n",
            "\u001b[?25l\r\u001b[K     |██                              | 10 kB 7.7 MB/s eta 0:00:01\r\u001b[K     |███▉                            | 20 kB 11.9 MB/s eta 0:00:01\r\u001b[K     |█████▉                          | 30 kB 15.5 MB/s eta 0:00:01\r\u001b[K     |███████▊                        | 40 kB 17.1 MB/s eta 0:00:01\r\u001b[K     |█████████▋                      | 51 kB 9.9 MB/s eta 0:00:01\r\u001b[K     |███████████▋                    | 61 kB 8.3 MB/s eta 0:00:01\r\u001b[K     |█████████████▌                  | 71 kB 8.2 MB/s eta 0:00:01\r\u001b[K     |███████████████▍                | 81 kB 9.2 MB/s eta 0:00:01\r\u001b[K     |█████████████████▍              | 92 kB 8.2 MB/s eta 0:00:01\r\u001b[K     |███████████████████▎            | 102 kB 8.9 MB/s eta 0:00:01\r\u001b[K     |█████████████████████▏          | 112 kB 8.9 MB/s eta 0:00:01\r\u001b[K     |███████████████████████▏        | 122 kB 8.9 MB/s eta 0:00:01\r\u001b[K     |█████████████████████████       | 133 kB 8.9 MB/s eta 0:00:01\r\u001b[K     |███████████████████████████     | 143 kB 8.9 MB/s eta 0:00:01\r\u001b[K     |█████████████████████████████   | 153 kB 8.9 MB/s eta 0:00:01\r\u001b[K     |██████████████████████████████▉ | 163 kB 8.9 MB/s eta 0:00:01\r\u001b[K     |████████████████████████████████| 170 kB 8.9 MB/s \n",
            "\u001b[?25hBuilding wheels for collected packages: emoji\n",
            "  Building wheel for emoji (setup.py) ... \u001b[?25l\u001b[?25hdone\n",
            "  Created wheel for emoji: filename=emoji-1.6.1-py3-none-any.whl size=169314 sha256=53da5ec44eae1a2dd2da302192ae40c4691d14e2b29fb230bb10341a4d49e9cb\n",
            "  Stored in directory: /root/.cache/pip/wheels/ea/5f/d3/03d313ddb3c2a1a427bb4690f1621eea60fe6f2a30cc95940f\n",
            "Successfully built emoji\n",
            "Installing collected packages: emoji\n",
            "Successfully installed emoji-1.6.1\n"
          ]
        }
      ]
    },
    {
      "cell_type": "code",
      "metadata": {
        "id": "y5746Mq918dG"
      },
      "source": [
        "import re\n",
        "import string\n",
        "import emoji"
      ],
      "execution_count": 10,
      "outputs": []
    },
    {
      "cell_type": "code",
      "metadata": {
        "id": "Z8Nrv5jv1e5W"
      },
      "source": [
        "def cleaner(tweet):\n",
        "    tweet = re.sub(\"@[A-Za-z0-9]+\",\"\",tweet) # remove mentions\n",
        "    tweet = re.sub(\"#[A-Za-z0-9]+\", \"\",tweet) # remove hashtags\n",
        "    tweet = re.sub(r\"(?:\\@|http?\\://|https?\\://|www)\\S+\", \"\", tweet) # remove http links\n",
        "    tweet = \" \".join(tweet.split())\n",
        "    tweet = str.lower(tweet) #to lowercase\n",
        "    table = str.maketrans(dict.fromkeys(string.punctuation)) \n",
        "    tweet = tweet.translate(table)# remove punctuation         \n",
        "    return tweet"
      ],
      "execution_count": 11,
      "outputs": []
    },
    {
      "cell_type": "code",
      "metadata": {
        "id": "fEhs-tyy2naZ"
      },
      "source": [
        "#applay function cleaner to the column text using the map function, row by row it will appy the function to every value of the column\n",
        "tweets_filtered[\"clean_text\"] = tweets_filtered[\"text\"].map(cleaner)"
      ],
      "execution_count": 12,
      "outputs": []
    },
    {
      "cell_type": "code",
      "metadata": {
        "id": "dgtWNxWwpIk1",
        "outputId": "6ca23db3-8f2e-489e-a90c-58f11f99fcbc",
        "colab": {
          "base_uri": "https://localhost:8080/",
          "height": 1000
        }
      },
      "source": [
        "tweets_filtered"
      ],
      "execution_count": 13,
      "outputs": [
        {
          "output_type": "execute_result",
          "data": {
            "text/html": [
              "<div>\n",
              "<style scoped>\n",
              "    .dataframe tbody tr th:only-of-type {\n",
              "        vertical-align: middle;\n",
              "    }\n",
              "\n",
              "    .dataframe tbody tr th {\n",
              "        vertical-align: top;\n",
              "    }\n",
              "\n",
              "    .dataframe thead th {\n",
              "        text-align: right;\n",
              "    }\n",
              "</style>\n",
              "<table border=\"1\" class=\"dataframe\">\n",
              "  <thead>\n",
              "    <tr style=\"text-align: right;\">\n",
              "      <th></th>\n",
              "      <th>created_at</th>\n",
              "      <th>id_str</th>\n",
              "      <th>text</th>\n",
              "      <th>user</th>\n",
              "      <th>retweeted_status</th>\n",
              "      <th>quote_count</th>\n",
              "      <th>reply_count</th>\n",
              "      <th>retweet_count</th>\n",
              "      <th>favorite_count</th>\n",
              "      <th>entities</th>\n",
              "      <th>clean_text</th>\n",
              "    </tr>\n",
              "  </thead>\n",
              "  <tbody>\n",
              "    <tr>\n",
              "      <th>0</th>\n",
              "      <td>Sat Nov 06 23:59:58 +0000 2021</td>\n",
              "      <td>1457135701732904962</td>\n",
              "      <td>RT @mansukhmandviya: Appreciate @Murugan_MoS j...</td>\n",
              "      <td>{'id': 1366620482997420034, 'id_str': '1366620...</td>\n",
              "      <td>{'created_at': 'Sat Nov 06 16:23:21 +0000 2021...</td>\n",
              "      <td>0</td>\n",
              "      <td>0</td>\n",
              "      <td>0</td>\n",
              "      <td>0</td>\n",
              "      <td>{'hashtags': [{'text': 'HarGharDastak', 'indic...</td>\n",
              "      <td>rt  appreciate mos jis initiative to support p...</td>\n",
              "    </tr>\n",
              "    <tr>\n",
              "      <th>1</th>\n",
              "      <td>Sat Nov 06 23:59:57 +0000 2021</td>\n",
              "      <td>1457135697337458691</td>\n",
              "      <td>RT @StephenSteglik: Shoutout to @BigBird for n...</td>\n",
              "      <td>{'id': 38947085, 'id_str': '38947085', 'name':...</td>\n",
              "      <td>{'created_at': 'Sat Nov 06 23:59:24 +0000 2021...</td>\n",
              "      <td>0</td>\n",
              "      <td>0</td>\n",
              "      <td>0</td>\n",
              "      <td>0</td>\n",
              "      <td>{'hashtags': [{'text': 'GetVaccinated', 'indic...</td>\n",
              "      <td>rt  shoutout to for not going to a podcaster c...</td>\n",
              "    </tr>\n",
              "    <tr>\n",
              "      <th>2</th>\n",
              "      <td>Sat Nov 06 23:59:56 +0000 2021</td>\n",
              "      <td>1457135694367924227</td>\n",
              "      <td>RT @apsmunro: If you hear there have been &amp;gt;...</td>\n",
              "      <td>{'id': 16078191, 'id_str': '16078191', 'name':...</td>\n",
              "      <td>{'created_at': 'Sat Nov 06 12:36:15 +0000 2021...</td>\n",
              "      <td>0</td>\n",
              "      <td>0</td>\n",
              "      <td>0</td>\n",
              "      <td>0</td>\n",
              "      <td>{'hashtags': [], 'urls': [], 'user_mentions': ...</td>\n",
              "      <td>rt  if you hear there have been gt100 child de...</td>\n",
              "    </tr>\n",
              "    <tr>\n",
              "      <th>3</th>\n",
              "      <td>Sat Nov 06 23:59:55 +0000 2021</td>\n",
              "      <td>1457135690093776899</td>\n",
              "      <td>Tonight on CHEK News at 5 p.m. with @JasmineBa...</td>\n",
              "      <td>{'id': 156749387, 'id_str': '156749387', 'name...</td>\n",
              "      <td>NaN</td>\n",
              "      <td>0</td>\n",
              "      <td>1</td>\n",
              "      <td>2</td>\n",
              "      <td>2</td>\n",
              "      <td>{'hashtags': [{'text': 'COVID19', 'indices': [...</td>\n",
              "      <td>tonight on chek news at 5 pm with  an outbreak...</td>\n",
              "    </tr>\n",
              "    <tr>\n",
              "      <th>4</th>\n",
              "      <td>Sat Nov 06 23:59:51 +0000 2021</td>\n",
              "      <td>1457135673773727748</td>\n",
              "      <td>RT @SovernNation: A #COVID19 outbreak among th...</td>\n",
              "      <td>{'id': 1295326471821520899, 'id_str': '1295326...</td>\n",
              "      <td>{'created_at': 'Sat Nov 06 23:59:33 +0000 2021...</td>\n",
              "      <td>0</td>\n",
              "      <td>0</td>\n",
              "      <td>0</td>\n",
              "      <td>0</td>\n",
              "      <td>{'hashtags': [{'text': 'COVID19', 'indices': [...</td>\n",
              "      <td>rt  a outbreak among the team left the bears w...</td>\n",
              "    </tr>\n",
              "    <tr>\n",
              "      <th>...</th>\n",
              "      <td>...</td>\n",
              "      <td>...</td>\n",
              "      <td>...</td>\n",
              "      <td>...</td>\n",
              "      <td>...</td>\n",
              "      <td>...</td>\n",
              "      <td>...</td>\n",
              "      <td>...</td>\n",
              "      <td>...</td>\n",
              "      <td>...</td>\n",
              "      <td>...</td>\n",
              "    </tr>\n",
              "    <tr>\n",
              "      <th>95</th>\n",
              "      <td>Sat Nov 06 23:55:43 +0000 2021</td>\n",
              "      <td>1457134631937929221</td>\n",
              "      <td>RT @disclosetv: NEW - Sesame Street with Ameri...</td>\n",
              "      <td>{'id': 3233164824, 'id_str': '3233164824', 'na...</td>\n",
              "      <td>{'created_at': 'Sat Nov 06 12:45:38 +0000 2021...</td>\n",
              "      <td>0</td>\n",
              "      <td>0</td>\n",
              "      <td>0</td>\n",
              "      <td>0</td>\n",
              "      <td>{'hashtags': [{'text': 'COVID19', 'indices': [...</td>\n",
              "      <td>rt  new  sesame street with american tv networ...</td>\n",
              "    </tr>\n",
              "    <tr>\n",
              "      <th>96</th>\n",
              "      <td>Sat Nov 06 23:55:43 +0000 2021</td>\n",
              "      <td>1457134631392665602</td>\n",
              "      <td>RT @UNICEFIndia: As we celebrate the #COVID19 ...</td>\n",
              "      <td>{'id': 1407216867551244288, 'id_str': '1407216...</td>\n",
              "      <td>{'created_at': 'Tue Oct 19 03:30:00 +0000 2021...</td>\n",
              "      <td>0</td>\n",
              "      <td>0</td>\n",
              "      <td>0</td>\n",
              "      <td>0</td>\n",
              "      <td>{'hashtags': [{'text': 'COVID19', 'indices': [...</td>\n",
              "      <td>rt  as we celebrate the vaccination drive in i...</td>\n",
              "    </tr>\n",
              "    <tr>\n",
              "      <th>97</th>\n",
              "      <td>Sat Nov 06 23:55:38 +0000 2021</td>\n",
              "      <td>1457134610958139398</td>\n",
              "      <td>RT @BulliedAutistic: @Tammlin1963 You can't tr...</td>\n",
              "      <td>{'id': 1213639608304431104, 'id_str': '1213639...</td>\n",
              "      <td>{'created_at': 'Sat Nov 06 23:55:27 +0000 2021...</td>\n",
              "      <td>0</td>\n",
              "      <td>0</td>\n",
              "      <td>0</td>\n",
              "      <td>0</td>\n",
              "      <td>{'hashtags': [], 'urls': [], 'user_mentions': ...</td>\n",
              "      <td>rt  you cant trust the covid19 vaccine especia...</td>\n",
              "    </tr>\n",
              "    <tr>\n",
              "      <th>98</th>\n",
              "      <td>Sat Nov 06 23:55:35 +0000 2021</td>\n",
              "      <td>1457134599432282114</td>\n",
              "      <td>@CoxeAnne @LovesBulldawgs @AnarchistGolden @Do...</td>\n",
              "      <td>{'id': 1368049995534974976, 'id_str': '1368049...</td>\n",
              "      <td>NaN</td>\n",
              "      <td>0</td>\n",
              "      <td>0</td>\n",
              "      <td>0</td>\n",
              "      <td>0</td>\n",
              "      <td>{'hashtags': [], 'urls': [{'url': 'https://t.c...</td>\n",
              "      <td>ya know what else pr…</td>\n",
              "    </tr>\n",
              "    <tr>\n",
              "      <th>99</th>\n",
              "      <td>Sat Nov 06 23:55:31 +0000 2021</td>\n",
              "      <td>1457134584735453194</td>\n",
              "      <td>RT @BernieSpofforth: Never forget this day. \\n...</td>\n",
              "      <td>{'id': 4041137254, 'id_str': '4041137254', 'na...</td>\n",
              "      <td>{'created_at': 'Sat Nov 06 11:34:01 +0000 2021...</td>\n",
              "      <td>0</td>\n",
              "      <td>0</td>\n",
              "      <td>0</td>\n",
              "      <td>0</td>\n",
              "      <td>{'hashtags': [], 'urls': [], 'user_mentions': ...</td>\n",
              "      <td>rt  never forget this day this was the day whe...</td>\n",
              "    </tr>\n",
              "  </tbody>\n",
              "</table>\n",
              "<p>100 rows × 11 columns</p>\n",
              "</div>"
            ],
            "text/plain": [
              "                        created_at  ...                                         clean_text\n",
              "0   Sat Nov 06 23:59:58 +0000 2021  ...  rt  appreciate mos jis initiative to support p...\n",
              "1   Sat Nov 06 23:59:57 +0000 2021  ...  rt  shoutout to for not going to a podcaster c...\n",
              "2   Sat Nov 06 23:59:56 +0000 2021  ...  rt  if you hear there have been gt100 child de...\n",
              "3   Sat Nov 06 23:59:55 +0000 2021  ...  tonight on chek news at 5 pm with  an outbreak...\n",
              "4   Sat Nov 06 23:59:51 +0000 2021  ...  rt  a outbreak among the team left the bears w...\n",
              "..                             ...  ...                                                ...\n",
              "95  Sat Nov 06 23:55:43 +0000 2021  ...  rt  new  sesame street with american tv networ...\n",
              "96  Sat Nov 06 23:55:43 +0000 2021  ...  rt  as we celebrate the vaccination drive in i...\n",
              "97  Sat Nov 06 23:55:38 +0000 2021  ...  rt  you cant trust the covid19 vaccine especia...\n",
              "98  Sat Nov 06 23:55:35 +0000 2021  ...                              ya know what else pr…\n",
              "99  Sat Nov 06 23:55:31 +0000 2021  ...  rt  never forget this day this was the day whe...\n",
              "\n",
              "[100 rows x 11 columns]"
            ]
          },
          "metadata": {},
          "execution_count": 13
        }
      ]
    },
    {
      "cell_type": "markdown",
      "metadata": {
        "id": "I1_lSQZ85rT_"
      },
      "source": [
        "We are going to loop through the dataframe and then through the words in the clean text. We are going to add the words as keys to dictionary and use their frequencies as values."
      ]
    },
    {
      "cell_type": "code",
      "metadata": {
        "id": "xiBKlJhV3d_S"
      },
      "source": [
        "#initialize an empty dict\n",
        "unique_words = {}\n",
        "for row in tweets_filtered.clean_text:\n",
        "  for word in row.split(\" \"):\n",
        "    #if the word is encountered for the first time add to dict as key and set its value to 0\n",
        "    unique_words.setdefault(word,0)\n",
        "    #increase the value (i.e the count) of the word by 1 every time it is encountered\n",
        "    unique_words[word] += 1"
      ],
      "execution_count": 14,
      "outputs": []
    },
    {
      "cell_type": "code",
      "metadata": {
        "id": "8k7riE1z7F6r"
      },
      "source": [
        "#remove blank space\n",
        "unique_words.pop(\"\")\n",
        "#remove word 'rt'\n",
        "unique_words.pop(\"rt\")"
      ],
      "execution_count": 19,
      "outputs": []
    },
    {
      "cell_type": "markdown",
      "metadata": {
        "id": "kVYvDBQu57If"
      },
      "source": [
        "We can inspect the words as a dataframe. \n",
        "\n",
        "\n",
        "You can always save this dataframe as .csv for future reference."
      ]
    },
    {
      "cell_type": "code",
      "metadata": {
        "id": "_xI5aGQM53u4",
        "outputId": "f035c9af-a20a-4e16-b90c-7cba382f2ac1",
        "colab": {
          "base_uri": "https://localhost:8080/",
          "height": 424
        }
      },
      "source": [
        "uw_df = pd.DataFrame.from_dict(unique_words, orient='index').reset_index()\n",
        "uw_df.rename(columns = {'index':'Word', 0:'Count'}, inplace=True)\n",
        "uw_df.sort_values(by=['Count'], ascending=False, inplace=True)\n",
        "uw_df"
      ],
      "execution_count": 20,
      "outputs": [
        {
          "output_type": "execute_result",
          "data": {
            "text/html": [
              "<div>\n",
              "<style scoped>\n",
              "    .dataframe tbody tr th:only-of-type {\n",
              "        vertical-align: middle;\n",
              "    }\n",
              "\n",
              "    .dataframe tbody tr th {\n",
              "        vertical-align: top;\n",
              "    }\n",
              "\n",
              "    .dataframe thead th {\n",
              "        text-align: right;\n",
              "    }\n",
              "</style>\n",
              "<table border=\"1\" class=\"dataframe\">\n",
              "  <thead>\n",
              "    <tr style=\"text-align: right;\">\n",
              "      <th></th>\n",
              "      <th>Word</th>\n",
              "      <th>Count</th>\n",
              "    </tr>\n",
              "  </thead>\n",
              "  <tbody>\n",
              "    <tr>\n",
              "      <th>55</th>\n",
              "      <td>the</td>\n",
              "      <td>61</td>\n",
              "    </tr>\n",
              "    <tr>\n",
              "      <th>4</th>\n",
              "      <td>to</td>\n",
              "      <td>37</td>\n",
              "    </tr>\n",
              "    <tr>\n",
              "      <th>35</th>\n",
              "      <td>is</td>\n",
              "      <td>27</td>\n",
              "    </tr>\n",
              "    <tr>\n",
              "      <th>16</th>\n",
              "      <td>a</td>\n",
              "      <td>26</td>\n",
              "    </tr>\n",
              "    <tr>\n",
              "      <th>9</th>\n",
              "      <td>of</td>\n",
              "      <td>24</td>\n",
              "    </tr>\n",
              "    <tr>\n",
              "      <th>...</th>\n",
              "      <td>...</td>\n",
              "      <td>...</td>\n",
              "    </tr>\n",
              "    <tr>\n",
              "      <th>314</th>\n",
              "      <td>flu</td>\n",
              "      <td>1</td>\n",
              "    </tr>\n",
              "    <tr>\n",
              "      <th>313</th>\n",
              "      <td>every</td>\n",
              "      <td>1</td>\n",
              "    </tr>\n",
              "    <tr>\n",
              "      <th>312</th>\n",
              "      <td>halfthere</td>\n",
              "      <td>1</td>\n",
              "    </tr>\n",
              "    <tr>\n",
              "      <th>309</th>\n",
              "      <td>comment</td>\n",
              "      <td>1</td>\n",
              "    </tr>\n",
              "    <tr>\n",
              "      <th>753</th>\n",
              "      <td>pr…</td>\n",
              "      <td>1</td>\n",
              "    </tr>\n",
              "  </tbody>\n",
              "</table>\n",
              "<p>754 rows × 2 columns</p>\n",
              "</div>"
            ],
            "text/plain": [
              "          Word  Count\n",
              "55         the     61\n",
              "4           to     37\n",
              "35          is     27\n",
              "16           a     26\n",
              "9           of     24\n",
              "..         ...    ...\n",
              "314        flu      1\n",
              "313      every      1\n",
              "312  halfthere      1\n",
              "309    comment      1\n",
              "753        pr…      1\n",
              "\n",
              "[754 rows x 2 columns]"
            ]
          },
          "metadata": {},
          "execution_count": 20
        }
      ]
    },
    {
      "cell_type": "markdown",
      "metadata": {
        "id": "C4R-j-FN7Rgo"
      },
      "source": [
        "### Extracting the hashtags"
      ]
    },
    {
      "cell_type": "markdown",
      "metadata": {
        "id": "O8SfJwmf9GU2"
      },
      "source": [
        "We are going to loop through the dataframe and then through the hashtags in the entities. We are going to add the hashtags as keys to dictionary and use their frequencies as values. At the same time, we are going to save them in a list and add them to a separate column to facilitate our future work."
      ]
    },
    {
      "cell_type": "code",
      "metadata": {
        "id": "hHyc_WrGt5Tj"
      },
      "source": [
        "unique_hashtags = {}\n",
        "\n",
        "tweets_filtered[\"hashtags\"] = \"\"\n",
        "\n",
        "for idx, row in tweets_filtered.iterrows():\n",
        "  hashtag_list = []\n",
        "  for hashtag in row[\"entities\"][\"hashtags\"]:\n",
        "    unique_hashtags.setdefault(\"#\"+hashtag[\"text\"], 0)\n",
        "    unique_hashtags['#'+hashtag[\"text\"]] += 1\n",
        "    hashtag_list.append(hashtag[\"text\"])\n",
        "  tweets_filtered.at[idx,\"hashtags\"] = hashtag_list\n"
      ],
      "execution_count": 21,
      "outputs": []
    },
    {
      "cell_type": "code",
      "metadata": {
        "id": "uCb7arJqUXOu",
        "outputId": "fa1529d5-a6b2-439a-d3c1-bfbc708cd5bc",
        "colab": {
          "base_uri": "https://localhost:8080/",
          "height": 1000
        }
      },
      "source": [
        "uh_df = pd.DataFrame.from_dict(unique_hashtags, orient='index').reset_index()\n",
        "uh_df.rename(columns = {'index':'Hashtag', 0:'Count'}, inplace=True)\n",
        "uh_df.sort_values(by=[\"Count\"], ascending=False)"
      ],
      "execution_count": 24,
      "outputs": [
        {
          "output_type": "execute_result",
          "data": {
            "text/html": [
              "<div>\n",
              "<style scoped>\n",
              "    .dataframe tbody tr th:only-of-type {\n",
              "        vertical-align: middle;\n",
              "    }\n",
              "\n",
              "    .dataframe tbody tr th {\n",
              "        vertical-align: top;\n",
              "    }\n",
              "\n",
              "    .dataframe thead th {\n",
              "        text-align: right;\n",
              "    }\n",
              "</style>\n",
              "<table border=\"1\" class=\"dataframe\">\n",
              "  <thead>\n",
              "    <tr style=\"text-align: right;\">\n",
              "      <th></th>\n",
              "      <th>Hashtag</th>\n",
              "      <th>Count</th>\n",
              "    </tr>\n",
              "  </thead>\n",
              "  <tbody>\n",
              "    <tr>\n",
              "      <th>3</th>\n",
              "      <td>#COVID19</td>\n",
              "      <td>34</td>\n",
              "    </tr>\n",
              "    <tr>\n",
              "      <th>2</th>\n",
              "      <td>#Covid19</td>\n",
              "      <td>5</td>\n",
              "    </tr>\n",
              "    <tr>\n",
              "      <th>20</th>\n",
              "      <td>#Vaccine</td>\n",
              "      <td>4</td>\n",
              "    </tr>\n",
              "    <tr>\n",
              "      <th>22</th>\n",
              "      <td>#CCP</td>\n",
              "      <td>3</td>\n",
              "    </tr>\n",
              "    <tr>\n",
              "      <th>25</th>\n",
              "      <td>#covid19</td>\n",
              "      <td>2</td>\n",
              "    </tr>\n",
              "    <tr>\n",
              "      <th>1</th>\n",
              "      <td>#GetVaccinated</td>\n",
              "      <td>2</td>\n",
              "    </tr>\n",
              "    <tr>\n",
              "      <th>9</th>\n",
              "      <td>#auspol</td>\n",
              "      <td>2</td>\n",
              "    </tr>\n",
              "    <tr>\n",
              "      <th>30</th>\n",
              "      <td>#AI</td>\n",
              "      <td>2</td>\n",
              "    </tr>\n",
              "    <tr>\n",
              "      <th>31</th>\n",
              "      <td>#leadership</td>\n",
              "      <td>1</td>\n",
              "    </tr>\n",
              "    <tr>\n",
              "      <th>26</th>\n",
              "      <td>#abstract</td>\n",
              "      <td>1</td>\n",
              "    </tr>\n",
              "    <tr>\n",
              "      <th>27</th>\n",
              "      <td>#art</td>\n",
              "      <td>1</td>\n",
              "    </tr>\n",
              "    <tr>\n",
              "      <th>28</th>\n",
              "      <td>#loose</td>\n",
              "      <td>1</td>\n",
              "    </tr>\n",
              "    <tr>\n",
              "      <th>29</th>\n",
              "      <td>#vaccines</td>\n",
              "      <td>1</td>\n",
              "    </tr>\n",
              "    <tr>\n",
              "      <th>0</th>\n",
              "      <td>#HarGharDastak</td>\n",
              "      <td>1</td>\n",
              "    </tr>\n",
              "    <tr>\n",
              "      <th>32</th>\n",
              "      <td>#GeniouxMG</td>\n",
              "      <td>1</td>\n",
              "    </tr>\n",
              "    <tr>\n",
              "      <th>24</th>\n",
              "      <td>#stayhome</td>\n",
              "      <td>1</td>\n",
              "    </tr>\n",
              "    <tr>\n",
              "      <th>34</th>\n",
              "      <td>#Growth</td>\n",
              "      <td>1</td>\n",
              "    </tr>\n",
              "    <tr>\n",
              "      <th>35</th>\n",
              "      <td>#treasure</td>\n",
              "      <td>1</td>\n",
              "    </tr>\n",
              "    <tr>\n",
              "      <th>36</th>\n",
              "      <td>#GK</td>\n",
              "      <td>1</td>\n",
              "    </tr>\n",
              "    <tr>\n",
              "      <th>37</th>\n",
              "      <td>#GKPath</td>\n",
              "      <td>1</td>\n",
              "    </tr>\n",
              "    <tr>\n",
              "      <th>38</th>\n",
              "      <td>#PDT</td>\n",
              "      <td>1</td>\n",
              "    </tr>\n",
              "    <tr>\n",
              "      <th>39</th>\n",
              "      <td>#DT</td>\n",
              "      <td>1</td>\n",
              "    </tr>\n",
              "    <tr>\n",
              "      <th>40</th>\n",
              "      <td>#GetVaccinatedNow</td>\n",
              "      <td>1</td>\n",
              "    </tr>\n",
              "    <tr>\n",
              "      <th>33</th>\n",
              "      <td>#learning</td>\n",
              "      <td>1</td>\n",
              "    </tr>\n",
              "    <tr>\n",
              "      <th>21</th>\n",
              "      <td>#Unite2FightCorona</td>\n",
              "      <td>1</td>\n",
              "    </tr>\n",
              "    <tr>\n",
              "      <th>23</th>\n",
              "      <td>#armyoflovers</td>\n",
              "      <td>1</td>\n",
              "    </tr>\n",
              "    <tr>\n",
              "      <th>11</th>\n",
              "      <td>#Coronavirus</td>\n",
              "      <td>1</td>\n",
              "    </tr>\n",
              "    <tr>\n",
              "      <th>4</th>\n",
              "      <td>#Britain</td>\n",
              "      <td>1</td>\n",
              "    </tr>\n",
              "    <tr>\n",
              "      <th>5</th>\n",
              "      <td>#brexit</td>\n",
              "      <td>1</td>\n",
              "    </tr>\n",
              "    <tr>\n",
              "      <th>6</th>\n",
              "      <td>#BorisHasFailedBritain</td>\n",
              "      <td>1</td>\n",
              "    </tr>\n",
              "    <tr>\n",
              "      <th>7</th>\n",
              "      <td>#BorisJohnson</td>\n",
              "      <td>1</td>\n",
              "    </tr>\n",
              "    <tr>\n",
              "      <th>8</th>\n",
              "      <td>#FennaTugemebwe</td>\n",
              "      <td>1</td>\n",
              "    </tr>\n",
              "    <tr>\n",
              "      <th>10</th>\n",
              "      <td>#insiders</td>\n",
              "      <td>1</td>\n",
              "    </tr>\n",
              "    <tr>\n",
              "      <th>12</th>\n",
              "      <td>#leronlimab</td>\n",
              "      <td>1</td>\n",
              "    </tr>\n",
              "    <tr>\n",
              "      <th>19</th>\n",
              "      <td>#VaccineCentury</td>\n",
              "      <td>1</td>\n",
              "    </tr>\n",
              "    <tr>\n",
              "      <th>13</th>\n",
              "      <td>#zyesami</td>\n",
              "      <td>1</td>\n",
              "    </tr>\n",
              "    <tr>\n",
              "      <th>14</th>\n",
              "      <td>#vaccinated</td>\n",
              "      <td>1</td>\n",
              "    </tr>\n",
              "    <tr>\n",
              "      <th>15</th>\n",
              "      <td>#VaccinePassports</td>\n",
              "      <td>1</td>\n",
              "    </tr>\n",
              "    <tr>\n",
              "      <th>16</th>\n",
              "      <td>#Covid_19</td>\n",
              "      <td>1</td>\n",
              "    </tr>\n",
              "    <tr>\n",
              "      <th>17</th>\n",
              "      <td>#HoldTheLine</td>\n",
              "      <td>1</td>\n",
              "    </tr>\n",
              "    <tr>\n",
              "      <th>18</th>\n",
              "      <td>#vaccination</td>\n",
              "      <td>1</td>\n",
              "    </tr>\n",
              "    <tr>\n",
              "      <th>41</th>\n",
              "      <td>#Companies</td>\n",
              "      <td>1</td>\n",
              "    </tr>\n",
              "  </tbody>\n",
              "</table>\n",
              "</div>"
            ],
            "text/plain": [
              "                   Hashtag  Count\n",
              "3                 #COVID19     34\n",
              "2                 #Covid19      5\n",
              "20                #Vaccine      4\n",
              "22                    #CCP      3\n",
              "25                #covid19      2\n",
              "1           #GetVaccinated      2\n",
              "9                  #auspol      2\n",
              "30                     #AI      2\n",
              "31             #leadership      1\n",
              "26               #abstract      1\n",
              "27                    #art      1\n",
              "28                  #loose      1\n",
              "29               #vaccines      1\n",
              "0           #HarGharDastak      1\n",
              "32              #GeniouxMG      1\n",
              "24               #stayhome      1\n",
              "34                 #Growth      1\n",
              "35               #treasure      1\n",
              "36                     #GK      1\n",
              "37                 #GKPath      1\n",
              "38                    #PDT      1\n",
              "39                     #DT      1\n",
              "40       #GetVaccinatedNow      1\n",
              "33               #learning      1\n",
              "21      #Unite2FightCorona      1\n",
              "23           #armyoflovers      1\n",
              "11            #Coronavirus      1\n",
              "4                 #Britain      1\n",
              "5                  #brexit      1\n",
              "6   #BorisHasFailedBritain      1\n",
              "7            #BorisJohnson      1\n",
              "8          #FennaTugemebwe      1\n",
              "10               #insiders      1\n",
              "12             #leronlimab      1\n",
              "19         #VaccineCentury      1\n",
              "13                #zyesami      1\n",
              "14             #vaccinated      1\n",
              "15       #VaccinePassports      1\n",
              "16               #Covid_19      1\n",
              "17            #HoldTheLine      1\n",
              "18            #vaccination      1\n",
              "41              #Companies      1"
            ]
          },
          "metadata": {},
          "execution_count": 24
        }
      ]
    },
    {
      "cell_type": "markdown",
      "metadata": {
        "id": "wPaVj1tj9Uw6"
      },
      "source": [
        "## Building the network"
      ]
    },
    {
      "cell_type": "markdown",
      "metadata": {
        "id": "vt2co2ep9YCd"
      },
      "source": [
        "We are going to use the networkx library, which is a Python library that enables network science analysis of the data.\n",
        "\n",
        "We are going to use it to create our network and extract edgelist from it, since we can easily import it to Gephi (a software we are going to see in visualization labs).\n",
        "\n",
        "However, it offers implemented algorithms for analysis (for example PageRank) that you can use out-of-box to analyze your network."
      ]
    },
    {
      "cell_type": "markdown",
      "metadata": {
        "id": "gnd62ng6-GLW"
      },
      "source": [
        "But first, we will loop through our dataframe and connect words and hashtags if they appear together in the same Tweet."
      ]
    },
    {
      "cell_type": "code",
      "metadata": {
        "id": "BooMyc6-1JWa"
      },
      "source": [
        "import itertools\n",
        "import networkx as nx"
      ],
      "execution_count": 25,
      "outputs": []
    },
    {
      "cell_type": "code",
      "metadata": {
        "id": "adLbCz86M7SR"
      },
      "source": [
        "uh = unique_hashtags.keys()\n",
        "uw = unique_words.keys()  "
      ],
      "execution_count": 26,
      "outputs": []
    },
    {
      "cell_type": "code",
      "metadata": {
        "id": "UHuQ3rRXOA5_"
      },
      "source": [
        "network = {}\n",
        "network_key = 0\n",
        "\n",
        "for index, row in tweets_filtered.iterrows():\n",
        "    #hashtags extracted from Tweet do not have the # sign in front of them but we will add it to differentiate hashtags from words\n",
        "    combined_list = ['#'+hashtag for hashtag in row[\"hashtags\"] if '#'+hashtag in unique_hashtags] + [word for word in str.split(row[\"clean_text\"], \" \") if word in uw]\n",
        "    #itertool product creates Cartesian product of each element in the combined list\n",
        "    for pair in itertools.product(combined_list, combined_list):\n",
        "        #exclude self-loops and count each pair only once because our graph is undirected and we do not take self-loops into account\n",
        "        if pair[0]!=pair[1] and not(pair[::-1] in network):\n",
        "            network.setdefault(pair,0)\n",
        "            network[pair] += 1 #* row[\"retweetCount\"]\n",
        "    \n",
        "network_df = pd.DataFrame.from_dict(network, orient=\"index\")"
      ],
      "execution_count": 27,
      "outputs": []
    },
    {
      "cell_type": "code",
      "metadata": {
        "id": "8uThrYGHSdEe",
        "outputId": "ca0bb3ab-4c1a-4b9b-ef6a-831bf1d678e5",
        "colab": {
          "base_uri": "https://localhost:8080/",
          "height": 424
        }
      },
      "source": [
        "network_df.reset_index(inplace=True)\n",
        "network_df.columns = [\"pair\",\"weight\"]\n",
        "network_df.sort_values(by=\"weight\",inplace=True, ascending=False)\n",
        "network_df"
      ],
      "execution_count": 28,
      "outputs": [
        {
          "output_type": "execute_result",
          "data": {
            "text/html": [
              "<div>\n",
              "<style scoped>\n",
              "    .dataframe tbody tr th:only-of-type {\n",
              "        vertical-align: middle;\n",
              "    }\n",
              "\n",
              "    .dataframe tbody tr th {\n",
              "        vertical-align: top;\n",
              "    }\n",
              "\n",
              "    .dataframe thead th {\n",
              "        text-align: right;\n",
              "    }\n",
              "</style>\n",
              "<table border=\"1\" class=\"dataframe\">\n",
              "  <thead>\n",
              "    <tr style=\"text-align: right;\">\n",
              "      <th></th>\n",
              "      <th>pair</th>\n",
              "      <th>weight</th>\n",
              "    </tr>\n",
              "  </thead>\n",
              "  <tbody>\n",
              "    <tr>\n",
              "      <th>1038</th>\n",
              "      <td>(the, to)</td>\n",
              "      <td>26</td>\n",
              "    </tr>\n",
              "    <tr>\n",
              "      <th>510</th>\n",
              "      <td>(#COVID19, the)</td>\n",
              "      <td>24</td>\n",
              "    </tr>\n",
              "    <tr>\n",
              "      <th>1947</th>\n",
              "      <td>(the, this)</td>\n",
              "      <td>17</td>\n",
              "    </tr>\n",
              "    <tr>\n",
              "      <th>1307</th>\n",
              "      <td>(covid19, the)</td>\n",
              "      <td>16</td>\n",
              "    </tr>\n",
              "    <tr>\n",
              "      <th>352</th>\n",
              "      <td>(is, a)</td>\n",
              "      <td>16</td>\n",
              "    </tr>\n",
              "    <tr>\n",
              "      <th>...</th>\n",
              "      <td>...</td>\n",
              "      <td>...</td>\n",
              "    </tr>\n",
              "    <tr>\n",
              "      <th>3591</th>\n",
              "      <td>(chronic, sack)</td>\n",
              "      <td>1</td>\n",
              "    </tr>\n",
              "    <tr>\n",
              "      <th>3590</th>\n",
              "      <td>(chronic, move)</td>\n",
              "      <td>1</td>\n",
              "    </tr>\n",
              "    <tr>\n",
              "      <th>3589</th>\n",
              "      <td>(chronic, the)</td>\n",
              "      <td>1</td>\n",
              "    </tr>\n",
              "    <tr>\n",
              "      <th>3588</th>\n",
              "      <td>(chronic, feared)</td>\n",
              "      <td>1</td>\n",
              "    </tr>\n",
              "    <tr>\n",
              "      <th>9855</th>\n",
              "      <td>(else, pr…)</td>\n",
              "      <td>1</td>\n",
              "    </tr>\n",
              "  </tbody>\n",
              "</table>\n",
              "<p>9856 rows × 2 columns</p>\n",
              "</div>"
            ],
            "text/plain": [
              "                   pair  weight\n",
              "1038          (the, to)      26\n",
              "510     (#COVID19, the)      24\n",
              "1947        (the, this)      17\n",
              "1307     (covid19, the)      16\n",
              "352             (is, a)      16\n",
              "...                 ...     ...\n",
              "3591    (chronic, sack)       1\n",
              "3590    (chronic, move)       1\n",
              "3589     (chronic, the)       1\n",
              "3588  (chronic, feared)       1\n",
              "9855        (else, pr…)       1\n",
              "\n",
              "[9856 rows x 2 columns]"
            ]
          },
          "metadata": {},
          "execution_count": 28
        }
      ]
    },
    {
      "cell_type": "code",
      "metadata": {
        "id": "NJvNvzGXy8Kg",
        "scrolled": false
      },
      "source": [
        "#to get weighted graph we need a list of 3-element tuplels (u,v,w) where u and v are nodes and w is a number representing weight\n",
        "up_weighted = []\n",
        "for edge in network:\n",
        "    #we can filter edges by weight by uncommenting the next line and setting desired weight threshold\n",
        "    #if(network[edge])>1:\n",
        "    up_weighted.append((edge[0],edge[1],network[edge]))\n",
        "\n",
        "G = nx.Graph()\n",
        "G.add_weighted_edges_from(up_weighted)"
      ],
      "execution_count": 29,
      "outputs": []
    },
    {
      "cell_type": "code",
      "metadata": {
        "id": "eSneLIqZNvt1",
        "outputId": "6cdc2405-d789-4901-b0a2-d232b4a12ddf",
        "colab": {
          "base_uri": "https://localhost:8080/"
        }
      },
      "source": [
        "print(len(G.nodes()))\n",
        "print(len(G.edges()))"
      ],
      "execution_count": 30,
      "outputs": [
        {
          "output_type": "stream",
          "name": "stdout",
          "text": [
            "796\n",
            "9856\n"
          ]
        }
      ]
    },
    {
      "cell_type": "markdown",
      "metadata": {
        "id": "Mj3CwR5Cy8Kk"
      },
      "source": [
        "#### SAVE EDGELIST"
      ]
    },
    {
      "cell_type": "code",
      "metadata": {
        "id": "fFtpm869ONHg"
      },
      "source": [
        "filename = \"./edgelist.csv\""
      ],
      "execution_count": 31,
      "outputs": []
    },
    {
      "cell_type": "code",
      "metadata": {
        "id": "PTmGSBc3y8Kn"
      },
      "source": [
        "nx.write_weighted_edgelist(G, filename, delimiter=\",\")"
      ],
      "execution_count": 32,
      "outputs": []
    },
    {
      "cell_type": "code",
      "metadata": {
        "id": "GlboURoYy8Kp"
      },
      "source": [
        "#add header with appropriate column names (works on collab and Linux/Mac(?))\n",
        "!sed -i.bak 1i\"Source,Target,Weight\" ./edgelist.csv"
      ],
      "execution_count": 33,
      "outputs": []
    },
    {
      "cell_type": "markdown",
      "metadata": {
        "id": "e5oT2lSry8Kq"
      },
      "source": [
        "### Create Node List\n"
      ]
    },
    {
      "cell_type": "code",
      "metadata": {
        "id": "lpef5RKvUu_w",
        "outputId": "c6375603-9678-4863-f4d5-1d379d71786c",
        "colab": {
          "base_uri": "https://localhost:8080/",
          "height": 424
        }
      },
      "source": [
        "word_nodes = pd.DataFrame.from_dict(unique_words,orient=\"index\")\n",
        "word_nodes.reset_index(inplace=True)\n",
        "word_nodes[\"Label\"] = word_nodes[\"index\"]\n",
        "word_nodes.rename(columns={\"index\":\"Id\",0:\"delete\"},inplace=True)\n",
        "word_nodes = word_nodes.drop(columns=['delete'])\n",
        "\n",
        "word_nodes"
      ],
      "execution_count": 34,
      "outputs": [
        {
          "output_type": "execute_result",
          "data": {
            "text/html": [
              "<div>\n",
              "<style scoped>\n",
              "    .dataframe tbody tr th:only-of-type {\n",
              "        vertical-align: middle;\n",
              "    }\n",
              "\n",
              "    .dataframe tbody tr th {\n",
              "        vertical-align: top;\n",
              "    }\n",
              "\n",
              "    .dataframe thead th {\n",
              "        text-align: right;\n",
              "    }\n",
              "</style>\n",
              "<table border=\"1\" class=\"dataframe\">\n",
              "  <thead>\n",
              "    <tr style=\"text-align: right;\">\n",
              "      <th></th>\n",
              "      <th>Id</th>\n",
              "      <th>Label</th>\n",
              "    </tr>\n",
              "  </thead>\n",
              "  <tbody>\n",
              "    <tr>\n",
              "      <th>0</th>\n",
              "      <td>appreciate</td>\n",
              "      <td>appreciate</td>\n",
              "    </tr>\n",
              "    <tr>\n",
              "      <th>1</th>\n",
              "      <td>mos</td>\n",
              "      <td>mos</td>\n",
              "    </tr>\n",
              "    <tr>\n",
              "      <th>2</th>\n",
              "      <td>jis</td>\n",
              "      <td>jis</td>\n",
              "    </tr>\n",
              "    <tr>\n",
              "      <th>3</th>\n",
              "      <td>initiative</td>\n",
              "      <td>initiative</td>\n",
              "    </tr>\n",
              "    <tr>\n",
              "      <th>4</th>\n",
              "      <td>to</td>\n",
              "      <td>to</td>\n",
              "    </tr>\n",
              "    <tr>\n",
              "      <th>...</th>\n",
              "      <td>...</td>\n",
              "      <td>...</td>\n",
              "    </tr>\n",
              "    <tr>\n",
              "      <th>749</th>\n",
              "      <td>attention</td>\n",
              "      <td>attention</td>\n",
              "    </tr>\n",
              "    <tr>\n",
              "      <th>750</th>\n",
              "      <td>science</td>\n",
              "      <td>science</td>\n",
              "    </tr>\n",
              "    <tr>\n",
              "      <th>751</th>\n",
              "      <td>ya</td>\n",
              "      <td>ya</td>\n",
              "    </tr>\n",
              "    <tr>\n",
              "      <th>752</th>\n",
              "      <td>else</td>\n",
              "      <td>else</td>\n",
              "    </tr>\n",
              "    <tr>\n",
              "      <th>753</th>\n",
              "      <td>pr…</td>\n",
              "      <td>pr…</td>\n",
              "    </tr>\n",
              "  </tbody>\n",
              "</table>\n",
              "<p>754 rows × 2 columns</p>\n",
              "</div>"
            ],
            "text/plain": [
              "             Id       Label\n",
              "0    appreciate  appreciate\n",
              "1           mos         mos\n",
              "2           jis         jis\n",
              "3    initiative  initiative\n",
              "4            to          to\n",
              "..          ...         ...\n",
              "749   attention   attention\n",
              "750     science     science\n",
              "751          ya          ya\n",
              "752        else        else\n",
              "753         pr…         pr…\n",
              "\n",
              "[754 rows x 2 columns]"
            ]
          },
          "metadata": {},
          "execution_count": 34
        }
      ]
    },
    {
      "cell_type": "code",
      "metadata": {
        "id": "ZMdIcS4my8Ks",
        "outputId": "1f6b78f8-0fee-4aea-d1bc-4b2a1ba9864b",
        "colab": {
          "base_uri": "https://localhost:8080/",
          "height": 1000
        }
      },
      "source": [
        "hashtag_nodes = uh_df.copy()\n",
        "hashtag_nodes[\"Label\"] = hashtag_nodes[\"Hashtag\"]\n",
        "hashtag_nodes.rename(columns={\"Hashtag\":\"Id\"},inplace=True)\n",
        "hashtag_nodes = hashtag_nodes.drop(columns=['Count'])\n",
        "hashtag_nodes"
      ],
      "execution_count": 35,
      "outputs": [
        {
          "output_type": "execute_result",
          "data": {
            "text/html": [
              "<div>\n",
              "<style scoped>\n",
              "    .dataframe tbody tr th:only-of-type {\n",
              "        vertical-align: middle;\n",
              "    }\n",
              "\n",
              "    .dataframe tbody tr th {\n",
              "        vertical-align: top;\n",
              "    }\n",
              "\n",
              "    .dataframe thead th {\n",
              "        text-align: right;\n",
              "    }\n",
              "</style>\n",
              "<table border=\"1\" class=\"dataframe\">\n",
              "  <thead>\n",
              "    <tr style=\"text-align: right;\">\n",
              "      <th></th>\n",
              "      <th>Id</th>\n",
              "      <th>Label</th>\n",
              "    </tr>\n",
              "  </thead>\n",
              "  <tbody>\n",
              "    <tr>\n",
              "      <th>0</th>\n",
              "      <td>#HarGharDastak</td>\n",
              "      <td>#HarGharDastak</td>\n",
              "    </tr>\n",
              "    <tr>\n",
              "      <th>1</th>\n",
              "      <td>#GetVaccinated</td>\n",
              "      <td>#GetVaccinated</td>\n",
              "    </tr>\n",
              "    <tr>\n",
              "      <th>2</th>\n",
              "      <td>#Covid19</td>\n",
              "      <td>#Covid19</td>\n",
              "    </tr>\n",
              "    <tr>\n",
              "      <th>3</th>\n",
              "      <td>#COVID19</td>\n",
              "      <td>#COVID19</td>\n",
              "    </tr>\n",
              "    <tr>\n",
              "      <th>4</th>\n",
              "      <td>#Britain</td>\n",
              "      <td>#Britain</td>\n",
              "    </tr>\n",
              "    <tr>\n",
              "      <th>5</th>\n",
              "      <td>#brexit</td>\n",
              "      <td>#brexit</td>\n",
              "    </tr>\n",
              "    <tr>\n",
              "      <th>6</th>\n",
              "      <td>#BorisHasFailedBritain</td>\n",
              "      <td>#BorisHasFailedBritain</td>\n",
              "    </tr>\n",
              "    <tr>\n",
              "      <th>7</th>\n",
              "      <td>#BorisJohnson</td>\n",
              "      <td>#BorisJohnson</td>\n",
              "    </tr>\n",
              "    <tr>\n",
              "      <th>8</th>\n",
              "      <td>#FennaTugemebwe</td>\n",
              "      <td>#FennaTugemebwe</td>\n",
              "    </tr>\n",
              "    <tr>\n",
              "      <th>9</th>\n",
              "      <td>#auspol</td>\n",
              "      <td>#auspol</td>\n",
              "    </tr>\n",
              "    <tr>\n",
              "      <th>10</th>\n",
              "      <td>#insiders</td>\n",
              "      <td>#insiders</td>\n",
              "    </tr>\n",
              "    <tr>\n",
              "      <th>11</th>\n",
              "      <td>#Coronavirus</td>\n",
              "      <td>#Coronavirus</td>\n",
              "    </tr>\n",
              "    <tr>\n",
              "      <th>12</th>\n",
              "      <td>#leronlimab</td>\n",
              "      <td>#leronlimab</td>\n",
              "    </tr>\n",
              "    <tr>\n",
              "      <th>13</th>\n",
              "      <td>#zyesami</td>\n",
              "      <td>#zyesami</td>\n",
              "    </tr>\n",
              "    <tr>\n",
              "      <th>14</th>\n",
              "      <td>#vaccinated</td>\n",
              "      <td>#vaccinated</td>\n",
              "    </tr>\n",
              "    <tr>\n",
              "      <th>15</th>\n",
              "      <td>#VaccinePassports</td>\n",
              "      <td>#VaccinePassports</td>\n",
              "    </tr>\n",
              "    <tr>\n",
              "      <th>16</th>\n",
              "      <td>#Covid_19</td>\n",
              "      <td>#Covid_19</td>\n",
              "    </tr>\n",
              "    <tr>\n",
              "      <th>17</th>\n",
              "      <td>#HoldTheLine</td>\n",
              "      <td>#HoldTheLine</td>\n",
              "    </tr>\n",
              "    <tr>\n",
              "      <th>18</th>\n",
              "      <td>#vaccination</td>\n",
              "      <td>#vaccination</td>\n",
              "    </tr>\n",
              "    <tr>\n",
              "      <th>19</th>\n",
              "      <td>#VaccineCentury</td>\n",
              "      <td>#VaccineCentury</td>\n",
              "    </tr>\n",
              "    <tr>\n",
              "      <th>20</th>\n",
              "      <td>#Vaccine</td>\n",
              "      <td>#Vaccine</td>\n",
              "    </tr>\n",
              "    <tr>\n",
              "      <th>21</th>\n",
              "      <td>#Unite2FightCorona</td>\n",
              "      <td>#Unite2FightCorona</td>\n",
              "    </tr>\n",
              "    <tr>\n",
              "      <th>22</th>\n",
              "      <td>#CCP</td>\n",
              "      <td>#CCP</td>\n",
              "    </tr>\n",
              "    <tr>\n",
              "      <th>23</th>\n",
              "      <td>#armyoflovers</td>\n",
              "      <td>#armyoflovers</td>\n",
              "    </tr>\n",
              "    <tr>\n",
              "      <th>24</th>\n",
              "      <td>#stayhome</td>\n",
              "      <td>#stayhome</td>\n",
              "    </tr>\n",
              "    <tr>\n",
              "      <th>25</th>\n",
              "      <td>#covid19</td>\n",
              "      <td>#covid19</td>\n",
              "    </tr>\n",
              "    <tr>\n",
              "      <th>26</th>\n",
              "      <td>#abstract</td>\n",
              "      <td>#abstract</td>\n",
              "    </tr>\n",
              "    <tr>\n",
              "      <th>27</th>\n",
              "      <td>#art</td>\n",
              "      <td>#art</td>\n",
              "    </tr>\n",
              "    <tr>\n",
              "      <th>28</th>\n",
              "      <td>#loose</td>\n",
              "      <td>#loose</td>\n",
              "    </tr>\n",
              "    <tr>\n",
              "      <th>29</th>\n",
              "      <td>#vaccines</td>\n",
              "      <td>#vaccines</td>\n",
              "    </tr>\n",
              "    <tr>\n",
              "      <th>30</th>\n",
              "      <td>#AI</td>\n",
              "      <td>#AI</td>\n",
              "    </tr>\n",
              "    <tr>\n",
              "      <th>31</th>\n",
              "      <td>#leadership</td>\n",
              "      <td>#leadership</td>\n",
              "    </tr>\n",
              "    <tr>\n",
              "      <th>32</th>\n",
              "      <td>#GeniouxMG</td>\n",
              "      <td>#GeniouxMG</td>\n",
              "    </tr>\n",
              "    <tr>\n",
              "      <th>33</th>\n",
              "      <td>#learning</td>\n",
              "      <td>#learning</td>\n",
              "    </tr>\n",
              "    <tr>\n",
              "      <th>34</th>\n",
              "      <td>#Growth</td>\n",
              "      <td>#Growth</td>\n",
              "    </tr>\n",
              "    <tr>\n",
              "      <th>35</th>\n",
              "      <td>#treasure</td>\n",
              "      <td>#treasure</td>\n",
              "    </tr>\n",
              "    <tr>\n",
              "      <th>36</th>\n",
              "      <td>#GK</td>\n",
              "      <td>#GK</td>\n",
              "    </tr>\n",
              "    <tr>\n",
              "      <th>37</th>\n",
              "      <td>#GKPath</td>\n",
              "      <td>#GKPath</td>\n",
              "    </tr>\n",
              "    <tr>\n",
              "      <th>38</th>\n",
              "      <td>#PDT</td>\n",
              "      <td>#PDT</td>\n",
              "    </tr>\n",
              "    <tr>\n",
              "      <th>39</th>\n",
              "      <td>#DT</td>\n",
              "      <td>#DT</td>\n",
              "    </tr>\n",
              "    <tr>\n",
              "      <th>40</th>\n",
              "      <td>#GetVaccinatedNow</td>\n",
              "      <td>#GetVaccinatedNow</td>\n",
              "    </tr>\n",
              "    <tr>\n",
              "      <th>41</th>\n",
              "      <td>#Companies</td>\n",
              "      <td>#Companies</td>\n",
              "    </tr>\n",
              "  </tbody>\n",
              "</table>\n",
              "</div>"
            ],
            "text/plain": [
              "                        Id                   Label\n",
              "0           #HarGharDastak          #HarGharDastak\n",
              "1           #GetVaccinated          #GetVaccinated\n",
              "2                 #Covid19                #Covid19\n",
              "3                 #COVID19                #COVID19\n",
              "4                 #Britain                #Britain\n",
              "5                  #brexit                 #brexit\n",
              "6   #BorisHasFailedBritain  #BorisHasFailedBritain\n",
              "7            #BorisJohnson           #BorisJohnson\n",
              "8          #FennaTugemebwe         #FennaTugemebwe\n",
              "9                  #auspol                 #auspol\n",
              "10               #insiders               #insiders\n",
              "11            #Coronavirus            #Coronavirus\n",
              "12             #leronlimab             #leronlimab\n",
              "13                #zyesami                #zyesami\n",
              "14             #vaccinated             #vaccinated\n",
              "15       #VaccinePassports       #VaccinePassports\n",
              "16               #Covid_19               #Covid_19\n",
              "17            #HoldTheLine            #HoldTheLine\n",
              "18            #vaccination            #vaccination\n",
              "19         #VaccineCentury         #VaccineCentury\n",
              "20                #Vaccine                #Vaccine\n",
              "21      #Unite2FightCorona      #Unite2FightCorona\n",
              "22                    #CCP                    #CCP\n",
              "23           #armyoflovers           #armyoflovers\n",
              "24               #stayhome               #stayhome\n",
              "25                #covid19                #covid19\n",
              "26               #abstract               #abstract\n",
              "27                    #art                    #art\n",
              "28                  #loose                  #loose\n",
              "29               #vaccines               #vaccines\n",
              "30                     #AI                     #AI\n",
              "31             #leadership             #leadership\n",
              "32              #GeniouxMG              #GeniouxMG\n",
              "33               #learning               #learning\n",
              "34                 #Growth                 #Growth\n",
              "35               #treasure               #treasure\n",
              "36                     #GK                     #GK\n",
              "37                 #GKPath                 #GKPath\n",
              "38                    #PDT                    #PDT\n",
              "39                     #DT                     #DT\n",
              "40       #GetVaccinatedNow       #GetVaccinatedNow\n",
              "41              #Companies              #Companies"
            ]
          },
          "metadata": {},
          "execution_count": 35
        }
      ]
    },
    {
      "cell_type": "markdown",
      "metadata": {
        "id": "BHZHIG18ye0F"
      },
      "source": [
        "#### SAVE NODELIST"
      ]
    },
    {
      "cell_type": "code",
      "metadata": {
        "id": "PpE0P0cIU2OD"
      },
      "source": [
        "nodelist = hashtag_nodes.append(word_nodes, ignore_index=True)\n",
        "\n",
        "nodelist.to_csv(\"nodelist.csv\",index=False)"
      ],
      "execution_count": 36,
      "outputs": []
    },
    {
      "cell_type": "markdown",
      "metadata": {
        "id": "ryR3LiMVB-70"
      },
      "source": [
        "Tasks: \n",
        "\n",
        "*   Extract username of user who posted the tweet into a column \"screen_name\". Follow the procedure we used to get the hashtags.\n",
        "*   Create a network of users using the mention relation. Is this a directed or undirected graph?\n",
        "*   We created a network where nodes are mixed (both words and hashtags). Create network of words only and one of hashtags only.\n",
        "* Pick one of these network and rank the nodes using PageRank centrality. Extract information about top-20 rated nodes.\n",
        "\n",
        "\n",
        "\n"
      ]
    }
  ]
}